{
 "cells": [
  {
   "metadata": {
    "ExecuteTime": {
     "end_time": "2025-05-14T03:22:08.010192Z",
     "start_time": "2025-05-14T03:22:06.910388Z"
    }
   },
   "cell_type": "code",
   "source": [
    "import sys\n",
    "sys.path.append('..')\n",
    "import models_utils\n",
    "import warnings\n",
    "warnings.filterwarnings(\"ignore\")\n",
    "from time import sleep"
   ],
   "id": "a4feecc2761ce06c",
   "outputs": [],
   "execution_count": 1
  },
  {
   "metadata": {
    "ExecuteTime": {
     "end_time": "2025-05-14T03:22:08.445910Z",
     "start_time": "2025-05-14T03:22:08.030635Z"
    }
   },
   "cell_type": "code",
   "source": [
    "import numpy\n",
    "import pmdarima\n",
    "print(\"numpy:\", numpy.__version__)\n",
    "print(\"pmdarima:\", pmdarima.__version__)\n"
   ],
   "id": "fcd02fcc05d6054f",
   "outputs": [
    {
     "name": "stdout",
     "output_type": "stream",
     "text": [
      "numpy: 1.26.4\n",
      "pmdarima: 2.0.4\n"
     ]
    }
   ],
   "execution_count": 2
  },
  {
   "metadata": {
    "ExecuteTime": {
     "end_time": "2025-05-14T03:22:18.770444Z",
     "start_time": "2025-05-14T03:22:18.764131Z"
    }
   },
   "cell_type": "code",
   "source": [
    "from statsmodels.tsa.arima.model import ARIMA\n",
    "from sklearn.metrics import mean_absolute_error, mean_squared_error\n",
    "import pandas as pd\n",
    "import pmdarima as pm\n",
    "import warnings\n",
    "\n",
    "def train_ARIMA_n_ahead(data, target, date_col, year_test_start, n_ahead=1, auto_arima=True, arima_order=(1, 1, 1), min_predictions=104):\n",
    "    # Suppress convergence warnings for cleaner output\n",
    "    warnings.filterwarnings(\"ignore\")\n",
    "\n",
    "    # Convert and sort dates\n",
    "    data[date_col] = pd.to_datetime(data[date_col])\n",
    "    data = data.sort_values(by=date_col).reset_index(drop=True)\n",
    "\n",
    "    # Resample weekly, fill gaps\n",
    "    data.set_index(date_col, inplace=True)\n",
    "    data = data.asfreq('W-MON')\n",
    "    data[target] = data[target].ffill()\n",
    "\n",
    "    if data[target].isna().sum() > 0:\n",
    "        print(\"Warning: Missing data remains after resampling.\")\n",
    "        return [], None, None\n",
    "\n",
    "    series = data[[target]]\n",
    "\n",
    "    # Train-test split\n",
    "    train = series[series.index < year_test_start]\n",
    "    test = series[(series.index >= year_test_start) &\n",
    "                  (series.index <= str(pd.to_datetime(\"2024-12-31\") - pd.DateOffset(weeks=n_ahead)))]\n",
    "\n",
    "    if train.empty or test.empty:\n",
    "        print(\"Train or test dataset is empty. Check your date range.\")\n",
    "        return [], None, None\n",
    "\n",
    "    test_dates = test.index[:]\n",
    "    if len(test_dates) < min_predictions:\n",
    "        print(f\"Not enough test dates to make {min_predictions} predictions. Only {len(test_dates)} available.\")\n",
    "        return [], None, None\n",
    "\n",
    "    predictions = []\n",
    "    actuals = []\n",
    "\n",
    "    for current_date in test_dates:\n",
    "\n",
    "        try:\n",
    "            current_loc = series.index.get_loc(current_date)\n",
    "            train_series = series.iloc[:current_loc+1][target]\n",
    "\n",
    "            if auto_arima:\n",
    "                # Automatically determine ARIMA order using Hyndman-Khandakar algorithm\n",
    "                stepwise_model = pm.auto_arima(train_series, seasonal=True, error_action='ignore', suppress_warnings=True)\n",
    "                arima_order = stepwise_model.order\n",
    "\n",
    "            model = ARIMA(train_series, order=arima_order)\n",
    "            fitted_model = model.fit()\n",
    "\n",
    "            prediction_date = pd.to_datetime(current_date) + pd.DateOffset(weeks=n_ahead)\n",
    "            forecast = fitted_model.forecast(steps=n_ahead)\n",
    "            predicted_value = forecast[-1]\n",
    "\n",
    "            actual_value = series.loc[current_date][target]\n",
    "            predictions.append(predicted_value)\n",
    "            actuals.append(round(actual_value))\n",
    "\n",
    "        except Exception as e:\n",
    "            print(f\"Error at {current_date}: {e}\")\n",
    "\n",
    "    predictions = predictions[:min_predictions]\n",
    "    actuals = actuals[:min_predictions]\n",
    "\n",
    "    # Evaluation\n",
    "    MAE = mean_absolute_error(actuals, predictions)\n",
    "    MSE = mean_squared_error(actuals, predictions)\n",
    "\n",
    "    return predictions, MAE, MSE\n",
    "\n"
   ],
   "id": "545d20defc3154cd",
   "outputs": [],
   "execution_count": 3
  },
  {
   "metadata": {
    "ExecuteTime": {
     "end_time": "2025-05-14T03:22:19.310484Z",
     "start_time": "2025-05-14T03:22:19.308580Z"
    }
   },
   "cell_type": "code",
   "source": "",
   "id": "d288ed746a0c7259",
   "outputs": [],
   "execution_count": null
  },
  {
   "metadata": {
    "ExecuteTime": {
     "end_time": "2025-05-14T03:22:19.612181Z",
     "start_time": "2025-05-14T03:22:19.608516Z"
    }
   },
   "cell_type": "code",
   "source": [
    "municipals = []\n",
    "with (open(\"../municipals.txt\", \"r\") as f):\n",
    "    for line in f:\n",
    "        municipals.append(line.strip())"
   ],
   "id": "341515ece959b5af",
   "outputs": [],
   "execution_count": 4
  },
  {
   "metadata": {
    "ExecuteTime": {
     "end_time": "2025-05-14T05:43:16.701631Z",
     "start_time": "2025-05-14T03:22:37.174504Z"
    }
   },
   "cell_type": "code",
   "source": [
    "n_weeks_ahead = [1,2,3,4,5,6,7,8,9,10,11,12]\n",
    "for municipal in municipals:\n",
    "    print(municipal)\n",
    "    municipal_df = pd.read_csv(f\"../../data/Merged Data/{municipal}_merged.csv\")\n",
    "    municipal_df[\"Year-Week\"] = pd.to_datetime(municipal_df[\"Year-Week\"])\n",
    "    for n in n_weeks_ahead:\n",
    "        # minus n_week for 2023-01-01\n",
    "        n_date = pd.to_datetime(\"2023-01-02\") - pd.DateOffset(weeks=n)\n",
    "        print(n_date)\n",
    "        predicted, MAE, MSE = train_ARIMA_n_ahead(municipal_df, target=\"Cases\", n_ahead = n, date_col=\"Year-Week\", year_test_start=n_date, auto_arima=False, arima_order=(12,0,0))\n",
    "        models_utils.save_data(municipal, n, MSE, MAE, predicted, municipal_df, type=\"(12,0,0)\")"
   ],
   "id": "565cd1e8509ac329",
   "outputs": [
    {
     "name": "stdout",
     "output_type": "stream",
     "text": [
      "Ajuy\n",
      "2022-12-26 00:00:00\n",
      "2022-12-19 00:00:00\n",
      "2022-12-12 00:00:00\n",
      "2022-12-05 00:00:00\n",
      "2022-11-28 00:00:00\n",
      "2022-11-21 00:00:00\n",
      "2022-11-14 00:00:00\n",
      "2022-11-07 00:00:00\n",
      "2022-10-31 00:00:00\n",
      "2022-10-24 00:00:00\n",
      "2022-10-17 00:00:00\n",
      "2022-10-10 00:00:00\n",
      "Alimodian\n",
      "2022-12-26 00:00:00\n",
      "2022-12-19 00:00:00\n",
      "2022-12-12 00:00:00\n",
      "2022-12-05 00:00:00\n",
      "2022-11-28 00:00:00\n",
      "2022-11-21 00:00:00\n",
      "2022-11-14 00:00:00\n",
      "2022-11-07 00:00:00\n",
      "2022-10-31 00:00:00\n",
      "2022-10-24 00:00:00\n",
      "2022-10-17 00:00:00\n",
      "2022-10-10 00:00:00\n",
      "Anilao\n",
      "2022-12-26 00:00:00\n",
      "2022-12-19 00:00:00\n",
      "2022-12-12 00:00:00\n",
      "2022-12-05 00:00:00\n",
      "2022-11-28 00:00:00\n",
      "2022-11-21 00:00:00\n",
      "2022-11-14 00:00:00\n",
      "2022-11-07 00:00:00\n",
      "2022-10-31 00:00:00\n",
      "2022-10-24 00:00:00\n",
      "2022-10-17 00:00:00\n",
      "2022-10-10 00:00:00\n",
      "Badiangan\n",
      "2022-12-26 00:00:00\n",
      "2022-12-19 00:00:00\n",
      "2022-12-12 00:00:00\n",
      "2022-12-05 00:00:00\n",
      "2022-11-28 00:00:00\n",
      "2022-11-21 00:00:00\n",
      "2022-11-14 00:00:00\n",
      "2022-11-07 00:00:00\n",
      "2022-10-31 00:00:00\n",
      "2022-10-24 00:00:00\n",
      "2022-10-17 00:00:00\n",
      "2022-10-10 00:00:00\n",
      "Balasan\n",
      "2022-12-26 00:00:00\n",
      "2022-12-19 00:00:00\n",
      "2022-12-12 00:00:00\n",
      "2022-12-05 00:00:00\n",
      "2022-11-28 00:00:00\n",
      "2022-11-21 00:00:00\n",
      "2022-11-14 00:00:00\n",
      "2022-11-07 00:00:00\n",
      "2022-10-31 00:00:00\n",
      "2022-10-24 00:00:00\n",
      "2022-10-17 00:00:00\n",
      "2022-10-10 00:00:00\n",
      "Banate\n",
      "2022-12-26 00:00:00\n",
      "2022-12-19 00:00:00\n",
      "2022-12-12 00:00:00\n",
      "2022-12-05 00:00:00\n",
      "2022-11-28 00:00:00\n",
      "2022-11-21 00:00:00\n",
      "2022-11-14 00:00:00\n",
      "2022-11-07 00:00:00\n",
      "2022-10-31 00:00:00\n",
      "2022-10-24 00:00:00\n",
      "2022-10-17 00:00:00\n",
      "2022-10-10 00:00:00\n",
      "Barotac Nuevo\n",
      "2022-12-26 00:00:00\n",
      "2022-12-19 00:00:00\n",
      "2022-12-12 00:00:00\n",
      "2022-12-05 00:00:00\n",
      "2022-11-28 00:00:00\n",
      "2022-11-21 00:00:00\n",
      "2022-11-14 00:00:00\n",
      "2022-11-07 00:00:00\n",
      "2022-10-31 00:00:00\n",
      "2022-10-24 00:00:00\n",
      "2022-10-17 00:00:00\n",
      "2022-10-10 00:00:00\n",
      "Barotac Viejo\n",
      "2022-12-26 00:00:00\n",
      "2022-12-19 00:00:00\n",
      "2022-12-12 00:00:00\n",
      "2022-12-05 00:00:00\n",
      "2022-11-28 00:00:00\n",
      "2022-11-21 00:00:00\n",
      "2022-11-14 00:00:00\n",
      "2022-11-07 00:00:00\n",
      "2022-10-31 00:00:00\n",
      "2022-10-24 00:00:00\n",
      "2022-10-17 00:00:00\n",
      "2022-10-10 00:00:00\n",
      "Batad\n",
      "2022-12-26 00:00:00\n",
      "2022-12-19 00:00:00\n",
      "2022-12-12 00:00:00\n",
      "2022-12-05 00:00:00\n",
      "2022-11-28 00:00:00\n",
      "2022-11-21 00:00:00\n",
      "2022-11-14 00:00:00\n",
      "2022-11-07 00:00:00\n",
      "2022-10-31 00:00:00\n",
      "2022-10-24 00:00:00\n",
      "2022-10-17 00:00:00\n",
      "2022-10-10 00:00:00\n",
      "Bingawan\n",
      "2022-12-26 00:00:00\n",
      "2022-12-19 00:00:00\n"
     ]
    },
    {
     "ename": "KeyboardInterrupt",
     "evalue": "",
     "output_type": "error",
     "traceback": [
      "\u001B[0;31m---------------------------------------------------------------------------\u001B[0m",
      "\u001B[0;31mKeyboardInterrupt\u001B[0m                         Traceback (most recent call last)",
      "Cell \u001B[0;32mIn[5], line 10\u001B[0m\n\u001B[1;32m      8\u001B[0m n_date \u001B[38;5;241m=\u001B[39m pd\u001B[38;5;241m.\u001B[39mto_datetime(\u001B[38;5;124m\"\u001B[39m\u001B[38;5;124m2023-01-02\u001B[39m\u001B[38;5;124m\"\u001B[39m) \u001B[38;5;241m-\u001B[39m pd\u001B[38;5;241m.\u001B[39mDateOffset(weeks\u001B[38;5;241m=\u001B[39mn)\n\u001B[1;32m      9\u001B[0m \u001B[38;5;28mprint\u001B[39m(n_date)\n\u001B[0;32m---> 10\u001B[0m predicted, MAE, MSE \u001B[38;5;241m=\u001B[39m \u001B[43mtrain_ARIMA_n_ahead\u001B[49m\u001B[43m(\u001B[49m\u001B[43mmunicipal_df\u001B[49m\u001B[43m,\u001B[49m\u001B[43m \u001B[49m\u001B[43mtarget\u001B[49m\u001B[38;5;241;43m=\u001B[39;49m\u001B[38;5;124;43m\"\u001B[39;49m\u001B[38;5;124;43mCases\u001B[39;49m\u001B[38;5;124;43m\"\u001B[39;49m\u001B[43m,\u001B[49m\u001B[43m \u001B[49m\u001B[43mn_ahead\u001B[49m\u001B[43m \u001B[49m\u001B[38;5;241;43m=\u001B[39;49m\u001B[43m \u001B[49m\u001B[43mn\u001B[49m\u001B[43m,\u001B[49m\u001B[43m \u001B[49m\u001B[43mdate_col\u001B[49m\u001B[38;5;241;43m=\u001B[39;49m\u001B[38;5;124;43m\"\u001B[39;49m\u001B[38;5;124;43mYear-Week\u001B[39;49m\u001B[38;5;124;43m\"\u001B[39;49m\u001B[43m,\u001B[49m\u001B[43m \u001B[49m\u001B[43myear_test_start\u001B[49m\u001B[38;5;241;43m=\u001B[39;49m\u001B[43mn_date\u001B[49m\u001B[43m,\u001B[49m\u001B[43m \u001B[49m\u001B[43mauto_arima\u001B[49m\u001B[38;5;241;43m=\u001B[39;49m\u001B[38;5;28;43;01mFalse\u001B[39;49;00m\u001B[43m,\u001B[49m\u001B[43m \u001B[49m\u001B[43marima_order\u001B[49m\u001B[38;5;241;43m=\u001B[39;49m\u001B[43m(\u001B[49m\u001B[38;5;241;43m12\u001B[39;49m\u001B[43m,\u001B[49m\u001B[38;5;241;43m0\u001B[39;49m\u001B[43m,\u001B[49m\u001B[38;5;241;43m0\u001B[39;49m\u001B[43m)\u001B[49m\u001B[43m)\u001B[49m\n\u001B[1;32m     11\u001B[0m models_utils\u001B[38;5;241m.\u001B[39msave_data(municipal, n, MSE, MAE, predicted, municipal_df, \u001B[38;5;28mtype\u001B[39m\u001B[38;5;241m=\u001B[39m\u001B[38;5;124m\"\u001B[39m\u001B[38;5;124m(12,0,0)\u001B[39m\u001B[38;5;124m\"\u001B[39m)\n",
      "Cell \u001B[0;32mIn[3], line 55\u001B[0m, in \u001B[0;36mtrain_ARIMA_n_ahead\u001B[0;34m(data, target, date_col, year_test_start, n_ahead, auto_arima, arima_order, min_predictions)\u001B[0m\n\u001B[1;32m     52\u001B[0m     arima_order \u001B[38;5;241m=\u001B[39m stepwise_model\u001B[38;5;241m.\u001B[39morder\n\u001B[1;32m     54\u001B[0m model \u001B[38;5;241m=\u001B[39m ARIMA(train_series, order\u001B[38;5;241m=\u001B[39marima_order)\n\u001B[0;32m---> 55\u001B[0m fitted_model \u001B[38;5;241m=\u001B[39m \u001B[43mmodel\u001B[49m\u001B[38;5;241;43m.\u001B[39;49m\u001B[43mfit\u001B[49m\u001B[43m(\u001B[49m\u001B[43m)\u001B[49m\n\u001B[1;32m     57\u001B[0m prediction_date \u001B[38;5;241m=\u001B[39m pd\u001B[38;5;241m.\u001B[39mto_datetime(current_date) \u001B[38;5;241m+\u001B[39m pd\u001B[38;5;241m.\u001B[39mDateOffset(weeks\u001B[38;5;241m=\u001B[39mn_ahead)\n\u001B[1;32m     58\u001B[0m forecast \u001B[38;5;241m=\u001B[39m fitted_model\u001B[38;5;241m.\u001B[39mforecast(steps\u001B[38;5;241m=\u001B[39mn_ahead)\n",
      "File \u001B[0;32m~/Documents/GitHub/Math-198.1---Special-Problem/venv/lib/python3.10/site-packages/statsmodels/tsa/arima/model.py:395\u001B[0m, in \u001B[0;36mARIMA.fit\u001B[0;34m(self, start_params, transformed, includes_fixed, method, method_kwargs, gls, gls_kwargs, cov_type, cov_kwds, return_params, low_memory)\u001B[0m\n\u001B[1;32m    392\u001B[0m \u001B[38;5;28;01melse\u001B[39;00m:\n\u001B[1;32m    393\u001B[0m     method_kwargs\u001B[38;5;241m.\u001B[39msetdefault(\u001B[38;5;124m'\u001B[39m\u001B[38;5;124mdisp\u001B[39m\u001B[38;5;124m'\u001B[39m, \u001B[38;5;241m0\u001B[39m)\n\u001B[0;32m--> 395\u001B[0m     res \u001B[38;5;241m=\u001B[39m \u001B[38;5;28;43msuper\u001B[39;49m\u001B[43m(\u001B[49m\u001B[43m)\u001B[49m\u001B[38;5;241;43m.\u001B[39;49m\u001B[43mfit\u001B[49m\u001B[43m(\u001B[49m\n\u001B[1;32m    396\u001B[0m \u001B[43m        \u001B[49m\u001B[43mreturn_params\u001B[49m\u001B[38;5;241;43m=\u001B[39;49m\u001B[43mreturn_params\u001B[49m\u001B[43m,\u001B[49m\u001B[43m \u001B[49m\u001B[43mlow_memory\u001B[49m\u001B[38;5;241;43m=\u001B[39;49m\u001B[43mlow_memory\u001B[49m\u001B[43m,\u001B[49m\n\u001B[1;32m    397\u001B[0m \u001B[43m        \u001B[49m\u001B[43mcov_type\u001B[49m\u001B[38;5;241;43m=\u001B[39;49m\u001B[43mcov_type\u001B[49m\u001B[43m,\u001B[49m\u001B[43m \u001B[49m\u001B[43mcov_kwds\u001B[49m\u001B[38;5;241;43m=\u001B[39;49m\u001B[43mcov_kwds\u001B[49m\u001B[43m,\u001B[49m\u001B[43m \u001B[49m\u001B[38;5;241;43m*\u001B[39;49m\u001B[38;5;241;43m*\u001B[39;49m\u001B[43mmethod_kwargs\u001B[49m\u001B[43m)\u001B[49m\n\u001B[1;32m    398\u001B[0m     \u001B[38;5;28;01mif\u001B[39;00m \u001B[38;5;129;01mnot\u001B[39;00m return_params:\n\u001B[1;32m    399\u001B[0m         res\u001B[38;5;241m.\u001B[39mfit_details \u001B[38;5;241m=\u001B[39m res\u001B[38;5;241m.\u001B[39mmlefit\n",
      "File \u001B[0;32m~/Documents/GitHub/Math-198.1---Special-Problem/venv/lib/python3.10/site-packages/statsmodels/tsa/statespace/mlemodel.py:705\u001B[0m, in \u001B[0;36mMLEModel.fit\u001B[0;34m(self, start_params, transformed, includes_fixed, cov_type, cov_kwds, method, maxiter, full_output, disp, callback, return_params, optim_score, optim_complex_step, optim_hessian, flags, low_memory, **kwargs)\u001B[0m\n\u001B[1;32m    703\u001B[0m         flags[\u001B[38;5;124m'\u001B[39m\u001B[38;5;124mhessian_method\u001B[39m\u001B[38;5;124m'\u001B[39m] \u001B[38;5;241m=\u001B[39m optim_hessian\n\u001B[1;32m    704\u001B[0m     fargs \u001B[38;5;241m=\u001B[39m (flags,)\n\u001B[0;32m--> 705\u001B[0m     mlefit \u001B[38;5;241m=\u001B[39m \u001B[38;5;28;43msuper\u001B[39;49m\u001B[43m(\u001B[49m\u001B[43m)\u001B[49m\u001B[38;5;241;43m.\u001B[39;49m\u001B[43mfit\u001B[49m\u001B[43m(\u001B[49m\u001B[43mstart_params\u001B[49m\u001B[43m,\u001B[49m\u001B[43m \u001B[49m\u001B[43mmethod\u001B[49m\u001B[38;5;241;43m=\u001B[39;49m\u001B[43mmethod\u001B[49m\u001B[43m,\u001B[49m\n\u001B[1;32m    706\u001B[0m \u001B[43m                         \u001B[49m\u001B[43mfargs\u001B[49m\u001B[38;5;241;43m=\u001B[39;49m\u001B[43mfargs\u001B[49m\u001B[43m,\u001B[49m\n\u001B[1;32m    707\u001B[0m \u001B[43m                         \u001B[49m\u001B[43mmaxiter\u001B[49m\u001B[38;5;241;43m=\u001B[39;49m\u001B[43mmaxiter\u001B[49m\u001B[43m,\u001B[49m\n\u001B[1;32m    708\u001B[0m \u001B[43m                         \u001B[49m\u001B[43mfull_output\u001B[49m\u001B[38;5;241;43m=\u001B[39;49m\u001B[43mfull_output\u001B[49m\u001B[43m,\u001B[49m\n\u001B[1;32m    709\u001B[0m \u001B[43m                         \u001B[49m\u001B[43mdisp\u001B[49m\u001B[38;5;241;43m=\u001B[39;49m\u001B[43mdisp\u001B[49m\u001B[43m,\u001B[49m\u001B[43m \u001B[49m\u001B[43mcallback\u001B[49m\u001B[38;5;241;43m=\u001B[39;49m\u001B[43mcallback\u001B[49m\u001B[43m,\u001B[49m\n\u001B[1;32m    710\u001B[0m \u001B[43m                         \u001B[49m\u001B[43mskip_hessian\u001B[49m\u001B[38;5;241;43m=\u001B[39;49m\u001B[38;5;28;43;01mTrue\u001B[39;49;00m\u001B[43m,\u001B[49m\u001B[43m \u001B[49m\u001B[38;5;241;43m*\u001B[39;49m\u001B[38;5;241;43m*\u001B[39;49m\u001B[43mkwargs\u001B[49m\u001B[43m)\u001B[49m\n\u001B[1;32m    712\u001B[0m \u001B[38;5;66;03m# Just return the fitted parameters if requested\u001B[39;00m\n\u001B[1;32m    713\u001B[0m \u001B[38;5;28;01mif\u001B[39;00m return_params:\n",
      "File \u001B[0;32m~/Documents/GitHub/Math-198.1---Special-Problem/venv/lib/python3.10/site-packages/statsmodels/base/model.py:566\u001B[0m, in \u001B[0;36mLikelihoodModel.fit\u001B[0;34m(self, start_params, method, maxiter, full_output, disp, fargs, callback, retall, skip_hessian, **kwargs)\u001B[0m\n\u001B[1;32m    563\u001B[0m     \u001B[38;5;28;01mdel\u001B[39;00m kwargs[\u001B[38;5;124m\"\u001B[39m\u001B[38;5;124muse_t\u001B[39m\u001B[38;5;124m\"\u001B[39m]\n\u001B[1;32m    565\u001B[0m optimizer \u001B[38;5;241m=\u001B[39m Optimizer()\n\u001B[0;32m--> 566\u001B[0m xopt, retvals, optim_settings \u001B[38;5;241m=\u001B[39m \u001B[43moptimizer\u001B[49m\u001B[38;5;241;43m.\u001B[39;49m\u001B[43m_fit\u001B[49m\u001B[43m(\u001B[49m\u001B[43mf\u001B[49m\u001B[43m,\u001B[49m\u001B[43m \u001B[49m\u001B[43mscore\u001B[49m\u001B[43m,\u001B[49m\u001B[43m \u001B[49m\u001B[43mstart_params\u001B[49m\u001B[43m,\u001B[49m\n\u001B[1;32m    567\u001B[0m \u001B[43m                                               \u001B[49m\u001B[43mfargs\u001B[49m\u001B[43m,\u001B[49m\u001B[43m \u001B[49m\u001B[43mkwargs\u001B[49m\u001B[43m,\u001B[49m\n\u001B[1;32m    568\u001B[0m \u001B[43m                                               \u001B[49m\u001B[43mhessian\u001B[49m\u001B[38;5;241;43m=\u001B[39;49m\u001B[43mhess\u001B[49m\u001B[43m,\u001B[49m\n\u001B[1;32m    569\u001B[0m \u001B[43m                                               \u001B[49m\u001B[43mmethod\u001B[49m\u001B[38;5;241;43m=\u001B[39;49m\u001B[43mmethod\u001B[49m\u001B[43m,\u001B[49m\n\u001B[1;32m    570\u001B[0m \u001B[43m                                               \u001B[49m\u001B[43mdisp\u001B[49m\u001B[38;5;241;43m=\u001B[39;49m\u001B[43mdisp\u001B[49m\u001B[43m,\u001B[49m\n\u001B[1;32m    571\u001B[0m \u001B[43m                                               \u001B[49m\u001B[43mmaxiter\u001B[49m\u001B[38;5;241;43m=\u001B[39;49m\u001B[43mmaxiter\u001B[49m\u001B[43m,\u001B[49m\n\u001B[1;32m    572\u001B[0m \u001B[43m                                               \u001B[49m\u001B[43mcallback\u001B[49m\u001B[38;5;241;43m=\u001B[39;49m\u001B[43mcallback\u001B[49m\u001B[43m,\u001B[49m\n\u001B[1;32m    573\u001B[0m \u001B[43m                                               \u001B[49m\u001B[43mretall\u001B[49m\u001B[38;5;241;43m=\u001B[39;49m\u001B[43mretall\u001B[49m\u001B[43m,\u001B[49m\n\u001B[1;32m    574\u001B[0m \u001B[43m                                               \u001B[49m\u001B[43mfull_output\u001B[49m\u001B[38;5;241;43m=\u001B[39;49m\u001B[43mfull_output\u001B[49m\u001B[43m)\u001B[49m\n\u001B[1;32m    575\u001B[0m \u001B[38;5;66;03m# Restore cov_type, cov_kwds and use_t\u001B[39;00m\n\u001B[1;32m    576\u001B[0m optim_settings\u001B[38;5;241m.\u001B[39mupdate(kwds)\n",
      "File \u001B[0;32m~/Documents/GitHub/Math-198.1---Special-Problem/venv/lib/python3.10/site-packages/statsmodels/base/optimizer.py:243\u001B[0m, in \u001B[0;36mOptimizer._fit\u001B[0;34m(self, objective, gradient, start_params, fargs, kwargs, hessian, method, maxiter, full_output, disp, callback, retall)\u001B[0m\n\u001B[1;32m    240\u001B[0m     fit_funcs\u001B[38;5;241m.\u001B[39mupdate(extra_fit_funcs)\n\u001B[1;32m    242\u001B[0m func \u001B[38;5;241m=\u001B[39m fit_funcs[method]\n\u001B[0;32m--> 243\u001B[0m xopt, retvals \u001B[38;5;241m=\u001B[39m \u001B[43mfunc\u001B[49m\u001B[43m(\u001B[49m\u001B[43mobjective\u001B[49m\u001B[43m,\u001B[49m\u001B[43m \u001B[49m\u001B[43mgradient\u001B[49m\u001B[43m,\u001B[49m\u001B[43m \u001B[49m\u001B[43mstart_params\u001B[49m\u001B[43m,\u001B[49m\u001B[43m \u001B[49m\u001B[43mfargs\u001B[49m\u001B[43m,\u001B[49m\u001B[43m \u001B[49m\u001B[43mkwargs\u001B[49m\u001B[43m,\u001B[49m\n\u001B[1;32m    244\u001B[0m \u001B[43m                     \u001B[49m\u001B[43mdisp\u001B[49m\u001B[38;5;241;43m=\u001B[39;49m\u001B[43mdisp\u001B[49m\u001B[43m,\u001B[49m\u001B[43m \u001B[49m\u001B[43mmaxiter\u001B[49m\u001B[38;5;241;43m=\u001B[39;49m\u001B[43mmaxiter\u001B[49m\u001B[43m,\u001B[49m\u001B[43m \u001B[49m\u001B[43mcallback\u001B[49m\u001B[38;5;241;43m=\u001B[39;49m\u001B[43mcallback\u001B[49m\u001B[43m,\u001B[49m\n\u001B[1;32m    245\u001B[0m \u001B[43m                     \u001B[49m\u001B[43mretall\u001B[49m\u001B[38;5;241;43m=\u001B[39;49m\u001B[43mretall\u001B[49m\u001B[43m,\u001B[49m\u001B[43m \u001B[49m\u001B[43mfull_output\u001B[49m\u001B[38;5;241;43m=\u001B[39;49m\u001B[43mfull_output\u001B[49m\u001B[43m,\u001B[49m\n\u001B[1;32m    246\u001B[0m \u001B[43m                     \u001B[49m\u001B[43mhess\u001B[49m\u001B[38;5;241;43m=\u001B[39;49m\u001B[43mhessian\u001B[49m\u001B[43m)\u001B[49m\n\u001B[1;32m    248\u001B[0m optim_settings \u001B[38;5;241m=\u001B[39m {\u001B[38;5;124m'\u001B[39m\u001B[38;5;124moptimizer\u001B[39m\u001B[38;5;124m'\u001B[39m: method, \u001B[38;5;124m'\u001B[39m\u001B[38;5;124mstart_params\u001B[39m\u001B[38;5;124m'\u001B[39m: start_params,\n\u001B[1;32m    249\u001B[0m                   \u001B[38;5;124m'\u001B[39m\u001B[38;5;124mmaxiter\u001B[39m\u001B[38;5;124m'\u001B[39m: maxiter, \u001B[38;5;124m'\u001B[39m\u001B[38;5;124mfull_output\u001B[39m\u001B[38;5;124m'\u001B[39m: full_output,\n\u001B[1;32m    250\u001B[0m                   \u001B[38;5;124m'\u001B[39m\u001B[38;5;124mdisp\u001B[39m\u001B[38;5;124m'\u001B[39m: disp, \u001B[38;5;124m'\u001B[39m\u001B[38;5;124mfargs\u001B[39m\u001B[38;5;124m'\u001B[39m: fargs, \u001B[38;5;124m'\u001B[39m\u001B[38;5;124mcallback\u001B[39m\u001B[38;5;124m'\u001B[39m: callback,\n\u001B[1;32m    251\u001B[0m                   \u001B[38;5;124m'\u001B[39m\u001B[38;5;124mretall\u001B[39m\u001B[38;5;124m'\u001B[39m: retall, \u001B[38;5;124m\"\u001B[39m\u001B[38;5;124mextra_fit_funcs\u001B[39m\u001B[38;5;124m\"\u001B[39m: extra_fit_funcs}\n\u001B[1;32m    252\u001B[0m optim_settings\u001B[38;5;241m.\u001B[39mupdate(kwargs)\n",
      "File \u001B[0;32m~/Documents/GitHub/Math-198.1---Special-Problem/venv/lib/python3.10/site-packages/statsmodels/base/optimizer.py:660\u001B[0m, in \u001B[0;36m_fit_lbfgs\u001B[0;34m(f, score, start_params, fargs, kwargs, disp, maxiter, callback, retall, full_output, hess)\u001B[0m\n\u001B[1;32m    657\u001B[0m \u001B[38;5;28;01melif\u001B[39;00m approx_grad:\n\u001B[1;32m    658\u001B[0m     func \u001B[38;5;241m=\u001B[39m f\n\u001B[0;32m--> 660\u001B[0m retvals \u001B[38;5;241m=\u001B[39m \u001B[43moptimize\u001B[49m\u001B[38;5;241;43m.\u001B[39;49m\u001B[43mfmin_l_bfgs_b\u001B[49m\u001B[43m(\u001B[49m\u001B[43mfunc\u001B[49m\u001B[43m,\u001B[49m\u001B[43m \u001B[49m\u001B[43mstart_params\u001B[49m\u001B[43m,\u001B[49m\u001B[43m \u001B[49m\u001B[43mmaxiter\u001B[49m\u001B[38;5;241;43m=\u001B[39;49m\u001B[43mmaxiter\u001B[49m\u001B[43m,\u001B[49m\n\u001B[1;32m    661\u001B[0m \u001B[43m                                 \u001B[49m\u001B[43mcallback\u001B[49m\u001B[38;5;241;43m=\u001B[39;49m\u001B[43mcallback\u001B[49m\u001B[43m,\u001B[49m\u001B[43m \u001B[49m\u001B[43margs\u001B[49m\u001B[38;5;241;43m=\u001B[39;49m\u001B[43mfargs\u001B[49m\u001B[43m,\u001B[49m\n\u001B[1;32m    662\u001B[0m \u001B[43m                                 \u001B[49m\u001B[43mbounds\u001B[49m\u001B[38;5;241;43m=\u001B[39;49m\u001B[43mbounds\u001B[49m\u001B[43m,\u001B[49m\u001B[43m \u001B[49m\u001B[43mdisp\u001B[49m\u001B[38;5;241;43m=\u001B[39;49m\u001B[43mdisp\u001B[49m\u001B[43m,\u001B[49m\n\u001B[1;32m    663\u001B[0m \u001B[43m                                 \u001B[49m\u001B[38;5;241;43m*\u001B[39;49m\u001B[38;5;241;43m*\u001B[39;49m\u001B[43mextra_kwargs\u001B[49m\u001B[43m)\u001B[49m\n\u001B[1;32m    665\u001B[0m \u001B[38;5;28;01mif\u001B[39;00m full_output:\n\u001B[1;32m    666\u001B[0m     xopt, fopt, d \u001B[38;5;241m=\u001B[39m retvals\n",
      "File \u001B[0;32m~/Documents/GitHub/Math-198.1---Special-Problem/venv/lib/python3.10/site-packages/scipy/optimize/_lbfgsb_py.py:237\u001B[0m, in \u001B[0;36mfmin_l_bfgs_b\u001B[0;34m(func, x0, fprime, args, approx_grad, bounds, m, factr, pgtol, epsilon, iprint, maxfun, maxiter, disp, callback, maxls)\u001B[0m\n\u001B[1;32m    225\u001B[0m callback \u001B[38;5;241m=\u001B[39m _wrap_callback(callback)\n\u001B[1;32m    226\u001B[0m opts \u001B[38;5;241m=\u001B[39m {\u001B[38;5;124m'\u001B[39m\u001B[38;5;124mdisp\u001B[39m\u001B[38;5;124m'\u001B[39m: disp,\n\u001B[1;32m    227\u001B[0m         \u001B[38;5;124m'\u001B[39m\u001B[38;5;124miprint\u001B[39m\u001B[38;5;124m'\u001B[39m: iprint,\n\u001B[1;32m    228\u001B[0m         \u001B[38;5;124m'\u001B[39m\u001B[38;5;124mmaxcor\u001B[39m\u001B[38;5;124m'\u001B[39m: m,\n\u001B[0;32m   (...)\u001B[0m\n\u001B[1;32m    234\u001B[0m         \u001B[38;5;124m'\u001B[39m\u001B[38;5;124mcallback\u001B[39m\u001B[38;5;124m'\u001B[39m: callback,\n\u001B[1;32m    235\u001B[0m         \u001B[38;5;124m'\u001B[39m\u001B[38;5;124mmaxls\u001B[39m\u001B[38;5;124m'\u001B[39m: maxls}\n\u001B[0;32m--> 237\u001B[0m res \u001B[38;5;241m=\u001B[39m \u001B[43m_minimize_lbfgsb\u001B[49m\u001B[43m(\u001B[49m\u001B[43mfun\u001B[49m\u001B[43m,\u001B[49m\u001B[43m \u001B[49m\u001B[43mx0\u001B[49m\u001B[43m,\u001B[49m\u001B[43m \u001B[49m\u001B[43margs\u001B[49m\u001B[38;5;241;43m=\u001B[39;49m\u001B[43margs\u001B[49m\u001B[43m,\u001B[49m\u001B[43m \u001B[49m\u001B[43mjac\u001B[49m\u001B[38;5;241;43m=\u001B[39;49m\u001B[43mjac\u001B[49m\u001B[43m,\u001B[49m\u001B[43m \u001B[49m\u001B[43mbounds\u001B[49m\u001B[38;5;241;43m=\u001B[39;49m\u001B[43mbounds\u001B[49m\u001B[43m,\u001B[49m\n\u001B[1;32m    238\u001B[0m \u001B[43m                       \u001B[49m\u001B[38;5;241;43m*\u001B[39;49m\u001B[38;5;241;43m*\u001B[39;49m\u001B[43mopts\u001B[49m\u001B[43m)\u001B[49m\n\u001B[1;32m    239\u001B[0m d \u001B[38;5;241m=\u001B[39m {\u001B[38;5;124m'\u001B[39m\u001B[38;5;124mgrad\u001B[39m\u001B[38;5;124m'\u001B[39m: res[\u001B[38;5;124m'\u001B[39m\u001B[38;5;124mjac\u001B[39m\u001B[38;5;124m'\u001B[39m],\n\u001B[1;32m    240\u001B[0m      \u001B[38;5;124m'\u001B[39m\u001B[38;5;124mtask\u001B[39m\u001B[38;5;124m'\u001B[39m: res[\u001B[38;5;124m'\u001B[39m\u001B[38;5;124mmessage\u001B[39m\u001B[38;5;124m'\u001B[39m],\n\u001B[1;32m    241\u001B[0m      \u001B[38;5;124m'\u001B[39m\u001B[38;5;124mfuncalls\u001B[39m\u001B[38;5;124m'\u001B[39m: res[\u001B[38;5;124m'\u001B[39m\u001B[38;5;124mnfev\u001B[39m\u001B[38;5;124m'\u001B[39m],\n\u001B[1;32m    242\u001B[0m      \u001B[38;5;124m'\u001B[39m\u001B[38;5;124mnit\u001B[39m\u001B[38;5;124m'\u001B[39m: res[\u001B[38;5;124m'\u001B[39m\u001B[38;5;124mnit\u001B[39m\u001B[38;5;124m'\u001B[39m],\n\u001B[1;32m    243\u001B[0m      \u001B[38;5;124m'\u001B[39m\u001B[38;5;124mwarnflag\u001B[39m\u001B[38;5;124m'\u001B[39m: res[\u001B[38;5;124m'\u001B[39m\u001B[38;5;124mstatus\u001B[39m\u001B[38;5;124m'\u001B[39m]}\n\u001B[1;32m    244\u001B[0m f \u001B[38;5;241m=\u001B[39m res[\u001B[38;5;124m'\u001B[39m\u001B[38;5;124mfun\u001B[39m\u001B[38;5;124m'\u001B[39m]\n",
      "File \u001B[0;32m~/Documents/GitHub/Math-198.1---Special-Problem/venv/lib/python3.10/site-packages/scipy/optimize/_lbfgsb_py.py:407\u001B[0m, in \u001B[0;36m_minimize_lbfgsb\u001B[0;34m(fun, x0, args, jac, bounds, disp, maxcor, ftol, gtol, eps, maxfun, maxiter, iprint, callback, maxls, finite_diff_rel_step, **unknown_options)\u001B[0m\n\u001B[1;32m    401\u001B[0m task_str \u001B[38;5;241m=\u001B[39m task\u001B[38;5;241m.\u001B[39mtobytes()\n\u001B[1;32m    402\u001B[0m \u001B[38;5;28;01mif\u001B[39;00m task_str\u001B[38;5;241m.\u001B[39mstartswith(\u001B[38;5;124mb\u001B[39m\u001B[38;5;124m'\u001B[39m\u001B[38;5;124mFG\u001B[39m\u001B[38;5;124m'\u001B[39m):\n\u001B[1;32m    403\u001B[0m     \u001B[38;5;66;03m# The minimization routine wants f and g at the current x.\u001B[39;00m\n\u001B[1;32m    404\u001B[0m     \u001B[38;5;66;03m# Note that interruptions due to maxfun are postponed\u001B[39;00m\n\u001B[1;32m    405\u001B[0m     \u001B[38;5;66;03m# until the completion of the current minimization iteration.\u001B[39;00m\n\u001B[1;32m    406\u001B[0m     \u001B[38;5;66;03m# Overwrite f and g:\u001B[39;00m\n\u001B[0;32m--> 407\u001B[0m     f, g \u001B[38;5;241m=\u001B[39m \u001B[43mfunc_and_grad\u001B[49m\u001B[43m(\u001B[49m\u001B[43mx\u001B[49m\u001B[43m)\u001B[49m\n\u001B[1;32m    408\u001B[0m \u001B[38;5;28;01melif\u001B[39;00m task_str\u001B[38;5;241m.\u001B[39mstartswith(\u001B[38;5;124mb\u001B[39m\u001B[38;5;124m'\u001B[39m\u001B[38;5;124mNEW_X\u001B[39m\u001B[38;5;124m'\u001B[39m):\n\u001B[1;32m    409\u001B[0m     \u001B[38;5;66;03m# new iteration\u001B[39;00m\n\u001B[1;32m    410\u001B[0m     n_iterations \u001B[38;5;241m+\u001B[39m\u001B[38;5;241m=\u001B[39m \u001B[38;5;241m1\u001B[39m\n",
      "File \u001B[0;32m~/Documents/GitHub/Math-198.1---Special-Problem/venv/lib/python3.10/site-packages/scipy/optimize/_differentiable_functions.py:344\u001B[0m, in \u001B[0;36mScalarFunction.fun_and_grad\u001B[0;34m(self, x)\u001B[0m\n\u001B[1;32m    342\u001B[0m     \u001B[38;5;28mself\u001B[39m\u001B[38;5;241m.\u001B[39m_update_x(x)\n\u001B[1;32m    343\u001B[0m \u001B[38;5;28mself\u001B[39m\u001B[38;5;241m.\u001B[39m_update_fun()\n\u001B[0;32m--> 344\u001B[0m \u001B[38;5;28;43mself\u001B[39;49m\u001B[38;5;241;43m.\u001B[39;49m\u001B[43m_update_grad\u001B[49m\u001B[43m(\u001B[49m\u001B[43m)\u001B[49m\n\u001B[1;32m    345\u001B[0m \u001B[38;5;28;01mreturn\u001B[39;00m \u001B[38;5;28mself\u001B[39m\u001B[38;5;241m.\u001B[39mf, \u001B[38;5;28mself\u001B[39m\u001B[38;5;241m.\u001B[39mg\n",
      "File \u001B[0;32m~/Documents/GitHub/Math-198.1---Special-Problem/venv/lib/python3.10/site-packages/scipy/optimize/_differentiable_functions.py:306\u001B[0m, in \u001B[0;36mScalarFunction._update_grad\u001B[0;34m(self)\u001B[0m\n\u001B[1;32m    304\u001B[0m \u001B[38;5;28;01mif\u001B[39;00m \u001B[38;5;28mself\u001B[39m\u001B[38;5;241m.\u001B[39m_orig_grad \u001B[38;5;129;01min\u001B[39;00m FD_METHODS:\n\u001B[1;32m    305\u001B[0m     \u001B[38;5;28mself\u001B[39m\u001B[38;5;241m.\u001B[39m_update_fun()\n\u001B[0;32m--> 306\u001B[0m \u001B[38;5;28mself\u001B[39m\u001B[38;5;241m.\u001B[39mg \u001B[38;5;241m=\u001B[39m \u001B[38;5;28;43mself\u001B[39;49m\u001B[38;5;241;43m.\u001B[39;49m\u001B[43m_wrapped_grad\u001B[49m\u001B[43m(\u001B[49m\u001B[38;5;28;43mself\u001B[39;49m\u001B[38;5;241;43m.\u001B[39;49m\u001B[43mx\u001B[49m\u001B[43m,\u001B[49m\u001B[43m \u001B[49m\u001B[43mf0\u001B[49m\u001B[38;5;241;43m=\u001B[39;49m\u001B[38;5;28;43mself\u001B[39;49m\u001B[38;5;241;43m.\u001B[39;49m\u001B[43mf\u001B[49m\u001B[43m)\u001B[49m\n\u001B[1;32m    307\u001B[0m \u001B[38;5;28mself\u001B[39m\u001B[38;5;241m.\u001B[39mg_updated \u001B[38;5;241m=\u001B[39m \u001B[38;5;28;01mTrue\u001B[39;00m\n",
      "File \u001B[0;32m~/Documents/GitHub/Math-198.1---Special-Problem/venv/lib/python3.10/site-packages/scipy/optimize/_differentiable_functions.py:47\u001B[0m, in \u001B[0;36m_wrapper_grad.<locals>.wrapped1\u001B[0;34m(x, f0)\u001B[0m\n\u001B[1;32m     45\u001B[0m \u001B[38;5;28;01mdef\u001B[39;00m \u001B[38;5;21mwrapped1\u001B[39m(x, f0\u001B[38;5;241m=\u001B[39m\u001B[38;5;28;01mNone\u001B[39;00m):\n\u001B[1;32m     46\u001B[0m     ncalls[\u001B[38;5;241m0\u001B[39m] \u001B[38;5;241m+\u001B[39m\u001B[38;5;241m=\u001B[39m \u001B[38;5;241m1\u001B[39m\n\u001B[0;32m---> 47\u001B[0m     \u001B[38;5;28;01mreturn\u001B[39;00m \u001B[43mapprox_derivative\u001B[49m\u001B[43m(\u001B[49m\n\u001B[1;32m     48\u001B[0m \u001B[43m        \u001B[49m\u001B[43mfun\u001B[49m\u001B[43m,\u001B[49m\u001B[43m \u001B[49m\u001B[43mx\u001B[49m\u001B[43m,\u001B[49m\u001B[43m \u001B[49m\u001B[43mf0\u001B[49m\u001B[38;5;241;43m=\u001B[39;49m\u001B[43mf0\u001B[49m\u001B[43m,\u001B[49m\u001B[43m \u001B[49m\u001B[38;5;241;43m*\u001B[39;49m\u001B[38;5;241;43m*\u001B[39;49m\u001B[43mfinite_diff_options\u001B[49m\n\u001B[1;32m     49\u001B[0m \u001B[43m    \u001B[49m\u001B[43m)\u001B[49m\n",
      "File \u001B[0;32m~/Documents/GitHub/Math-198.1---Special-Problem/venv/lib/python3.10/site-packages/scipy/optimize/_numdiff.py:519\u001B[0m, in \u001B[0;36mapprox_derivative\u001B[0;34m(fun, x0, method, rel_step, abs_step, f0, bounds, sparsity, as_linear_operator, args, kwargs)\u001B[0m\n\u001B[1;32m    516\u001B[0m     use_one_sided \u001B[38;5;241m=\u001B[39m \u001B[38;5;28;01mFalse\u001B[39;00m\n\u001B[1;32m    518\u001B[0m \u001B[38;5;28;01mif\u001B[39;00m sparsity \u001B[38;5;129;01mis\u001B[39;00m \u001B[38;5;28;01mNone\u001B[39;00m:\n\u001B[0;32m--> 519\u001B[0m     \u001B[38;5;28;01mreturn\u001B[39;00m \u001B[43m_dense_difference\u001B[49m\u001B[43m(\u001B[49m\u001B[43mfun_wrapped\u001B[49m\u001B[43m,\u001B[49m\u001B[43m \u001B[49m\u001B[43mx0\u001B[49m\u001B[43m,\u001B[49m\u001B[43m \u001B[49m\u001B[43mf0\u001B[49m\u001B[43m,\u001B[49m\u001B[43m \u001B[49m\u001B[43mh\u001B[49m\u001B[43m,\u001B[49m\n\u001B[1;32m    520\u001B[0m \u001B[43m                             \u001B[49m\u001B[43muse_one_sided\u001B[49m\u001B[43m,\u001B[49m\u001B[43m \u001B[49m\u001B[43mmethod\u001B[49m\u001B[43m)\u001B[49m\n\u001B[1;32m    521\u001B[0m \u001B[38;5;28;01melse\u001B[39;00m:\n\u001B[1;32m    522\u001B[0m     \u001B[38;5;28;01mif\u001B[39;00m \u001B[38;5;129;01mnot\u001B[39;00m issparse(sparsity) \u001B[38;5;129;01mand\u001B[39;00m \u001B[38;5;28mlen\u001B[39m(sparsity) \u001B[38;5;241m==\u001B[39m \u001B[38;5;241m2\u001B[39m:\n",
      "File \u001B[0;32m~/Documents/GitHub/Math-198.1---Special-Problem/venv/lib/python3.10/site-packages/scipy/optimize/_numdiff.py:592\u001B[0m, in \u001B[0;36m_dense_difference\u001B[0;34m(fun, x0, f0, h, use_one_sided, method)\u001B[0m\n\u001B[1;32m    590\u001B[0m     x1[i] \u001B[38;5;241m+\u001B[39m\u001B[38;5;241m=\u001B[39m h[i]\n\u001B[1;32m    591\u001B[0m     dx \u001B[38;5;241m=\u001B[39m x1[i] \u001B[38;5;241m-\u001B[39m x0[i]  \u001B[38;5;66;03m# Recompute dx as exactly representable number.\u001B[39;00m\n\u001B[0;32m--> 592\u001B[0m     df \u001B[38;5;241m=\u001B[39m \u001B[43mfun\u001B[49m\u001B[43m(\u001B[49m\u001B[43mx1\u001B[49m\u001B[43m)\u001B[49m \u001B[38;5;241m-\u001B[39m f0\n\u001B[1;32m    593\u001B[0m \u001B[38;5;28;01melif\u001B[39;00m method \u001B[38;5;241m==\u001B[39m \u001B[38;5;124m'\u001B[39m\u001B[38;5;124m3-point\u001B[39m\u001B[38;5;124m'\u001B[39m \u001B[38;5;129;01mand\u001B[39;00m use_one_sided[i]:\n\u001B[1;32m    594\u001B[0m     x1[i] \u001B[38;5;241m+\u001B[39m\u001B[38;5;241m=\u001B[39m h[i]\n",
      "File \u001B[0;32m~/Documents/GitHub/Math-198.1---Special-Problem/venv/lib/python3.10/site-packages/scipy/optimize/_numdiff.py:470\u001B[0m, in \u001B[0;36mapprox_derivative.<locals>.fun_wrapped\u001B[0;34m(x)\u001B[0m\n\u001B[1;32m    467\u001B[0m \u001B[38;5;28;01mif\u001B[39;00m xp\u001B[38;5;241m.\u001B[39misdtype(x\u001B[38;5;241m.\u001B[39mdtype, \u001B[38;5;124m\"\u001B[39m\u001B[38;5;124mreal floating\u001B[39m\u001B[38;5;124m\"\u001B[39m):\n\u001B[1;32m    468\u001B[0m     x \u001B[38;5;241m=\u001B[39m xp\u001B[38;5;241m.\u001B[39mastype(x, x0\u001B[38;5;241m.\u001B[39mdtype)\n\u001B[0;32m--> 470\u001B[0m f \u001B[38;5;241m=\u001B[39m np\u001B[38;5;241m.\u001B[39matleast_1d(\u001B[43mfun\u001B[49m\u001B[43m(\u001B[49m\u001B[43mx\u001B[49m\u001B[43m,\u001B[49m\u001B[43m \u001B[49m\u001B[38;5;241;43m*\u001B[39;49m\u001B[43margs\u001B[49m\u001B[43m,\u001B[49m\u001B[43m \u001B[49m\u001B[38;5;241;43m*\u001B[39;49m\u001B[38;5;241;43m*\u001B[39;49m\u001B[43mkwargs\u001B[49m\u001B[43m)\u001B[49m)\n\u001B[1;32m    471\u001B[0m \u001B[38;5;28;01mif\u001B[39;00m f\u001B[38;5;241m.\u001B[39mndim \u001B[38;5;241m>\u001B[39m \u001B[38;5;241m1\u001B[39m:\n\u001B[1;32m    472\u001B[0m     \u001B[38;5;28;01mraise\u001B[39;00m \u001B[38;5;167;01mRuntimeError\u001B[39;00m(\u001B[38;5;124m\"\u001B[39m\u001B[38;5;124m`fun` return value has \u001B[39m\u001B[38;5;124m\"\u001B[39m\n\u001B[1;32m    473\u001B[0m                        \u001B[38;5;124m\"\u001B[39m\u001B[38;5;124mmore than 1 dimension.\u001B[39m\u001B[38;5;124m\"\u001B[39m)\n",
      "File \u001B[0;32m~/Documents/GitHub/Math-198.1---Special-Problem/venv/lib/python3.10/site-packages/scipy/optimize/_differentiable_functions.py:20\u001B[0m, in \u001B[0;36m_wrapper_fun.<locals>.wrapped\u001B[0;34m(x)\u001B[0m\n\u001B[1;32m     16\u001B[0m ncalls[\u001B[38;5;241m0\u001B[39m] \u001B[38;5;241m+\u001B[39m\u001B[38;5;241m=\u001B[39m \u001B[38;5;241m1\u001B[39m\n\u001B[1;32m     17\u001B[0m \u001B[38;5;66;03m# Send a copy because the user may overwrite it.\u001B[39;00m\n\u001B[1;32m     18\u001B[0m \u001B[38;5;66;03m# Overwriting results in undefined behaviour because\u001B[39;00m\n\u001B[1;32m     19\u001B[0m \u001B[38;5;66;03m# fun(self.x) will change self.x, with the two no longer linked.\u001B[39;00m\n\u001B[0;32m---> 20\u001B[0m fx \u001B[38;5;241m=\u001B[39m \u001B[43mfun\u001B[49m\u001B[43m(\u001B[49m\u001B[43mnp\u001B[49m\u001B[38;5;241;43m.\u001B[39;49m\u001B[43mcopy\u001B[49m\u001B[43m(\u001B[49m\u001B[43mx\u001B[49m\u001B[43m)\u001B[49m\u001B[43m,\u001B[49m\u001B[43m \u001B[49m\u001B[38;5;241;43m*\u001B[39;49m\u001B[43margs\u001B[49m\u001B[43m)\u001B[49m\n\u001B[1;32m     21\u001B[0m \u001B[38;5;66;03m# Make sure the function returns a true scalar\u001B[39;00m\n\u001B[1;32m     22\u001B[0m \u001B[38;5;28;01mif\u001B[39;00m \u001B[38;5;129;01mnot\u001B[39;00m np\u001B[38;5;241m.\u001B[39misscalar(fx):\n",
      "File \u001B[0;32m~/Documents/GitHub/Math-198.1---Special-Problem/venv/lib/python3.10/site-packages/statsmodels/base/model.py:534\u001B[0m, in \u001B[0;36mLikelihoodModel.fit.<locals>.f\u001B[0;34m(params, *args)\u001B[0m\n\u001B[1;32m    533\u001B[0m \u001B[38;5;28;01mdef\u001B[39;00m \u001B[38;5;21mf\u001B[39m(params, \u001B[38;5;241m*\u001B[39margs):\n\u001B[0;32m--> 534\u001B[0m     \u001B[38;5;28;01mreturn\u001B[39;00m \u001B[38;5;241m-\u001B[39m\u001B[38;5;28;43mself\u001B[39;49m\u001B[38;5;241;43m.\u001B[39;49m\u001B[43mloglike\u001B[49m\u001B[43m(\u001B[49m\u001B[43mparams\u001B[49m\u001B[43m,\u001B[49m\u001B[43m \u001B[49m\u001B[38;5;241;43m*\u001B[39;49m\u001B[43margs\u001B[49m\u001B[43m)\u001B[49m \u001B[38;5;241m/\u001B[39m nobs\n",
      "File \u001B[0;32m~/Documents/GitHub/Math-198.1---Special-Problem/venv/lib/python3.10/site-packages/statsmodels/tsa/statespace/mlemodel.py:940\u001B[0m, in \u001B[0;36mMLEModel.loglike\u001B[0;34m(self, params, *args, **kwargs)\u001B[0m\n\u001B[1;32m    937\u001B[0m \u001B[38;5;28;01mif\u001B[39;00m complex_step:\n\u001B[1;32m    938\u001B[0m     kwargs[\u001B[38;5;124m'\u001B[39m\u001B[38;5;124minversion_method\u001B[39m\u001B[38;5;124m'\u001B[39m] \u001B[38;5;241m=\u001B[39m INVERT_UNIVARIATE \u001B[38;5;241m|\u001B[39m SOLVE_LU\n\u001B[0;32m--> 940\u001B[0m loglike \u001B[38;5;241m=\u001B[39m \u001B[38;5;28;43mself\u001B[39;49m\u001B[38;5;241;43m.\u001B[39;49m\u001B[43mssm\u001B[49m\u001B[38;5;241;43m.\u001B[39;49m\u001B[43mloglike\u001B[49m\u001B[43m(\u001B[49m\u001B[43mcomplex_step\u001B[49m\u001B[38;5;241;43m=\u001B[39;49m\u001B[43mcomplex_step\u001B[49m\u001B[43m,\u001B[49m\u001B[43m \u001B[49m\u001B[38;5;241;43m*\u001B[39;49m\u001B[38;5;241;43m*\u001B[39;49m\u001B[43mkwargs\u001B[49m\u001B[43m)\u001B[49m\n\u001B[1;32m    942\u001B[0m \u001B[38;5;66;03m# Koopman, Shephard, and Doornik recommend maximizing the average\u001B[39;00m\n\u001B[1;32m    943\u001B[0m \u001B[38;5;66;03m# likelihood to avoid scale issues, but the averaging is done\u001B[39;00m\n\u001B[1;32m    944\u001B[0m \u001B[38;5;66;03m# automatically in the base model `fit` method\u001B[39;00m\n\u001B[1;32m    945\u001B[0m \u001B[38;5;28;01mreturn\u001B[39;00m loglike\n",
      "File \u001B[0;32m~/Documents/GitHub/Math-198.1---Special-Problem/venv/lib/python3.10/site-packages/statsmodels/tsa/statespace/kalman_filter.py:1001\u001B[0m, in \u001B[0;36mKalmanFilter.loglike\u001B[0;34m(self, **kwargs)\u001B[0m\n\u001B[1;32m    985\u001B[0m \u001B[38;5;250m\u001B[39m\u001B[38;5;124mr\u001B[39m\u001B[38;5;124;03m\"\"\"\u001B[39;00m\n\u001B[1;32m    986\u001B[0m \u001B[38;5;124;03mCalculate the loglikelihood associated with the statespace model.\u001B[39;00m\n\u001B[1;32m    987\u001B[0m \n\u001B[0;32m   (...)\u001B[0m\n\u001B[1;32m    997\u001B[0m \u001B[38;5;124;03m    The joint loglikelihood.\u001B[39;00m\n\u001B[1;32m    998\u001B[0m \u001B[38;5;124;03m\"\"\"\u001B[39;00m\n\u001B[1;32m    999\u001B[0m kwargs\u001B[38;5;241m.\u001B[39msetdefault(\u001B[38;5;124m'\u001B[39m\u001B[38;5;124mconserve_memory\u001B[39m\u001B[38;5;124m'\u001B[39m,\n\u001B[1;32m   1000\u001B[0m                   MEMORY_CONSERVE \u001B[38;5;241m^\u001B[39m MEMORY_NO_LIKELIHOOD)\n\u001B[0;32m-> 1001\u001B[0m kfilter \u001B[38;5;241m=\u001B[39m \u001B[38;5;28;43mself\u001B[39;49m\u001B[38;5;241;43m.\u001B[39;49m\u001B[43m_filter\u001B[49m\u001B[43m(\u001B[49m\u001B[38;5;241;43m*\u001B[39;49m\u001B[38;5;241;43m*\u001B[39;49m\u001B[43mkwargs\u001B[49m\u001B[43m)\u001B[49m\n\u001B[1;32m   1002\u001B[0m loglikelihood_burn \u001B[38;5;241m=\u001B[39m kwargs\u001B[38;5;241m.\u001B[39mget(\u001B[38;5;124m'\u001B[39m\u001B[38;5;124mloglikelihood_burn\u001B[39m\u001B[38;5;124m'\u001B[39m,\n\u001B[1;32m   1003\u001B[0m                                 \u001B[38;5;28mself\u001B[39m\u001B[38;5;241m.\u001B[39mloglikelihood_burn)\n\u001B[1;32m   1004\u001B[0m \u001B[38;5;28;01mif\u001B[39;00m \u001B[38;5;129;01mnot\u001B[39;00m (kwargs[\u001B[38;5;124m'\u001B[39m\u001B[38;5;124mconserve_memory\u001B[39m\u001B[38;5;124m'\u001B[39m] \u001B[38;5;241m&\u001B[39m MEMORY_NO_LIKELIHOOD):\n",
      "File \u001B[0;32m~/Documents/GitHub/Math-198.1---Special-Problem/venv/lib/python3.10/site-packages/statsmodels/tsa/statespace/kalman_filter.py:921\u001B[0m, in \u001B[0;36mKalmanFilter._filter\u001B[0;34m(self, filter_method, inversion_method, stability_method, conserve_memory, filter_timing, tolerance, loglikelihood_burn, complex_step)\u001B[0m\n\u001B[1;32m    918\u001B[0m kfilter \u001B[38;5;241m=\u001B[39m \u001B[38;5;28mself\u001B[39m\u001B[38;5;241m.\u001B[39m_kalman_filters[prefix]\n\u001B[1;32m    920\u001B[0m \u001B[38;5;66;03m# Initialize the state\u001B[39;00m\n\u001B[0;32m--> 921\u001B[0m \u001B[38;5;28;43mself\u001B[39;49m\u001B[38;5;241;43m.\u001B[39;49m\u001B[43m_initialize_state\u001B[49m\u001B[43m(\u001B[49m\u001B[43mprefix\u001B[49m\u001B[38;5;241;43m=\u001B[39;49m\u001B[43mprefix\u001B[49m\u001B[43m,\u001B[49m\u001B[43m \u001B[49m\u001B[43mcomplex_step\u001B[49m\u001B[38;5;241;43m=\u001B[39;49m\u001B[43mcomplex_step\u001B[49m\u001B[43m)\u001B[49m\n\u001B[1;32m    923\u001B[0m \u001B[38;5;66;03m# Run the filter\u001B[39;00m\n\u001B[1;32m    924\u001B[0m kfilter()\n",
      "File \u001B[0;32m~/Documents/GitHub/Math-198.1---Special-Problem/venv/lib/python3.10/site-packages/statsmodels/tsa/statespace/representation.py:1058\u001B[0m, in \u001B[0;36mRepresentation._initialize_state\u001B[0;34m(self, prefix, complex_step)\u001B[0m\n\u001B[1;32m   1056\u001B[0m     \u001B[38;5;28;01mif\u001B[39;00m \u001B[38;5;129;01mnot\u001B[39;00m \u001B[38;5;28mself\u001B[39m\u001B[38;5;241m.\u001B[39minitialization\u001B[38;5;241m.\u001B[39minitialized:\n\u001B[1;32m   1057\u001B[0m         \u001B[38;5;28;01mraise\u001B[39;00m \u001B[38;5;167;01mRuntimeError\u001B[39;00m(\u001B[38;5;124m'\u001B[39m\u001B[38;5;124mInitialization is incomplete.\u001B[39m\u001B[38;5;124m'\u001B[39m)\n\u001B[0;32m-> 1058\u001B[0m     \u001B[38;5;28;43mself\u001B[39;49m\u001B[38;5;241;43m.\u001B[39;49m\u001B[43m_statespaces\u001B[49m\u001B[43m[\u001B[49m\u001B[43mprefix\u001B[49m\u001B[43m]\u001B[49m\u001B[38;5;241;43m.\u001B[39;49m\u001B[43minitialize\u001B[49m\u001B[43m(\u001B[49m\u001B[38;5;28;43mself\u001B[39;49m\u001B[38;5;241;43m.\u001B[39;49m\u001B[43minitialization\u001B[49m\u001B[43m,\u001B[49m\n\u001B[1;32m   1059\u001B[0m \u001B[43m                                         \u001B[49m\u001B[43mcomplex_step\u001B[49m\u001B[38;5;241;43m=\u001B[39;49m\u001B[43mcomplex_step\u001B[49m\u001B[43m)\u001B[49m\n\u001B[1;32m   1060\u001B[0m \u001B[38;5;28;01melse\u001B[39;00m:\n\u001B[1;32m   1061\u001B[0m     \u001B[38;5;28;01mraise\u001B[39;00m \u001B[38;5;167;01mRuntimeError\u001B[39;00m(\u001B[38;5;124m'\u001B[39m\u001B[38;5;124mStatespace model not initialized.\u001B[39m\u001B[38;5;124m'\u001B[39m)\n",
      "\u001B[0;31mKeyboardInterrupt\u001B[0m: "
     ]
    }
   ],
   "execution_count": 5
  },
  {
   "metadata": {},
   "cell_type": "markdown",
   "source": "",
   "id": "ceeb0a4fbe87452c"
  },
  {
   "metadata": {
    "ExecuteTime": {
     "end_time": "2025-04-13T19:19:13.986790398Z",
     "start_time": "2025-04-13T17:37:07.148872Z"
    }
   },
   "cell_type": "code",
   "source": "len(predicted)",
   "id": "384124c04b32c87c",
   "outputs": [
    {
     "data": {
      "text/plain": [
       "104"
      ]
     },
     "execution_count": 5,
     "metadata": {},
     "output_type": "execute_result"
    }
   ],
   "execution_count": 5
  },
  {
   "metadata": {
    "ExecuteTime": {
     "end_time": "2025-04-13T19:19:13.986860998Z",
     "start_time": "2025-04-13T17:57:27.934702Z"
    }
   },
   "cell_type": "code",
   "source": "Ajuy_df = pd.read_csv(f\"../../data/Merged Data/Ajuy_merged.csv\")",
   "id": "8d14712e32f50e52",
   "outputs": [],
   "execution_count": 18
  },
  {
   "metadata": {
    "ExecuteTime": {
     "end_time": "2025-04-23T13:02:09.630326Z",
     "start_time": "2025-04-23T13:02:08.380482Z"
    }
   },
   "cell_type": "code",
   "source": [
    "summed_df_list = []\n",
    "for municipal in municipals:\n",
    "    municipal_df = pd.read_csv(f\"../../data/Merged Data/{municipal}_merged.csv\")\n",
    "    # lag the features\n",
    "    municipal_df = models_utils.prepare_dataframe(municipal_df, [\"Temperature\", \"Precipitation\", \"Humidity\"], [\"Year\", \"Week\", \"Month\", \"Population\"], \"Cases\", \"Year-Week\", 1)\n",
    "    summed_df_list.append(municipal_df)\n",
    "summed_df = models_utils.prepare_dataframe_summed(summed_df_list)\n",
    "summed_df"
   ],
   "id": "da1ab555219f81f7",
   "outputs": [
    {
     "data": {
      "text/plain": [
       "     Year-Week  Temperature   Humidity  Precipitation  Cases    Population  \\\n",
       "0   2014-04-07    29.111821  69.364982       2.800000   18.0  53490.250000   \n",
       "1   2014-04-14    28.551928  71.990313      30.800000   11.0  53490.250000   \n",
       "2   2014-04-21    27.369892  81.277237     224.799993   16.0  53490.250000   \n",
       "3   2014-04-28    28.856428  75.546539      61.600004   14.0  53490.250000   \n",
       "4   2014-05-05    29.875322  75.951262       8.800000   20.0  53490.250000   \n",
       "..         ...          ...        ...            ...    ...           ...   \n",
       "555 2024-12-02    29.520965  75.235959      40.450002  135.0  58740.704545   \n",
       "556 2024-12-09    28.585107  77.225192      55.400004  166.0  58740.704545   \n",
       "557 2024-12-16    26.923679  85.136271     117.550004  133.0  58740.704545   \n",
       "558 2024-12-23    27.754071  80.010136      68.600001   96.0  58740.704545   \n",
       "559 2025-01-06    28.456000  80.789709      17.950001  125.0  58740.704545   \n",
       "\n",
       "     Year  Month  Week  \n",
       "0    2014      4    15  \n",
       "1    2014      4    16  \n",
       "2    2014      4    17  \n",
       "3    2014      4    18  \n",
       "4    2014      5    19  \n",
       "..    ...    ...   ...  \n",
       "555  2024     12    49  \n",
       "556  2024     12    50  \n",
       "557  2024     12    51  \n",
       "558  2024     12    52  \n",
       "559  2025      1     2  \n",
       "\n",
       "[560 rows x 9 columns]"
      ],
      "text/html": [
       "<div>\n",
       "<style scoped>\n",
       "    .dataframe tbody tr th:only-of-type {\n",
       "        vertical-align: middle;\n",
       "    }\n",
       "\n",
       "    .dataframe tbody tr th {\n",
       "        vertical-align: top;\n",
       "    }\n",
       "\n",
       "    .dataframe thead th {\n",
       "        text-align: right;\n",
       "    }\n",
       "</style>\n",
       "<table border=\"1\" class=\"dataframe\">\n",
       "  <thead>\n",
       "    <tr style=\"text-align: right;\">\n",
       "      <th></th>\n",
       "      <th>Year-Week</th>\n",
       "      <th>Temperature</th>\n",
       "      <th>Humidity</th>\n",
       "      <th>Precipitation</th>\n",
       "      <th>Cases</th>\n",
       "      <th>Population</th>\n",
       "      <th>Year</th>\n",
       "      <th>Month</th>\n",
       "      <th>Week</th>\n",
       "    </tr>\n",
       "  </thead>\n",
       "  <tbody>\n",
       "    <tr>\n",
       "      <th>0</th>\n",
       "      <td>2014-04-07</td>\n",
       "      <td>29.111821</td>\n",
       "      <td>69.364982</td>\n",
       "      <td>2.800000</td>\n",
       "      <td>18.0</td>\n",
       "      <td>53490.250000</td>\n",
       "      <td>2014</td>\n",
       "      <td>4</td>\n",
       "      <td>15</td>\n",
       "    </tr>\n",
       "    <tr>\n",
       "      <th>1</th>\n",
       "      <td>2014-04-14</td>\n",
       "      <td>28.551928</td>\n",
       "      <td>71.990313</td>\n",
       "      <td>30.800000</td>\n",
       "      <td>11.0</td>\n",
       "      <td>53490.250000</td>\n",
       "      <td>2014</td>\n",
       "      <td>4</td>\n",
       "      <td>16</td>\n",
       "    </tr>\n",
       "    <tr>\n",
       "      <th>2</th>\n",
       "      <td>2014-04-21</td>\n",
       "      <td>27.369892</td>\n",
       "      <td>81.277237</td>\n",
       "      <td>224.799993</td>\n",
       "      <td>16.0</td>\n",
       "      <td>53490.250000</td>\n",
       "      <td>2014</td>\n",
       "      <td>4</td>\n",
       "      <td>17</td>\n",
       "    </tr>\n",
       "    <tr>\n",
       "      <th>3</th>\n",
       "      <td>2014-04-28</td>\n",
       "      <td>28.856428</td>\n",
       "      <td>75.546539</td>\n",
       "      <td>61.600004</td>\n",
       "      <td>14.0</td>\n",
       "      <td>53490.250000</td>\n",
       "      <td>2014</td>\n",
       "      <td>4</td>\n",
       "      <td>18</td>\n",
       "    </tr>\n",
       "    <tr>\n",
       "      <th>4</th>\n",
       "      <td>2014-05-05</td>\n",
       "      <td>29.875322</td>\n",
       "      <td>75.951262</td>\n",
       "      <td>8.800000</td>\n",
       "      <td>20.0</td>\n",
       "      <td>53490.250000</td>\n",
       "      <td>2014</td>\n",
       "      <td>5</td>\n",
       "      <td>19</td>\n",
       "    </tr>\n",
       "    <tr>\n",
       "      <th>...</th>\n",
       "      <td>...</td>\n",
       "      <td>...</td>\n",
       "      <td>...</td>\n",
       "      <td>...</td>\n",
       "      <td>...</td>\n",
       "      <td>...</td>\n",
       "      <td>...</td>\n",
       "      <td>...</td>\n",
       "      <td>...</td>\n",
       "    </tr>\n",
       "    <tr>\n",
       "      <th>555</th>\n",
       "      <td>2024-12-02</td>\n",
       "      <td>29.520965</td>\n",
       "      <td>75.235959</td>\n",
       "      <td>40.450002</td>\n",
       "      <td>135.0</td>\n",
       "      <td>58740.704545</td>\n",
       "      <td>2024</td>\n",
       "      <td>12</td>\n",
       "      <td>49</td>\n",
       "    </tr>\n",
       "    <tr>\n",
       "      <th>556</th>\n",
       "      <td>2024-12-09</td>\n",
       "      <td>28.585107</td>\n",
       "      <td>77.225192</td>\n",
       "      <td>55.400004</td>\n",
       "      <td>166.0</td>\n",
       "      <td>58740.704545</td>\n",
       "      <td>2024</td>\n",
       "      <td>12</td>\n",
       "      <td>50</td>\n",
       "    </tr>\n",
       "    <tr>\n",
       "      <th>557</th>\n",
       "      <td>2024-12-16</td>\n",
       "      <td>26.923679</td>\n",
       "      <td>85.136271</td>\n",
       "      <td>117.550004</td>\n",
       "      <td>133.0</td>\n",
       "      <td>58740.704545</td>\n",
       "      <td>2024</td>\n",
       "      <td>12</td>\n",
       "      <td>51</td>\n",
       "    </tr>\n",
       "    <tr>\n",
       "      <th>558</th>\n",
       "      <td>2024-12-23</td>\n",
       "      <td>27.754071</td>\n",
       "      <td>80.010136</td>\n",
       "      <td>68.600001</td>\n",
       "      <td>96.0</td>\n",
       "      <td>58740.704545</td>\n",
       "      <td>2024</td>\n",
       "      <td>12</td>\n",
       "      <td>52</td>\n",
       "    </tr>\n",
       "    <tr>\n",
       "      <th>559</th>\n",
       "      <td>2025-01-06</td>\n",
       "      <td>28.456000</td>\n",
       "      <td>80.789709</td>\n",
       "      <td>17.950001</td>\n",
       "      <td>125.0</td>\n",
       "      <td>58740.704545</td>\n",
       "      <td>2025</td>\n",
       "      <td>1</td>\n",
       "      <td>2</td>\n",
       "    </tr>\n",
       "  </tbody>\n",
       "</table>\n",
       "<p>560 rows × 9 columns</p>\n",
       "</div>"
      ]
     },
     "execution_count": 6,
     "metadata": {},
     "output_type": "execute_result"
    }
   ],
   "execution_count": 6
  },
  {
   "metadata": {
    "ExecuteTime": {
     "end_time": "2025-04-23T13:07:11.539093Z",
     "start_time": "2025-04-23T13:05:33.575860Z"
    }
   },
   "cell_type": "code",
   "source": [
    "n_head = range(1,13)\n",
    "summed_df[\"Year-Week\"] = pd.to_datetime(summed_df[\"Year-Week\"])\n",
    "for n in n_head:\n",
    "    # minus n_week for 2023-01-01\n",
    "    n_date = pd.to_datetime(\"2023-01-02\") - pd.DateOffset(weeks=n)\n",
    "    print(n_date)\n",
    "    predicted, MAE, MSE = train_ARIMA_n_ahead(municipal_df, target=\"Cases\", n_ahead = n, date_col=\"Year-Week\", year_test_start=n_date, auto_arima=False, arima_order=(3,0,0))\n",
    "    models_utils.save_data(\"(3,0,0)\", n, MSE, MAE, predicted, municipal_df, type=\"Summed Provincial\")"
   ],
   "id": "abb8f6b9eaf477c8",
   "outputs": [
    {
     "name": "stdout",
     "output_type": "stream",
     "text": [
      "2022-12-26 00:00:00\n",
      "2022-12-19 00:00:00\n",
      "2022-12-12 00:00:00\n",
      "2022-12-05 00:00:00\n",
      "2022-11-28 00:00:00\n",
      "2022-11-21 00:00:00\n",
      "2022-11-14 00:00:00\n",
      "2022-11-07 00:00:00\n",
      "2022-10-31 00:00:00\n",
      "2022-10-24 00:00:00\n",
      "2022-10-17 00:00:00\n",
      "2022-10-10 00:00:00\n"
     ]
    }
   ],
   "execution_count": 8
  },
  {
   "metadata": {
    "jupyter": {
     "is_executing": true
    },
    "ExecuteTime": {
     "start_time": "2025-04-23T13:07:11.543396Z"
    }
   },
   "cell_type": "code",
   "source": [
    "n_head = range(1,13)\n",
    "summed_df[\"Year-Week\"] = pd.to_datetime(summed_df[\"Year-Week\"])\n",
    "for n in n_head:\n",
    "    # minus n_week for 2023-01-01\n",
    "    n_date = pd.to_datetime(\"2023-01-02\") - pd.DateOffset(weeks=n)\n",
    "    print(n_date)\n",
    "    predicted, MAE, MSE = train_ARIMA_n_ahead(municipal_df, target=\"Cases\", n_ahead = n, date_col=\"Year-Week\", year_test_start=n_date, auto_arima=False, arima_order=(1,1,1))\n",
    "    models_utils.save_data(\"(1,1,1)\", n, MSE, MAE, predicted, municipal_df, type=\"Summed Provincial\")"
   ],
   "id": "85ab98265c925dce",
   "outputs": [
    {
     "name": "stdout",
     "output_type": "stream",
     "text": [
      "2022-12-26 00:00:00\n",
      "2022-12-19 00:00:00\n",
      "2022-12-12 00:00:00\n"
     ]
    }
   ],
   "execution_count": null
  },
  {
   "metadata": {},
   "cell_type": "code",
   "outputs": [],
   "execution_count": null,
   "source": "",
   "id": "299555f637040e7d"
  }
 ],
 "metadata": {
  "kernelspec": {
   "display_name": "Python 3",
   "language": "python",
   "name": "python3"
  },
  "language_info": {
   "codemirror_mode": {
    "name": "ipython",
    "version": 2
   },
   "file_extension": ".py",
   "mimetype": "text/x-python",
   "name": "python",
   "nbconvert_exporter": "python",
   "pygments_lexer": "ipython2",
   "version": "2.7.6"
  }
 },
 "nbformat": 4,
 "nbformat_minor": 5
}
