{
 "cells": [
  {
   "cell_type": "code",
   "id": "initial_id",
   "metadata": {
    "collapsed": true,
    "ExecuteTime": {
     "end_time": "2025-04-21T20:26:09.508103Z",
     "start_time": "2025-04-21T20:26:09.503112Z"
    }
   },
   "source": [
    "import pandas as pd\n",
    "import sys\n",
    "sys.path.append('../')"
   ],
   "outputs": [],
   "execution_count": 1
  },
  {
   "metadata": {
    "ExecuteTime": {
     "end_time": "2025-04-21T20:26:09.524184Z",
     "start_time": "2025-04-21T20:26:09.518129Z"
    }
   },
   "cell_type": "code",
   "source": [
    "municipals = []\n",
    "with (open(\"../municipals.txt\", \"r\") as f):\n",
    "    for line in f:\n",
    "        municipals.append(line.strip())"
   ],
   "id": "b123611d9b2d0c5b",
   "outputs": [],
   "execution_count": 2
  },
  {
   "metadata": {
    "ExecuteTime": {
     "end_time": "2025-04-21T20:26:11.154155Z",
     "start_time": "2025-04-21T20:26:09.709870Z"
    }
   },
   "cell_type": "code",
   "source": [
    "# Add a new column Date to the csv\n",
    "for municipal in municipals:\n",
    "    for i in range(1, 13):\n",
    "        df = pd.read_csv(f\"output/Municipal/CSV/{municipal}/predictions_{i}_week_ahead.csv\")\n",
    "        # Make a list of dates from 2023-01-02 to 2024-12-23 with a frequency of 7 days\n",
    "        dates = pd.date_range(start=\"2023-01-02\", end=\"2024-12-23\", freq=\"7D\")\n",
    "        df[\"Date\"] = dates\n",
    "        df = df[[\"Date\", \"actual\", \"predictions\"]]\n",
    "        # Save the dataframe to a csv file\n",
    "        df.to_csv(f\"output/Municipal/CSV/{municipal}/predictions_{i}_week_ahead.csv\", index=False)"
   ],
   "id": "70d346e461493d76",
   "outputs": [],
   "execution_count": 3
  },
  {
   "metadata": {
    "ExecuteTime": {
     "end_time": "2025-04-21T00:00:30.051574Z",
     "start_time": "2025-04-21T00:00:28.515808Z"
    }
   },
   "cell_type": "code",
   "source": [
    "for municipal in municipals:\n",
    "    for i in range(1, 13):\n",
    "        df = pd.read_csv(f\"output/Provincial/CSV/{municipal}/predictions_{i}_week_ahead.csv\")\n",
    "        # Make a list of dates from 2023-01-02 to 2024-12-23 with a frequency of 7 days\n",
    "        dates = pd.date_range(start=\"2023-01-02\", end=\"2024-12-23\", freq=\"7D\")\n",
    "        df[\"Date\"] = dates\n",
    "        df = df[[\"Date\", \"actual\", \"predictions\"]]\n",
    "        # Save the dataframe to a csv file\n",
    "        df.to_csv(f\"output/Provincial/CSV/{municipal}/predictions_{i}_week_ahead.csv\", index=False)"
   ],
   "id": "ac510c2919849816",
   "outputs": [],
   "execution_count": 4
  },
  {
   "metadata": {},
   "cell_type": "code",
   "outputs": [],
   "execution_count": null,
   "source": "",
   "id": "efec3a51e53c6d3f"
  }
 ],
 "metadata": {
  "kernelspec": {
   "display_name": "Python 3",
   "language": "python",
   "name": "python3"
  },
  "language_info": {
   "codemirror_mode": {
    "name": "ipython",
    "version": 2
   },
   "file_extension": ".py",
   "mimetype": "text/x-python",
   "name": "python",
   "nbconvert_exporter": "python",
   "pygments_lexer": "ipython2",
   "version": "2.7.6"
  }
 },
 "nbformat": 4,
 "nbformat_minor": 5
}
