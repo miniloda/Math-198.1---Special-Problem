{
 "cells": [
  {
   "cell_type": "code",
   "id": "initial_id",
   "metadata": {
    "collapsed": true,
    "ExecuteTime": {
     "end_time": "2025-02-11T17:50:37.865085Z",
     "start_time": "2025-02-11T17:50:37.785450Z"
    }
   },
   "source": "import utils",
   "outputs": [],
   "execution_count": 1
  },
  {
   "metadata": {
    "ExecuteTime": {
     "end_time": "2025-02-11T17:50:37.873709Z",
     "start_time": "2025-02-11T17:50:37.870591Z"
    }
   },
   "cell_type": "code",
   "source": [
    "municipal_list = []\n",
    "with open('municipals.txt') as f:\n",
    "    for line in f:\n",
    "        municipal_list.append(line.strip())\n",
    "print(municipal_list)"
   ],
   "id": "c63d0b8f5ac5a658",
   "outputs": [
    {
     "name": "stdout",
     "output_type": "stream",
     "text": [
      "['Ajuy', 'Alimodian', 'Anilao', 'Badiangan', 'Balasan', 'Banate', 'Barotac Nuevo', 'Barotac Viejo', 'Batad', 'Bingawan', 'Cabatuan', 'Calinog', 'Carles', 'Passi City', 'Concepcion', 'Dingle', 'Dumangas', 'Estancia', 'Guimbal', 'Igbaras', 'Janiuay', 'Lambunao', 'Leganes', 'Lemery', 'Leon', 'Maasin', 'Miagao', 'Mina', 'New Lucena', 'Oton', 'Pavia', 'Pototan', 'San Dionisio', 'San Enrique', 'San Joaquin', 'San Rafael', 'Santa Barbara', 'Sara', 'Tigbauan', 'Tubungan', 'Zarraga']\n"
     ]
    }
   ],
   "execution_count": 2
  },
  {
   "metadata": {
    "ExecuteTime": {
     "end_time": "2025-02-11T17:50:47.411078Z",
     "start_time": "2025-02-11T17:50:37.975332Z"
    }
   },
   "cell_type": "code",
   "source": [
    "# make a csv file for municipals and their corresponding coordinates\n",
    "file_name = 'municipal_coordinates.csv'\n",
    "column_names = ['Municipality', 'Latitude', 'Longitude']\n",
    "municipal_coords = utils.municipal_coordinates(file_name, municipal_list, column_names, rewrite_file=True)"
   ],
   "id": "82afc9135337f2fa",
   "outputs": [],
   "execution_count": 3
  },
  {
   "metadata": {
    "ExecuteTime": {
     "end_time": "2025-02-11T17:50:47.427687Z",
     "start_time": "2025-02-11T17:50:47.419959Z"
    }
   },
   "cell_type": "code",
   "source": "municipal_coords",
   "id": "9605c07121b322f6",
   "outputs": [
    {
     "data": {
      "text/plain": [
       "{'Ajuy': (11.1246161, 123.0113568),\n",
       " 'Alimodian': (10.8773088, 122.367428),\n",
       " 'Anilao': (11.0002604, 122.740723),\n",
       " 'Badiangan': (10.9964817, 122.5259596),\n",
       " 'Balasan': (11.4592707, 123.0901539),\n",
       " 'Banate': (11.000592, 122.8155554),\n",
       " 'Barotac Nuevo': (10.9216153, 122.740723),\n",
       " 'Barotac Viejo': (11.0625316, 122.8761309),\n",
       " 'Batad': (11.4169972, 123.1126559),\n",
       " 'Bingawan': (11.2052871, 122.593828),\n",
       " 'Cabatuan': (10.9091869, 122.5146439),\n",
       " 'Calinog': (11.1457896, 122.5146439),\n",
       " 'Carles': (11.5687532, 123.2363246),\n",
       " 'Passi City': (11.1687967, 122.650351),\n",
       " 'Concepcion': (11.2147313, 123.1044322),\n",
       " 'Dingle': (11.0111309, 122.650351),\n",
       " 'Dumangas': (10.8484102, 122.695547),\n",
       " 'Estancia': (11.4619823, 123.1463992),\n",
       " 'Guimbal': (10.6686639, 122.2994127),\n",
       " 'Igbaras': (10.7162878, 122.2649758),\n",
       " 'Janiuay': (10.9987667, 122.424074),\n",
       " 'Lambunao': (11.077708, 122.424074),\n",
       " 'Leganes': (10.7916725, 122.593828),\n",
       " 'Lemery': (11.214412, 122.9212265),\n",
       " 'Leon': (10.8208599, 122.3447611),\n",
       " 'Maasin': (10.8914767, 122.4333105),\n",
       " 'Miagao': (10.6705468, 122.1973081),\n",
       " 'Mina': (10.9516879, 122.5712101),\n",
       " 'New Lucena': (10.8729712, 122.5712101),\n",
       " 'Oton': (10.7240176, 122.4562615),\n",
       " 'Pavia': (10.7603368, 122.5259596),\n",
       " 'Pototan': (10.9239245, 122.6390489),\n",
       " 'San Dionisio': (11.3101048, 123.1014056),\n",
       " 'San Enrique': (11.1098942, 122.7294309),\n",
       " 'San Joaquin': (10.5887998, 122.1396745),\n",
       " 'San Rafael': (11.1467423, 122.831015),\n",
       " 'Santa Barbara': (10.8166467, 122.5485873),\n",
       " 'Sara': (11.2932407, 123.000095),\n",
       " 'Tigbauan': (10.7283347, 122.3787597),\n",
       " 'Tubungan': (10.7893861, 122.2767313),\n",
       " 'Zarraga': (10.8283042, 122.6164409)}"
      ]
     },
     "execution_count": 4,
     "metadata": {},
     "output_type": "execute_result"
    }
   ],
   "execution_count": 4
  },
  {
   "metadata": {
    "ExecuteTime": {
     "end_time": "2025-02-11T17:50:48.671422Z",
     "start_time": "2025-02-11T17:50:47.529482Z"
    }
   },
   "cell_type": "code",
   "source": [
    "# get the weather data for each municipality (running list, as we have limited calls per day)\n",
    "weather_data = utils.weather_to_jsonl(municipal_coords, 'municipal_weather_data.jsonl', rewrite_file=False)"
   ],
   "id": "7cb634644785a0d",
   "outputs": [
    {
     "name": "stdout",
     "output_type": "stream",
     "text": [
      "Ajuy already exists in the file. Skipping...\n",
      "Alimodian already exists in the file. Skipping...\n",
      "Anilao already exists in the file. Skipping...\n",
      "Badiangan already exists in the file. Skipping...\n",
      "Balasan already exists in the file. Skipping...\n",
      "Banate already exists in the file. Skipping...\n",
      "Barotac Nuevo already exists in the file. Skipping...\n",
      "Barotac Viejo already exists in the file. Skipping...\n",
      "Batad already exists in the file. Skipping...\n",
      "Bingawan already exists in the file. Skipping...\n",
      "Cabatuan already exists in the file. Skipping...\n",
      "Calinog already exists in the file. Skipping...\n",
      "Carles already exists in the file. Skipping...\n",
      "Passi City already exists in the file. Skipping...\n",
      "Concepcion already exists in the file. Skipping...\n",
      "Dingle already exists in the file. Skipping...\n",
      "Dumangas already exists in the file. Skipping...\n",
      "Estancia already exists in the file. Skipping...\n",
      "Guimbal already exists in the file. Skipping...\n",
      "Igbaras already exists in the file. Skipping...\n",
      "Janiuay already exists in the file. Skipping...\n",
      "Lambunao already exists in the file. Skipping...\n",
      "Leganes already exists in the file. Skipping...\n",
      "Lemery already exists in the file. Skipping...\n",
      "Leon already exists in the file. Skipping...\n",
      "Maasin already exists in the file. Skipping...\n",
      "Miagao already exists in the file. Skipping...\n",
      "Mina already exists in the file. Skipping...\n",
      "New Lucena already exists in the file. Skipping...\n",
      "Oton already exists in the file. Skipping...\n",
      "Pavia already exists in the file. Skipping...\n",
      "Pototan already exists in the file. Skipping...\n",
      "San Dionisio already exists in the file. Skipping...\n",
      "San Enrique already exists in the file. Skipping...\n",
      "San Joaquin already exists in the file. Skipping...\n",
      "San Rafael already exists in the file. Skipping...\n",
      "Santa Barbara already exists in the file. Skipping...\n",
      "Sara already exists in the file. Skipping...\n",
      "Tigbauan already exists in the file. Skipping...\n",
      "Tubungan already exists in the file. Skipping...\n",
      "Zarraga already exists in the file. Skipping...\n"
     ]
    }
   ],
   "execution_count": 5
  },
  {
   "metadata": {
    "ExecuteTime": {
     "end_time": "2025-02-11T17:51:07.576425Z",
     "start_time": "2025-02-11T17:50:48.679956Z"
    }
   },
   "cell_type": "code",
   "source": "utils.air_pollution_to_jsonl(municipal_coords, 'municipal_air_pollution_data.jsonl', rewrite_file=False)",
   "id": "10f3673cd81259ce",
   "outputs": [
    {
     "name": "stdout",
     "output_type": "stream",
     "text": [
      "{'coord': {'lon': 123.0114, 'lat': 11.1246}, 'list': [{'main': {'aqi': 1}, 'components': {'co': 220.3, 'no': 0, 'no2': 1.65, 'o3': 27.54, 'so2': 4.95, 'pm2_5': 5.17, 'pm10': 5.92, 'nh3': 0.58}, 'dt': 1609430400}, {'main': {'aqi': 1}, 'components': {'co': 208.62, 'no': 0, 'no2': 1.48, 'o3': 23.96, 'so2': 5.01, 'pm2_5': 5.29, 'pm10': 6.03, 'nh3': 0.52}, 'dt': 1609434000}, {'main': {'aqi': 1}, 'components': {'co': 201.94, 'no': 0, 'no2': 1.41, 'o3': 22.35, 'so2': 4.71, 'pm2_5': 5.06, 'pm10': 5.8, 'nh3': 0.49}, 'dt': 1609437600}, {'main': {'aqi': 1}, 'components': {'co': 200.27, 'no': 0, 'no2': 1.5, 'o3': 22.71, 'so2': 4.11, 'pm2_5': 4.58, 'pm10': 5.3, 'nh3': 0.53}, 'dt': 1609441200}, {'main': {'aqi': 1}, 'components': {'co': 198.6, 'no': 0, 'no2': 1.52, 'o3': 25.75, 'so2': 3.55, 'pm2_5': 4.05, 'pm10': 4.7, 'nh3': 0.57}, 'dt': 1609444800}, {'main': {'aqi': 1}, 'components': {'co': 210.29, 'no': 0, 'no2': 1.44, 'o3': 33.98, 'so2': 3.37, 'pm2_5': 4.02, 'pm10': 4.66, 'nh3': 0.59}, 'dt': 1609448400}, {'main': {'aqi': 1}, 'components': {'co': 236.99, 'no': 0, 'no2': 1.27, 'o3': 46.49, 'so2': 3.46, 'pm2_5': 4.36, 'pm10': 5.05, 'nh3': 0.51}, 'dt': 1609452000}, {'main': {'aqi': 1}, 'components': {'co': 260.35, 'no': 0, 'no2': 1.39, 'o3': 54.36, 'so2': 3.55, 'pm2_5': 4.83, 'pm10': 5.62, 'nh3': 0.44}, 'dt': 1609455600}, {'main': {'aqi': 1}, 'components': {'co': 263.69, 'no': 0.03, 'no2': 1.61, 'o3': 56.51, 'so2': 3.52, 'pm2_5': 5.01, 'pm10': 5.88, 'nh3': 0.42}, 'dt': 1609459200}, {'main': {'aqi': 1}, 'components': {'co': 257.02, 'no': 0.06, 'no2': 1.46, 'o3': 57.22, 'so2': 3.25, 'pm2_5': 4.84, 'pm10': 5.7, 'nh3': 0.29}, 'dt': 1609462800}, {'main': {'aqi': 1}, 'components': {'co': 243.66, 'no': 0.05, 'no2': 1.22, 'o3': 55.79, 'so2': 2.89, 'pm2_5': 4.65, 'pm10': 5.54, 'nh3': 0.21}, 'dt': 1609466400}, {'main': {'aqi': 1}, 'components': {'co': 233.65, 'no': 0.04, 'no2': 1.04, 'o3': 54.36, 'so2': 3.1, 'pm2_5': 5.02, 'pm10': 6.09, 'nh3': 0.13}, 'dt': 1609470000}, {'main': {'aqi': 1}, 'components': {'co': 223.64, 'no': 0.04, 'no2': 0.92, 'o3': 51.5, 'so2': 4.05, 'pm2_5': 5.73, 'pm10': 7.16, 'nh3': 0.08}, 'dt': 1609473600}, {'main': {'aqi': 1}, 'components': {'co': 220.3, 'no': 0.05, 'no2': 0.79, 'o3': 52.21, 'so2': 5.19, 'pm2_5': 6.42, 'pm10': 8.17, 'nh3': 0.01}, 'dt': 1609477200}, {'main': {'aqi': 1}, 'components': {'co': 230.31, 'no': 0.04, 'no2': 0.69, 'o3': 62.94, 'so2': 4.89, 'pm2_5': 6.21, 'pm10': 7.68, 'nh3': 0.03}, 'dt': 1609480800}, {'main': {'aqi': 1}, 'components': {'co': 236.99, 'no': 0.06, 'no2': 0.8, 'o3': 69.38, 'so2': 3.37, 'pm2_5': 5.36, 'pm10': 6.52, 'nh3': 0.33}, 'dt': 1609484400}, {'main': {'aqi': 1}, 'components': {'co': 240.33, 'no': 0.1, 'no2': 1.09, 'o3': 69.38, 'so2': 2.5, 'pm2_5': 5.13, 'pm10': 6.28, 'nh3': 0.61}, 'dt': 1609488000}, {'main': {'aqi': 1}, 'components': {'co': 250.34, 'no': 0.1, 'no2': 1.65, 'o3': 67.95, 'so2': 2.83, 'pm2_5': 5.76, 'pm10': 7.14, 'nh3': 0.78}, 'dt': 1609491600}, {'main': {'aqi': 1}, 'components': {'co': 257.02, 'no': 0.01, 'no2': 2.04, 'o3': 64.37, 'so2': 3.93, 'pm2_5': 7.53, 'pm10': 9.58, 'nh3': 0.77}, 'dt': 1609495200}, {'main': {'aqi': 1}, 'components': {'co': 253.68, 'no': 0, 'no2': 1.8, 'o3': 64.37, 'so2': 4.47, 'pm2_5': 9.03, 'pm10': 11.87, 'nh3': 0.68}, 'dt': 1609498800}, {'main': {'aqi': 1}, 'components': {'co': 240.33, 'no': 0, 'no2': 1.61, 'o3': 67.95, 'so2': 3.99, 'pm2_5': 8.6, 'pm10': 11.55, 'nh3': 0.68}, 'dt': 1609502400}, {'main': {'aqi': 1}, 'components': {'co': 230.31, 'no': 0, 'no2': 1.44, 'o3': 72.24, 'so2': 3.49, 'pm2_5': 7.84, 'pm10': 10.64, 'nh3': 0.63}, 'dt': 1609506000}, {'main': {'aqi': 1}, 'components': {'co': 230.31, 'no': 0, 'no2': 1.39, 'o3': 72.24, 'so2': 3.58, 'pm2_5': 7.81, 'pm10': 10.46, 'nh3': 0.59}, 'dt': 1609509600}, {'main': {'aqi': 1}, 'components': {'co': 230.31, 'no': 0, 'no2': 1.37, 'o3': 70.81, 'so2': 4.05, 'pm2_5': 8.54, 'pm10': 11.26, 'nh3': 0.53}, 'dt': 1609513200}]}\n",
      "[]\n",
      "{'coord': {'lon': 123.0114, 'lat': 11.1246}, 'list': [{'main': {'aqi': 1}, 'components': {'co': 233.65, 'no': 0, 'no2': 1.31, 'o3': 69.38, 'so2': 4.47, 'pm2_5': 9.38, 'pm10': 11.69, 'nh3': 0.45}, 'dt': 1609516800}, {'main': {'aqi': 1}, 'components': {'co': 233.65, 'no': 0, 'no2': 1.14, 'o3': 68.67, 'so2': 4.59, 'pm2_5': 9.92, 'pm10': 11.8, 'nh3': 0.4}, 'dt': 1609520400}, {'main': {'aqi': 1}, 'components': {'co': 226.97, 'no': 0, 'no2': 1.02, 'o3': 67.95, 'so2': 4.53, 'pm2_5': 9.95, 'pm10': 11.6, 'nh3': 0.38}, 'dt': 1609524000}, {'main': {'aqi': 1}, 'components': {'co': 223.64, 'no': 0, 'no2': 1.02, 'o3': 67.95, 'so2': 4.35, 'pm2_5': 9.87, 'pm10': 11.34, 'nh3': 0.42}, 'dt': 1609527600}, {'main': {'aqi': 1}, 'components': {'co': 226.97, 'no': 0, 'no2': 1.07, 'o3': 67.95, 'so2': 4.17, 'pm2_5': 9.73, 'pm10': 10.97, 'nh3': 0.49}, 'dt': 1609531200}, {'main': {'aqi': 1}, 'components': {'co': 226.97, 'no': 0, 'no2': 1.15, 'o3': 68.67, 'so2': 3.93, 'pm2_5': 9.76, 'pm10': 10.95, 'nh3': 0.56}, 'dt': 1609534800}, {'main': {'aqi': 1}, 'components': {'co': 226.97, 'no': 0, 'no2': 1.14, 'o3': 68.67, 'so2': 3.76, 'pm2_5': 9.64, 'pm10': 10.89, 'nh3': 0.54}, 'dt': 1609538400}, {'main': {'aqi': 1}, 'components': {'co': 223.64, 'no': 0, 'no2': 1.23, 'o3': 67.23, 'so2': 3.64, 'pm2_5': 9.44, 'pm10': 10.78, 'nh3': 0.49}, 'dt': 1609542000}, {'main': {'aqi': 1}, 'components': {'co': 223.64, 'no': 0.02, 'no2': 1.39, 'o3': 65.8, 'so2': 3.49, 'pm2_5': 8.89, 'pm10': 10.19, 'nh3': 0.48}, 'dt': 1609545600}, {'main': {'aqi': 1}, 'components': {'co': 220.3, 'no': 0.03, 'no2': 1.25, 'o3': 66.52, 'so2': 3.4, 'pm2_5': 8.3, 'pm10': 9.57, 'nh3': 0.36}, 'dt': 1609549200}, {'main': {'aqi': 1}, 'components': {'co': 213.62, 'no': 0.03, 'no2': 1.02, 'o3': 66.52, 'so2': 3.49, 'pm2_5': 8.14, 'pm10': 9.44, 'nh3': 0.28}, 'dt': 1609552800}, {'main': {'aqi': 1}, 'components': {'co': 208.62, 'no': 0.03, 'no2': 0.8, 'o3': 65.8, 'so2': 3.67, 'pm2_5': 8.48, 'pm10': 9.71, 'nh3': 0.18}, 'dt': 1609556400}, {'main': {'aqi': 1}, 'components': {'co': 208.62, 'no': 0.03, 'no2': 0.74, 'o3': 65.09, 'so2': 3.7, 'pm2_5': 8.74, 'pm10': 9.78, 'nh3': 0.17}, 'dt': 1609560000}, {'main': {'aqi': 1}, 'components': {'co': 210.29, 'no': 0.03, 'no2': 0.78, 'o3': 63.66, 'so2': 3.61, 'pm2_5': 8.58, 'pm10': 9.52, 'nh3': 0.23}, 'dt': 1609563600}, {'main': {'aqi': 1}, 'components': {'co': 210.29, 'no': 0.02, 'no2': 0.83, 'o3': 62.94, 'so2': 3.67, 'pm2_5': 8.37, 'pm10': 9.26, 'nh3': 0.24}, 'dt': 1609567200}, {'main': {'aqi': 1}, 'components': {'co': 213.62, 'no': 0.02, 'no2': 0.98, 'o3': 60.8, 'so2': 3.73, 'pm2_5': 8.07, 'pm10': 8.88, 'nh3': 0.32}, 'dt': 1609570800}, {'main': {'aqi': 1}, 'components': {'co': 216.96, 'no': 0.01, 'no2': 1.17, 'o3': 59.37, 'so2': 3.93, 'pm2_5': 8.03, 'pm10': 8.76, 'nh3': 0.39}, 'dt': 1609574400}, {'main': {'aqi': 1}, 'components': {'co': 220.3, 'no': 0, 'no2': 1.41, 'o3': 58.65, 'so2': 4.35, 'pm2_5': 8.32, 'pm10': 9.05, 'nh3': 0.4}, 'dt': 1609578000}, {'main': {'aqi': 1}, 'components': {'co': 223.64, 'no': 0, 'no2': 1.46, 'o3': 58.65, 'so2': 4.95, 'pm2_5': 8.53, 'pm10': 9.28, 'nh3': 0.34}, 'dt': 1609581600}, {'main': {'aqi': 1}, 'components': {'co': 226.97, 'no': 0, 'no2': 1.32, 'o3': 58.65, 'so2': 5.31, 'pm2_5': 8.31, 'pm10': 9.04, 'nh3': 0.33}, 'dt': 1609585200}, {'main': {'aqi': 1}, 'components': {'co': 230.31, 'no': 0, 'no2': 1.2, 'o3': 57.22, 'so2': 5.25, 'pm2_5': 7.69, 'pm10': 8.38, 'nh3': 0.37}, 'dt': 1609588800}, {'main': {'aqi': 1}, 'components': {'co': 233.65, 'no': 0, 'no2': 1.1, 'o3': 55.08, 'so2': 4.53, 'pm2_5': 6.79, 'pm10': 7.49, 'nh3': 0.39}, 'dt': 1609592400}, {'main': {'aqi': 1}, 'components': {'co': 236.99, 'no': 0, 'no2': 1.14, 'o3': 52.21, 'so2': 3.52, 'pm2_5': 5.78, 'pm10': 6.55, 'nh3': 0.44}, 'dt': 1609596000}, {'main': {'aqi': 1}, 'components': {'co': 230.31, 'no': 0, 'no2': 1.2, 'o3': 48.64, 'so2': 2.74, 'pm2_5': 4.42, 'pm10': 5.23, 'nh3': 0.51}, 'dt': 1609599600}]}\n",
      "[]\n",
      "{'coord': {'lon': 123.0114, 'lat': 11.1246}, 'list': [{'main': {'aqi': 1}, 'components': {'co': 216.96, 'no': 0, 'no2': 1.23, 'o3': 46.49, 'so2': 2.27, 'pm2_5': 3.21, 'pm10': 3.97, 'nh3': 0.55}, 'dt': 1609603200}, {'main': {'aqi': 1}, 'components': {'co': 203.61, 'no': 0, 'no2': 1.18, 'o3': 45.06, 'so2': 1.79, 'pm2_5': 2.37, 'pm10': 3.08, 'nh3': 0.55}, 'dt': 1609606800}, {'main': {'aqi': 1}, 'components': {'co': 195.27, 'no': 0, 'no2': 1.18, 'o3': 42.92, 'so2': 1.3, 'pm2_5': 1.93, 'pm10': 2.62, 'nh3': 0.55}, 'dt': 1609610400}, {'main': {'aqi': 1}, 'components': {'co': 195.27, 'no': 0, 'no2': 1.24, 'o3': 40.05, 'so2': 0.83, 'pm2_5': 1.69, 'pm10': 2.33, 'nh3': 0.56}, 'dt': 1609614000}, {'main': {'aqi': 1}, 'components': {'co': 195.27, 'no': 0, 'no2': 1.26, 'o3': 36.48, 'so2': 0.45, 'pm2_5': 1.38, 'pm10': 1.98, 'nh3': 0.52}, 'dt': 1609617600}, {'main': {'aqi': 1}, 'components': {'co': 195.27, 'no': 0, 'no2': 1.21, 'o3': 31.47, 'so2': 0.25, 'pm2_5': 1.09, 'pm10': 1.66, 'nh3': 0.48}, 'dt': 1609621200}, {'main': {'aqi': 1}, 'components': {'co': 195.27, 'no': 0, 'no2': 1.14, 'o3': 26.82, 'so2': 0.21, 'pm2_5': 0.95, 'pm10': 1.54, 'nh3': 0.45}, 'dt': 1609624800}, {'main': {'aqi': 1}, 'components': {'co': 200.27, 'no': 0.01, 'no2': 1.32, 'o3': 22.89, 'so2': 0.28, 'pm2_5': 1, 'pm10': 1.63, 'nh3': 0.52}, 'dt': 1609628400}, {'main': {'aqi': 1}, 'components': {'co': 203.61, 'no': 0.03, 'no2': 1.63, 'o3': 20.39, 'so2': 0.37, 'pm2_5': 1.07, 'pm10': 1.7, 'nh3': 0.59}, 'dt': 1609632000}, {'main': {'aqi': 1}, 'components': {'co': 201.94, 'no': 0.06, 'no2': 1.59, 'o3': 18.95, 'so2': 0.37, 'pm2_5': 1.04, 'pm10': 1.67, 'nh3': 0.57}, 'dt': 1609635600}, {'main': {'aqi': 1}, 'components': {'co': 195.27, 'no': 0.08, 'no2': 1.31, 'o3': 18.95, 'so2': 0.32, 'pm2_5': 0.99, 'pm10': 1.61, 'nh3': 0.5}, 'dt': 1609639200}, {'main': {'aqi': 1}, 'components': {'co': 191.93, 'no': 0.08, 'no2': 1.16, 'o3': 20.03, 'so2': 0.3, 'pm2_5': 0.97, 'pm10': 1.54, 'nh3': 0.42}, 'dt': 1609642800}, {'main': {'aqi': 1}, 'components': {'co': 190.26, 'no': 0.06, 'no2': 1.14, 'o3': 21.99, 'so2': 0.3, 'pm2_5': 0.98, 'pm10': 1.51, 'nh3': 0.4}, 'dt': 1609646400}, {'main': {'aqi': 1}, 'components': {'co': 190.26, 'no': 0.05, 'no2': 1.11, 'o3': 25.03, 'so2': 0.29, 'pm2_5': 0.98, 'pm10': 1.5, 'nh3': 0.38}, 'dt': 1609650000}, {'main': {'aqi': 1}, 'components': {'co': 190.26, 'no': 0.03, 'no2': 1.05, 'o3': 28.97, 'so2': 0.28, 'pm2_5': 0.95, 'pm10': 1.45, 'nh3': 0.34}, 'dt': 1609653600}, {'main': {'aqi': 1}, 'components': {'co': 191.93, 'no': 0.02, 'no2': 1.11, 'o3': 31.47, 'so2': 0.28, 'pm2_5': 1.01, 'pm10': 1.54, 'nh3': 0.43}, 'dt': 1609657200}, {'main': {'aqi': 1}, 'components': {'co': 196.93, 'no': 0.01, 'no2': 1.31, 'o3': 32.54, 'so2': 0.29, 'pm2_5': 1.21, 'pm10': 1.78, 'nh3': 0.56}, 'dt': 1609660800}, {'main': {'aqi': 1}, 'components': {'co': 203.61, 'no': 0.01, 'no2': 1.61, 'o3': 32.9, 'so2': 0.36, 'pm2_5': 1.49, 'pm10': 2.1, 'nh3': 0.67}, 'dt': 1609664400}, {'main': {'aqi': 1}, 'components': {'co': 206.95, 'no': 0, 'no2': 1.74, 'o3': 33.26, 'so2': 0.42, 'pm2_5': 1.78, 'pm10': 2.44, 'nh3': 0.71}, 'dt': 1609668000}, {'main': {'aqi': 1}, 'components': {'co': 208.62, 'no': 0, 'no2': 1.67, 'o3': 33.26, 'so2': 0.47, 'pm2_5': 2.04, 'pm10': 2.75, 'nh3': 0.77}, 'dt': 1609671600}, {'main': {'aqi': 1}, 'components': {'co': 211.95, 'no': 0, 'no2': 1.59, 'o3': 33.62, 'so2': 0.49, 'pm2_5': 2.33, 'pm10': 3.08, 'nh3': 0.84}, 'dt': 1609675200}, {'main': {'aqi': 1}, 'components': {'co': 210.29, 'no': 0, 'no2': 1.44, 'o3': 33.98, 'so2': 0.48, 'pm2_5': 2.51, 'pm10': 3.3, 'nh3': 0.84}, 'dt': 1609678800}, {'main': {'aqi': 1}, 'components': {'co': 206.95, 'no': 0, 'no2': 1.34, 'o3': 35.05, 'so2': 0.47, 'pm2_5': 2.65, 'pm10': 3.48, 'nh3': 0.82}, 'dt': 1609682400}, {'main': {'aqi': 1}, 'components': {'co': 203.61, 'no': 0, 'no2': 1.33, 'o3': 36.48, 'so2': 0.5, 'pm2_5': 2.84, 'pm10': 3.69, 'nh3': 0.79}, 'dt': 1609686000}]}\n",
      "[]\n",
      "{'coord': {'lon': 123.0114, 'lat': 11.1246}, 'list': [{'main': {'aqi': 1}, 'components': {'co': 201.94, 'no': 0, 'no2': 1.32, 'o3': 36.84, 'so2': 0.68, 'pm2_5': 3.02, 'pm10': 3.82, 'nh3': 0.78}, 'dt': 1609689600}, {'main': {'aqi': 1}, 'components': {'co': 198.6, 'no': 0, 'no2': 1.21, 'o3': 36.48, 'so2': 1.06, 'pm2_5': 3.26, 'pm10': 4.05, 'nh3': 0.71}, 'dt': 1609693200}, {'main': {'aqi': 1}, 'components': {'co': 196.93, 'no': 0, 'no2': 1.16, 'o3': 35.76, 'so2': 1.54, 'pm2_5': 3.72, 'pm10': 4.55, 'nh3': 0.65}, 'dt': 1609696800}, {'main': {'aqi': 1}, 'components': {'co': 196.93, 'no': 0, 'no2': 1.23, 'o3': 34.33, 'so2': 1.94, 'pm2_5': 4.26, 'pm10': 5.12, 'nh3': 0.64}, 'dt': 1609700400}, {'main': {'aqi': 1}, 'components': {'co': 196.93, 'no': 0, 'no2': 1.29, 'o3': 33.26, 'so2': 2.06, 'pm2_5': 4.47, 'pm10': 5.38, 'nh3': 0.64}, 'dt': 1609704000}, {'main': {'aqi': 1}, 'components': {'co': 196.93, 'no': 0, 'no2': 1.3, 'o3': 32.19, 'so2': 1.97, 'pm2_5': 4.35, 'pm10': 5.37, 'nh3': 0.65}, 'dt': 1609707600}, {'main': {'aqi': 1}, 'components': {'co': 193.6, 'no': 0, 'no2': 1.2, 'o3': 31.83, 'so2': 1.77, 'pm2_5': 4.09, 'pm10': 5.28, 'nh3': 0.57}, 'dt': 1609711200}, {'main': {'aqi': 1}, 'components': {'co': 191.93, 'no': 0.01, 'no2': 1.24, 'o3': 31.47, 'so2': 1.67, 'pm2_5': 3.91, 'pm10': 5.28, 'nh3': 0.5}, 'dt': 1609714800}, {'main': {'aqi': 1}, 'components': {'co': 191.93, 'no': 0.11, 'no2': 1.26, 'o3': 32.19, 'so2': 1.79, 'pm2_5': 3.99, 'pm10': 5.45, 'nh3': 0.4}, 'dt': 1609718400}, {'main': {'aqi': 1}, 'components': {'co': 186.92, 'no': 0.17, 'no2': 0.99, 'o3': 34.69, 'so2': 1.86, 'pm2_5': 4.18, 'pm10': 5.84, 'nh3': 0.3}, 'dt': 1609722000}, {'main': {'aqi': 1}, 'components': {'co': 183.58, 'no': 0.17, 'no2': 0.74, 'o3': 37.55, 'so2': 1.83, 'pm2_5': 4.63, 'pm10': 6.52, 'nh3': 0.27}, 'dt': 1609725600}, {'main': {'aqi': 1}, 'components': {'co': 181.91, 'no': 0.14, 'no2': 0.55, 'o3': 40.05, 'so2': 1.68, 'pm2_5': 5.43, 'pm10': 7.4, 'nh3': 0.23}, 'dt': 1609729200}, {'main': {'aqi': 1}, 'components': {'co': 180.24, 'no': 0.1, 'no2': 0.42, 'o3': 43.99, 'so2': 1.3, 'pm2_5': 5.85, 'pm10': 7.47, 'nh3': 0.2}, 'dt': 1609732800}, {'main': {'aqi': 1}, 'components': {'co': 180.24, 'no': 0.07, 'no2': 0.43, 'o3': 46.49, 'so2': 0.97, 'pm2_5': 5.46, 'pm10': 6.63, 'nh3': 0.21}, 'dt': 1609736400}, {'main': {'aqi': 1}, 'components': {'co': 180.24, 'no': 0.04, 'no2': 0.47, 'o3': 47.92, 'so2': 0.68, 'pm2_5': 4.79, 'pm10': 5.63, 'nh3': 0.21}, 'dt': 1609740000}, {'main': {'aqi': 1}, 'components': {'co': 185.25, 'no': 0.03, 'no2': 0.8, 'o3': 47.21, 'so2': 0.55, 'pm2_5': 4.4, 'pm10': 5.1, 'nh3': 0.38}, 'dt': 1609743600}, {'main': {'aqi': 1}, 'components': {'co': 195.27, 'no': 0.03, 'no2': 1.27, 'o3': 46.49, 'so2': 0.54, 'pm2_5': 4.21, 'pm10': 4.85, 'nh3': 0.59}, 'dt': 1609747200}, {'main': {'aqi': 1}, 'components': {'co': 206.95, 'no': 0.01, 'no2': 1.89, 'o3': 45.42, 'so2': 0.62, 'pm2_5': 4.13, 'pm10': 4.74, 'nh3': 0.78}, 'dt': 1609750800}, {'main': {'aqi': 1}, 'components': {'co': 211.95, 'no': 0, 'no2': 2.12, 'o3': 44.7, 'so2': 0.66, 'pm2_5': 4.07, 'pm10': 4.76, 'nh3': 0.9}, 'dt': 1609754400}, {'main': {'aqi': 1}, 'components': {'co': 210.29, 'no': 0, 'no2': 1.89, 'o3': 42.56, 'so2': 0.75, 'pm2_5': 4.16, 'pm10': 4.94, 'nh3': 0.86}, 'dt': 1609758000}, {'main': {'aqi': 1}, 'components': {'co': 208.62, 'no': 0, 'no2': 1.67, 'o3': 37.91, 'so2': 1.71, 'pm2_5': 4.79, 'pm10': 5.67, 'nh3': 0.76}, 'dt': 1609761600}, {'main': {'aqi': 1}, 'components': {'co': 205.28, 'no': 0, 'no2': 1.44, 'o3': 33.62, 'so2': 3.52, 'pm2_5': 5.49, 'pm10': 6.41, 'nh3': 0.59}, 'dt': 1609765200}, {'main': {'aqi': 1}, 'components': {'co': 203.61, 'no': 0, 'no2': 1.35, 'o3': 33.26, 'so2': 4.53, 'pm2_5': 5.93, 'pm10': 6.96, 'nh3': 0.52}, 'dt': 1609768800}, {'main': {'aqi': 1}, 'components': {'co': 203.61, 'no': 0, 'no2': 1.37, 'o3': 34.33, 'so2': 4.35, 'pm2_5': 6.09, 'pm10': 7.22, 'nh3': 0.55}, 'dt': 1609772400}]}\n",
      "[]\n",
      "{'coord': {'lon': 123.0114, 'lat': 11.1246}, 'list': [{'main': {'aqi': 1}, 'components': {'co': 201.94, 'no': 0, 'no2': 1.41, 'o3': 35.41, 'so2': 3.49, 'pm2_5': 5.92, 'pm10': 7.02, 'nh3': 0.61}, 'dt': 1609776000}, {'main': {'aqi': 1}, 'components': {'co': 198.6, 'no': 0, 'no2': 1.3, 'o3': 36.84, 'so2': 2.38, 'pm2_5': 5.52, 'pm10': 6.64, 'nh3': 0.61}, 'dt': 1609779600}, {'main': {'aqi': 1}, 'components': {'co': 193.6, 'no': 0, 'no2': 1.18, 'o3': 37.55, 'so2': 1.54, 'pm2_5': 5.6, 'pm10': 6.76, 'nh3': 0.59}, 'dt': 1609783200}, {'main': {'aqi': 1}, 'components': {'co': 191.93, 'no': 0, 'no2': 1.16, 'o3': 36.48, 'so2': 1.09, 'pm2_5': 5.85, 'pm10': 7.01, 'nh3': 0.6}, 'dt': 1609786800}, {'main': {'aqi': 1}, 'components': {'co': 193.6, 'no': 0, 'no2': 1.17, 'o3': 35.05, 'so2': 0.91, 'pm2_5': 6.04, 'pm10': 7.17, 'nh3': 0.61}, 'dt': 1609790400}, {'main': {'aqi': 1}, 'components': {'co': 193.6, 'no': 0, 'no2': 1.2, 'o3': 33.62, 'so2': 0.85, 'pm2_5': 6.04, 'pm10': 7.22, 'nh3': 0.61}, 'dt': 1609794000}, {'main': {'aqi': 1}, 'components': {'co': 191.93, 'no': 0, 'no2': 1.16, 'o3': 32.9, 'so2': 0.8, 'pm2_5': 5.83, 'pm10': 7.12, 'nh3': 0.54}, 'dt': 1609797600}, {'main': {'aqi': 1}, 'components': {'co': 191.93, 'no': 0.01, 'no2': 1.23, 'o3': 33.26, 'so2': 0.81, 'pm2_5': 5.73, 'pm10': 7.1, 'nh3': 0.5}, 'dt': 1609801200}, {'main': {'aqi': 1}, 'components': {'co': 191.93, 'no': 0.07, 'no2': 1.31, 'o3': 36.12, 'so2': 0.9, 'pm2_5': 5.9, 'pm10': 7.47, 'nh3': 0.44}, 'dt': 1609804800}, {'main': {'aqi': 1}, 'components': {'co': 190.26, 'no': 0.08, 'no2': 1.09, 'o3': 40.41, 'so2': 0.93, 'pm2_5': 6.54, 'pm10': 9.28, 'nh3': 0.35}, 'dt': 1609808400}, {'main': {'aqi': 1}, 'components': {'co': 186.92, 'no': 0.08, 'no2': 0.84, 'o3': 43.99, 'so2': 0.93, 'pm2_5': 7.56, 'pm10': 13.69, 'nh3': 0.31}, 'dt': 1609812000}, {'main': {'aqi': 1}, 'components': {'co': 181.91, 'no': 0.07, 'no2': 0.64, 'o3': 45.78, 'so2': 0.94, 'pm2_5': 8.45, 'pm10': 19.28, 'nh3': 0.26}, 'dt': 1609815600}, {'main': {'aqi': 2}, 'components': {'co': 180.24, 'no': 0.07, 'no2': 0.48, 'o3': 46.49, 'so2': 0.93, 'pm2_5': 8.37, 'pm10': 21.92, 'nh3': 0.26}, 'dt': 1609819200}, {'main': {'aqi': 2}, 'components': {'co': 178.58, 'no': 0.07, 'no2': 0.44, 'o3': 46.49, 'so2': 0.98, 'pm2_5': 7.84, 'pm10': 20.21, 'nh3': 0.25}, 'dt': 1609822800}, {'main': {'aqi': 1}, 'components': {'co': 176.91, 'no': 0.06, 'no2': 0.42, 'o3': 46.49, 'so2': 1.12, 'pm2_5': 7.06, 'pm10': 16.49, 'nh3': 0.23}, 'dt': 1609826400}, {'main': {'aqi': 1}, 'components': {'co': 183.58, 'no': 0.09, 'no2': 0.63, 'o3': 45.78, 'so2': 1.52, 'pm2_5': 6.86, 'pm10': 14.09, 'nh3': 0.44}, 'dt': 1609830000}, {'main': {'aqi': 1}, 'components': {'co': 193.6, 'no': 0.1, 'no2': 1.09, 'o3': 43.99, 'so2': 2.24, 'pm2_5': 7.67, 'pm10': 14.36, 'nh3': 0.74}, 'dt': 1609833600}, {'main': {'aqi': 1}, 'components': {'co': 205.28, 'no': 0.07, 'no2': 1.8, 'o3': 40.77, 'so2': 3.04, 'pm2_5': 8.66, 'pm10': 15.92, 'nh3': 0.98}, 'dt': 1609837200}, {'main': {'aqi': 1}, 'components': {'co': 211.95, 'no': 0, 'no2': 2.19, 'o3': 38.62, 'so2': 3.76, 'pm2_5': 9.12, 'pm10': 15.63, 'nh3': 0.97}, 'dt': 1609840800}, {'main': {'aqi': 1}, 'components': {'co': 206.95, 'no': 0, 'no2': 1.89, 'o3': 38.62, 'so2': 4.35, 'pm2_5': 8.68, 'pm10': 12.52, 'nh3': 0.82}, 'dt': 1609844400}, {'main': {'aqi': 1}, 'components': {'co': 200.27, 'no': 0, 'no2': 1.52, 'o3': 40.41, 'so2': 4.83, 'pm2_5': 8.11, 'pm10': 10.76, 'nh3': 0.68}, 'dt': 1609848000}, {'main': {'aqi': 1}, 'components': {'co': 195.27, 'no': 0, 'no2': 1.21, 'o3': 45.06, 'so2': 5.01, 'pm2_5': 7.45, 'pm10': 9.95, 'nh3': 0.51}, 'dt': 1609851600}, {'main': {'aqi': 1}, 'components': {'co': 196.93, 'no': 0, 'no2': 1.13, 'o3': 48.64, 'so2': 4.95, 'pm2_5': 6.89, 'pm10': 8.74, 'nh3': 0.44}, 'dt': 1609855200}, {'main': {'aqi': 1}, 'components': {'co': 196.93, 'no': 0, 'no2': 1.15, 'o3': 50.78, 'so2': 4.89, 'pm2_5': 6.8, 'pm10': 8.17, 'nh3': 0.41}, 'dt': 1609858800}]}\n",
      "[]\n",
      "{'coord': {'lon': 123.0114, 'lat': 11.1246}, 'list': [{'main': {'aqi': 1}, 'components': {'co': 198.6, 'no': 0, 'no2': 1.16, 'o3': 51.5, 'so2': 4.83, 'pm2_5': 6.97, 'pm10': 8.1, 'nh3': 0.42}, 'dt': 1609862400}, {'main': {'aqi': 1}, 'components': {'co': 196.93, 'no': 0, 'no2': 1.09, 'o3': 50.07, 'so2': 4.71, 'pm2_5': 7.07, 'pm10': 8.14, 'nh3': 0.42}, 'dt': 1609866000}, {'main': {'aqi': 1}, 'components': {'co': 196.93, 'no': 0, 'no2': 1.05, 'o3': 47.21, 'so2': 4.53, 'pm2_5': 7.21, 'pm10': 8.3, 'nh3': 0.41}, 'dt': 1609869600}, {'main': {'aqi': 1}, 'components': {'co': 196.93, 'no': 0, 'no2': 1.07, 'o3': 44.35, 'so2': 4.35, 'pm2_5': 7.54, 'pm10': 8.72, 'nh3': 0.42}, 'dt': 1609873200}, {'main': {'aqi': 1}, 'components': {'co': 195.27, 'no': 0, 'no2': 1.04, 'o3': 42.2, 'so2': 4.41, 'pm2_5': 7.83, 'pm10': 9.11, 'nh3': 0.38}, 'dt': 1609876800}, {'main': {'aqi': 1}, 'components': {'co': 193.6, 'no': 0, 'no2': 0.98, 'o3': 41.84, 'so2': 4.71, 'pm2_5': 7.84, 'pm10': 9.19, 'nh3': 0.34}, 'dt': 1609880400}, {'main': {'aqi': 1}, 'components': {'co': 191.93, 'no': 0, 'no2': 0.89, 'o3': 42.92, 'so2': 4.95, 'pm2_5': 7.71, 'pm10': 9.11, 'nh3': 0.24}, 'dt': 1609884000}, {'main': {'aqi': 1}, 'components': {'co': 193.6, 'no': 0, 'no2': 1.05, 'o3': 43.99, 'so2': 5.13, 'pm2_5': 7.71, 'pm10': 9.1, 'nh3': 0.23}, 'dt': 1609887600}, {'main': {'aqi': 1}, 'components': {'co': 196.93, 'no': 0.01, 'no2': 1.35, 'o3': 45.06, 'so2': 5.13, 'pm2_5': 7.44, 'pm10': 8.73, 'nh3': 0.23}, 'dt': 1609891200}, {'main': {'aqi': 1}, 'components': {'co': 193.6, 'no': 0.02, 'no2': 1.23, 'o3': 47.92, 'so2': 5.13, 'pm2_5': 6.9, 'pm10': 8.13, 'nh3': 0.16}, 'dt': 1609894800}, {'main': {'aqi': 1}, 'components': {'co': 190.26, 'no': 0.03, 'no2': 0.92, 'o3': 50.78, 'so2': 5.19, 'pm2_5': 6.6, 'pm10': 7.77, 'nh3': 0.08}, 'dt': 1609898400}, {'main': {'aqi': 1}, 'components': {'co': 185.25, 'no': 0.03, 'no2': 0.68, 'o3': 52.93, 'so2': 5.19, 'pm2_5': 6.54, 'pm10': 7.61, 'nh3': 0.01}, 'dt': 1609902000}, {'main': {'aqi': 1}, 'components': {'co': 183.58, 'no': 0.04, 'no2': 0.52, 'o3': 53.64, 'so2': 4.77, 'pm2_5': 6.35, 'pm10': 7.25, 'nh3': 0}, 'dt': 1609905600}, {'main': {'aqi': 1}, 'components': {'co': 181.91, 'no': 0.06, 'no2': 0.43, 'o3': 52.93, 'so2': 4.41, 'pm2_5': 6.22, 'pm10': 7.13, 'nh3': 0}, 'dt': 1609909200}, {'main': {'aqi': 1}, 'components': {'co': 180.24, 'no': 0.06, 'no2': 0.36, 'o3': 51.5, 'so2': 4.11, 'pm2_5': 6.08, 'pm10': 7.09, 'nh3': 0}, 'dt': 1609912800}, {'main': {'aqi': 1}, 'components': {'co': 183.58, 'no': 0.09, 'no2': 0.47, 'o3': 49.35, 'so2': 3.7, 'pm2_5': 5.98, 'pm10': 7.13, 'nh3': 0.11}, 'dt': 1609916400}, {'main': {'aqi': 1}, 'components': {'co': 190.26, 'no': 0.13, 'no2': 0.75, 'o3': 47.21, 'so2': 3.31, 'pm2_5': 5.71, 'pm10': 6.98, 'nh3': 0.37}, 'dt': 1609920000}, {'main': {'aqi': 1}, 'components': {'co': 195.27, 'no': 0.13, 'no2': 1.24, 'o3': 45.42, 'so2': 3.13, 'pm2_5': 5.74, 'pm10': 7.12, 'nh3': 0.56}, 'dt': 1609923600}, {'main': {'aqi': 1}, 'components': {'co': 196.93, 'no': 0.02, 'no2': 1.61, 'o3': 43.63, 'so2': 3.22, 'pm2_5': 6.04, 'pm10': 7.57, 'nh3': 0.58}, 'dt': 1609927200}, {'main': {'aqi': 1}, 'components': {'co': 196.93, 'no': 0, 'no2': 1.52, 'o3': 43.27, 'so2': 3.52, 'pm2_5': 6.78, 'pm10': 8.45, 'nh3': 0.52}, 'dt': 1609930800}, {'main': {'aqi': 1}, 'components': {'co': 198.6, 'no': 0, 'no2': 1.44, 'o3': 43.27, 'so2': 3.93, 'pm2_5': 7.67, 'pm10': 9.47, 'nh3': 0.48}, 'dt': 1609934400}, {'main': {'aqi': 1}, 'components': {'co': 196.93, 'no': 0, 'no2': 1.27, 'o3': 43.27, 'so2': 4.59, 'pm2_5': 8.23, 'pm10': 10.1, 'nh3': 0.4}, 'dt': 1609938000}, {'main': {'aqi': 1}, 'components': {'co': 198.6, 'no': 0, 'no2': 1.21, 'o3': 42.56, 'so2': 5.19, 'pm2_5': 8.64, 'pm10': 10.4, 'nh3': 0.36}, 'dt': 1609941600}, {'main': {'aqi': 1}, 'components': {'co': 200.27, 'no': 0, 'no2': 1.25, 'o3': 41.13, 'so2': 5.31, 'pm2_5': 8.77, 'pm10': 10.32, 'nh3': 0.39}, 'dt': 1609945200}]}\n",
      "[]\n",
      "{'coord': {'lon': 123.0114, 'lat': 11.1246}, 'list': [{'main': {'aqi': 1}, 'components': {'co': 201.94, 'no': 0, 'no2': 1.35, 'o3': 39.34, 'so2': 4.71, 'pm2_5': 8.83, 'pm10': 10.22, 'nh3': 0.49}, 'dt': 1609948800}, {'main': {'aqi': 1}, 'components': {'co': 201.94, 'no': 0, 'no2': 1.33, 'o3': 38.27, 'so2': 4.05, 'pm2_5': 8.71, 'pm10': 10.11, 'nh3': 0.55}, 'dt': 1609952400}, {'main': {'aqi': 1}, 'components': {'co': 201.94, 'no': 0, 'no2': 1.3, 'o3': 38.62, 'so2': 3.64, 'pm2_5': 8.63, 'pm10': 10.16, 'nh3': 0.57}, 'dt': 1609956000}, {'main': {'aqi': 1}, 'components': {'co': 205.28, 'no': 0, 'no2': 1.35, 'o3': 40.05, 'so2': 3.7, 'pm2_5': 9.18, 'pm10': 10.9, 'nh3': 0.6}, 'dt': 1609959600}, {'main': {'aqi': 2}, 'components': {'co': 208.62, 'no': 0, 'no2': 1.37, 'o3': 42.56, 'so2': 3.99, 'pm2_5': 10.25, 'pm10': 12.17, 'nh3': 0.56}, 'dt': 1609963200}, {'main': {'aqi': 2}, 'components': {'co': 211.95, 'no': 0, 'no2': 1.39, 'o3': 44.35, 'so2': 4.35, 'pm2_5': 11.46, 'pm10': 13.53, 'nh3': 0.5}, 'dt': 1609966800}, {'main': {'aqi': 2}, 'components': {'co': 211.95, 'no': 0, 'no2': 1.29, 'o3': 46.49, 'so2': 4.59, 'pm2_5': 12.3, 'pm10': 14.5, 'nh3': 0.34}, 'dt': 1609970400}, {'main': {'aqi': 2}, 'components': {'co': 213.62, 'no': 0, 'no2': 1.36, 'o3': 47.21, 'so2': 4.71, 'pm2_5': 12.31, 'pm10': 14.4, 'nh3': 0.23}, 'dt': 1609974000}, {'main': {'aqi': 2}, 'components': {'co': 216.96, 'no': 0.04, 'no2': 1.48, 'o3': 47.92, 'so2': 4.77, 'pm2_5': 11.72, 'pm10': 13.49, 'nh3': 0.12}, 'dt': 1609977600}, {'main': {'aqi': 2}, 'components': {'co': 213.62, 'no': 0.07, 'no2': 1.25, 'o3': 50.07, 'so2': 4.89, 'pm2_5': 10.85, 'pm10': 12.26, 'nh3': 0}, 'dt': 1609981200}, {'main': {'aqi': 2}, 'components': {'co': 211.95, 'no': 0.06, 'no2': 1.16, 'o3': 50.07, 'so2': 4.95, 'pm2_5': 10.29, 'pm10': 11.41, 'nh3': 0.01}, 'dt': 1609984800}, {'main': {'aqi': 1}, 'components': {'co': 210.29, 'no': 0.05, 'no2': 1.13, 'o3': 49.35, 'so2': 5.07, 'pm2_5': 9.69, 'pm10': 10.56, 'nh3': 0.08}, 'dt': 1609988400}, {'main': {'aqi': 2}, 'components': {'co': 213.62, 'no': 0.04, 'no2': 1.24, 'o3': 47.92, 'so2': 5.25, 'pm2_5': 10.09, 'pm10': 10.8, 'nh3': 0.17}, 'dt': 1609992000}, {'main': {'aqi': 2}, 'components': {'co': 211.95, 'no': 0.04, 'no2': 1.17, 'o3': 47.92, 'so2': 5.54, 'pm2_5': 10.88, 'pm10': 11.51, 'nh3': 0.08}, 'dt': 1609995600}, {'main': {'aqi': 2}, 'components': {'co': 208.62, 'no': 0.03, 'no2': 1.02, 'o3': 48.64, 'so2': 5.9, 'pm2_5': 11.35, 'pm10': 11.94, 'nh3': 0}, 'dt': 1609999200}, {'main': {'aqi': 2}, 'components': {'co': 211.95, 'no': 0.03, 'no2': 1.23, 'o3': 47.92, 'so2': 5.6, 'pm2_5': 11.11, 'pm10': 11.69, 'nh3': 0.12}, 'dt': 1610002800}, {'main': {'aqi': 2}, 'components': {'co': 223.64, 'no': 0.02, 'no2': 1.76, 'o3': 45.78, 'so2': 4.83, 'pm2_5': 10.05, 'pm10': 10.64, 'nh3': 0.49}, 'dt': 1610006400}, {'main': {'aqi': 1}, 'components': {'co': 230.31, 'no': 0.01, 'no2': 2.4, 'o3': 45.42, 'so2': 4.17, 'pm2_5': 9.21, 'pm10': 9.82, 'nh3': 0.74}, 'dt': 1610010000}, {'main': {'aqi': 1}, 'components': {'co': 230.31, 'no': 0, 'no2': 2.53, 'o3': 45.78, 'so2': 3.93, 'pm2_5': 8.56, 'pm10': 9.2, 'nh3': 0.75}, 'dt': 1610013600}, {'main': {'aqi': 1}, 'components': {'co': 226.97, 'no': 0, 'no2': 2.12, 'o3': 47.21, 'so2': 4.11, 'pm2_5': 8.12, 'pm10': 8.78, 'nh3': 0.63}, 'dt': 1610017200}, {'main': {'aqi': 1}, 'components': {'co': 220.3, 'no': 0, 'no2': 1.71, 'o3': 47.21, 'so2': 4.47, 'pm2_5': 7.94, 'pm10': 8.59, 'nh3': 0.55}, 'dt': 1610020800}, {'main': {'aqi': 1}, 'components': {'co': 216.96, 'no': 0, 'no2': 1.41, 'o3': 47.92, 'so2': 4.89, 'pm2_5': 7.97, 'pm10': 8.62, 'nh3': 0.49}, 'dt': 1610024400}, {'main': {'aqi': 1}, 'components': {'co': 220.3, 'no': 0, 'no2': 1.41, 'o3': 46.49, 'so2': 5.13, 'pm2_5': 8.28, 'pm10': 8.96, 'nh3': 0.53}, 'dt': 1610028000}, {'main': {'aqi': 1}, 'components': {'co': 223.64, 'no': 0, 'no2': 1.54, 'o3': 44.35, 'so2': 5.07, 'pm2_5': 8.71, 'pm10': 9.4, 'nh3': 0.59}, 'dt': 1610031600}]}\n",
      "[]\n",
      "{'coord': {'lon': 123.0114, 'lat': 11.1246}, 'list': [{'main': {'aqi': 1}, 'components': {'co': 223.64, 'no': 0, 'no2': 1.63, 'o3': 42.56, 'so2': 4.95, 'pm2_5': 8.86, 'pm10': 9.49, 'nh3': 0.64}, 'dt': 1610035200}, {'main': {'aqi': 1}, 'components': {'co': 220.3, 'no': 0, 'no2': 1.41, 'o3': 41.84, 'so2': 4.77, 'pm2_5': 7.99, 'pm10': 8.53, 'nh3': 0.59}, 'dt': 1610038800}, {'main': {'aqi': 1}, 'components': {'co': 213.62, 'no': 0, 'no2': 1.22, 'o3': 41.49, 'so2': 4.47, 'pm2_5': 6.86, 'pm10': 7.34, 'nh3': 0.53}, 'dt': 1610042400}, {'main': {'aqi': 1}, 'components': {'co': 211.95, 'no': 0, 'no2': 1.2, 'o3': 41.13, 'so2': 4.23, 'pm2_5': 6.44, 'pm10': 6.9, 'nh3': 0.55}, 'dt': 1610046000}, {'main': {'aqi': 1}, 'components': {'co': 211.95, 'no': 0, 'no2': 1.24, 'o3': 40.41, 'so2': 4.17, 'pm2_5': 6.26, 'pm10': 6.72, 'nh3': 0.59}, 'dt': 1610049600}, {'main': {'aqi': 1}, 'components': {'co': 211.95, 'no': 0, 'no2': 1.3, 'o3': 40.05, 'so2': 4.23, 'pm2_5': 5.91, 'pm10': 6.36, 'nh3': 0.62}, 'dt': 1610053200}, {'main': {'aqi': 1}, 'components': {'co': 208.62, 'no': 0, 'no2': 1.26, 'o3': 38.98, 'so2': 4.47, 'pm2_5': 5.34, 'pm10': 5.78, 'nh3': 0.56}, 'dt': 1610056800}, {'main': {'aqi': 1}, 'components': {'co': 208.62, 'no': 0, 'no2': 1.48, 'o3': 37.55, 'so2': 4.41, 'pm2_5': 4.89, 'pm10': 5.34, 'nh3': 0.57}, 'dt': 1610060400}, {'main': {'aqi': 1}, 'components': {'co': 211.95, 'no': 0.01, 'no2': 1.89, 'o3': 36.12, 'so2': 4.23, 'pm2_5': 4.59, 'pm10': 5.05, 'nh3': 0.58}, 'dt': 1610064000}, {'main': {'aqi': 1}, 'components': {'co': 206.95, 'no': 0.03, 'no2': 1.76, 'o3': 36.48, 'so2': 3.87, 'pm2_5': 4.11, 'pm10': 4.54, 'nh3': 0.49}, 'dt': 1610067600}, {'main': {'aqi': 1}, 'components': {'co': 201.94, 'no': 0.07, 'no2': 1.44, 'o3': 37.55, 'so2': 3.55, 'pm2_5': 3.72, 'pm10': 4.16, 'nh3': 0.44}, 'dt': 1610071200}, {'main': {'aqi': 1}, 'components': {'co': 198.6, 'no': 0.09, 'no2': 1.14, 'o3': 40.41, 'so2': 3.01, 'pm2_5': 3.34, 'pm10': 3.78, 'nh3': 0.4}, 'dt': 1610074800}, {'main': {'aqi': 1}, 'components': {'co': 206.95, 'no': 0.11, 'no2': 1.32, 'o3': 41.49, 'so2': 2.33, 'pm2_5': 3.23, 'pm10': 3.67, 'nh3': 0.61}, 'dt': 1610078400}, {'main': {'aqi': 1}, 'components': {'co': 220.3, 'no': 0.11, 'no2': 1.61, 'o3': 42.56, 'so2': 1.91, 'pm2_5': 3.36, 'pm10': 3.83, 'nh3': 0.8}, 'dt': 1610082000}, {'main': {'aqi': 1}, 'components': {'co': 226.97, 'no': 0.1, 'no2': 1.76, 'o3': 44.35, 'so2': 2, 'pm2_5': 3.59, 'pm10': 4.08, 'nh3': 0.84}, 'dt': 1610085600}, {'main': {'aqi': 1}, 'components': {'co': 230.31, 'no': 0.07, 'no2': 1.95, 'o3': 45.06, 'so2': 2.12, 'pm2_5': 3.82, 'pm10': 4.33, 'nh3': 0.91}, 'dt': 1610089200}, {'main': {'aqi': 1}, 'components': {'co': 236.99, 'no': 0.04, 'no2': 2.21, 'o3': 46.49, 'so2': 1.91, 'pm2_5': 3.88, 'pm10': 4.36, 'nh3': 0.95}, 'dt': 1610092800}, {'main': {'aqi': 1}, 'components': {'co': 240.33, 'no': 0.01, 'no2': 2.61, 'o3': 48.64, 'so2': 1.61, 'pm2_5': 3.73, 'pm10': 4.17, 'nh3': 0.97}, 'dt': 1610096400}, {'main': {'aqi': 1}, 'components': {'co': 240.33, 'no': 0, 'no2': 2.68, 'o3': 50.78, 'so2': 1.43, 'pm2_5': 3.52, 'pm10': 3.96, 'nh3': 0.93}, 'dt': 1610100000}, {'main': {'aqi': 1}, 'components': {'co': 243.66, 'no': 0, 'no2': 2.53, 'o3': 51.5, 'so2': 1.25, 'pm2_5': 3.42, 'pm10': 3.89, 'nh3': 0.97}, 'dt': 1610103600}, {'main': {'aqi': 1}, 'components': {'co': 247, 'no': 0, 'no2': 2.38, 'o3': 51.5, 'so2': 1.1, 'pm2_5': 3.35, 'pm10': 3.86, 'nh3': 1.05}, 'dt': 1610107200}, {'main': {'aqi': 1}, 'components': {'co': 243.66, 'no': 0, 'no2': 2.19, 'o3': 50.78, 'so2': 1.09, 'pm2_5': 3.15, 'pm10': 3.68, 'nh3': 1.08}, 'dt': 1610110800}, {'main': {'aqi': 1}, 'components': {'co': 240.33, 'no': 0, 'no2': 2.14, 'o3': 45.78, 'so2': 1.54, 'pm2_5': 3.05, 'pm10': 3.59, 'nh3': 1.16}, 'dt': 1610114400}, {'main': {'aqi': 1}, 'components': {'co': 236.99, 'no': 0, 'no2': 2.23, 'o3': 37.19, 'so2': 2.27, 'pm2_5': 3.15, 'pm10': 3.68, 'nh3': 1.22}, 'dt': 1610118000}]}\n",
      "[]\n",
      "{'coord': {'lon': 123.0114, 'lat': 11.1246}, 'list': [{'main': {'aqi': 1}, 'components': {'co': 243.66, 'no': 0, 'no2': 2.61, 'o3': 28.25, 'so2': 2.5, 'pm2_5': 3.54, 'pm10': 4.05, 'nh3': 1.52}, 'dt': 1610121600}, {'main': {'aqi': 1}, 'components': {'co': 257.02, 'no': 0, 'no2': 2.91, 'o3': 21.46, 'so2': 2.24, 'pm2_5': 3.98, 'pm10': 4.5, 'nh3': 1.96}, 'dt': 1610125200}, {'main': {'aqi': 1}, 'components': {'co': 263.69, 'no': 0.01, 'no2': 3.04, 'o3': 16.63, 'so2': 1.71, 'pm2_5': 4.09, 'pm10': 4.61, 'nh3': 2.38}, 'dt': 1610128800}, {'main': {'aqi': 1}, 'components': {'co': 273.71, 'no': 0.01, 'no2': 3.26, 'o3': 13.41, 'so2': 1.13, 'pm2_5': 4.03, 'pm10': 4.55, 'nh3': 2.63}, 'dt': 1610132400}, {'main': {'aqi': 1}, 'components': {'co': 267.03, 'no': 0.02, 'no2': 3.17, 'o3': 11.8, 'so2': 0.66, 'pm2_5': 3.31, 'pm10': 3.76, 'nh3': 2.12}, 'dt': 1610136000}, {'main': {'aqi': 1}, 'components': {'co': 250.34, 'no': 0.01, 'no2': 3.13, 'o3': 11.8, 'so2': 0.57, 'pm2_5': 2.54, 'pm10': 2.91, 'nh3': 1.47}, 'dt': 1610139600}, {'main': {'aqi': 1}, 'components': {'co': 233.65, 'no': 0.01, 'no2': 3.3, 'o3': 12.7, 'so2': 0.85, 'pm2_5': 2.43, 'pm10': 2.72, 'nh3': 0.91}, 'dt': 1610143200}, {'main': {'aqi': 1}, 'components': {'co': 230.31, 'no': 0.02, 'no2': 3.38, 'o3': 13.59, 'so2': 0.95, 'pm2_5': 2.5, 'pm10': 2.83, 'nh3': 0.82}, 'dt': 1610146800}, {'main': {'aqi': 1}, 'components': {'co': 223.64, 'no': 0.1, 'no2': 2.91, 'o3': 15.38, 'so2': 0.77, 'pm2_5': 2.13, 'pm10': 2.51, 'nh3': 0.76}, 'dt': 1610150400}, {'main': {'aqi': 1}, 'components': {'co': 210.29, 'no': 0.18, 'no2': 2.23, 'o3': 18.06, 'so2': 0.84, 'pm2_5': 2.11, 'pm10': 2.51, 'nh3': 0.63}, 'dt': 1610154000}, {'main': {'aqi': 1}, 'components': {'co': 208.62, 'no': 0.23, 'no2': 1.93, 'o3': 20.21, 'so2': 1.62, 'pm2_5': 3.04, 'pm10': 3.5, 'nh3': 0.71}, 'dt': 1610157600}, {'main': {'aqi': 1}, 'components': {'co': 216.96, 'no': 0.22, 'no2': 1.8, 'o3': 26.82, 'so2': 2.86, 'pm2_5': 4.43, 'pm10': 4.93, 'nh3': 0.77}, 'dt': 1610161200}, {'main': {'aqi': 1}, 'components': {'co': 240.33, 'no': 0.16, 'no2': 1.86, 'o3': 39.34, 'so2': 3.79, 'pm2_5': 5.67, 'pm10': 6.18, 'nh3': 0.91}, 'dt': 1610164800}, {'main': {'aqi': 1}, 'components': {'co': 250.34, 'no': 0.1, 'no2': 1.71, 'o3': 49.35, 'so2': 3.7, 'pm2_5': 5.59, 'pm10': 6.06, 'nh3': 0.91}, 'dt': 1610168400}, {'main': {'aqi': 1}, 'components': {'co': 247, 'no': 0.06, 'no2': 1.54, 'o3': 52.93, 'so2': 2.8, 'pm2_5': 5.07, 'pm10': 5.47, 'nh3': 0.81}, 'dt': 1610172000}, {'main': {'aqi': 1}, 'components': {'co': 257.02, 'no': 0.04, 'no2': 1.65, 'o3': 54.36, 'so2': 2.21, 'pm2_5': 4.82, 'pm10': 5.21, 'nh3': 0.78}, 'dt': 1610175600}, {'main': {'aqi': 1}, 'components': {'co': 267.03, 'no': 0.02, 'no2': 1.84, 'o3': 55.79, 'so2': 2.03, 'pm2_5': 4.28, 'pm10': 4.7, 'nh3': 0.78}, 'dt': 1610179200}, {'main': {'aqi': 1}, 'components': {'co': 267.03, 'no': 0.01, 'no2': 2.1, 'o3': 55.08, 'so2': 2.09, 'pm2_5': 3.91, 'pm10': 4.33, 'nh3': 0.76}, 'dt': 1610182800}, {'main': {'aqi': 1}, 'components': {'co': 263.69, 'no': 0, 'no2': 2.1, 'o3': 55.08, 'so2': 2.18, 'pm2_5': 3.78, 'pm10': 4.21, 'nh3': 0.71}, 'dt': 1610186400}, {'main': {'aqi': 1}, 'components': {'co': 257.02, 'no': 0, 'no2': 1.99, 'o3': 55.08, 'so2': 2.27, 'pm2_5': 3.75, 'pm10': 4.22, 'nh3': 0.68}, 'dt': 1610190000}, {'main': {'aqi': 1}, 'components': {'co': 250.34, 'no': 0, 'no2': 1.89, 'o3': 56.51, 'so2': 2.38, 'pm2_5': 3.91, 'pm10': 4.4, 'nh3': 0.66}, 'dt': 1610193600}, {'main': {'aqi': 1}, 'components': {'co': 243.66, 'no': 0, 'no2': 1.76, 'o3': 58.65, 'so2': 2.35, 'pm2_5': 4.01, 'pm10': 4.54, 'nh3': 0.61}, 'dt': 1610197200}, {'main': {'aqi': 1}, 'components': {'co': 240.33, 'no': 0, 'no2': 1.67, 'o3': 61.51, 'so2': 2.27, 'pm2_5': 4.19, 'pm10': 4.83, 'nh3': 0.58}, 'dt': 1610200800}, {'main': {'aqi': 1}, 'components': {'co': 233.65, 'no': 0, 'no2': 1.59, 'o3': 64.37, 'so2': 2.33, 'pm2_5': 4.61, 'pm10': 5.3, 'nh3': 0.55}, 'dt': 1610204400}]}\n",
      "[]\n",
      "{'coord': {'lon': 123.0114, 'lat': 11.1246}, 'list': [{'main': {'aqi': 1}, 'components': {'co': 230.31, 'no': 0, 'no2': 1.48, 'o3': 65.8, 'so2': 2.3, 'pm2_5': 5.09, 'pm10': 5.84, 'nh3': 0.54}, 'dt': 1610208000}, {'main': {'aqi': 1}, 'components': {'co': 230.31, 'no': 0, 'no2': 1.3, 'o3': 67.23, 'so2': 2.38, 'pm2_5': 5.97, 'pm10': 6.9, 'nh3': 0.49}, 'dt': 1610211600}, {'main': {'aqi': 1}, 'components': {'co': 233.65, 'no': 0, 'no2': 1.16, 'o3': 68.67, 'so2': 2.3, 'pm2_5': 6.77, 'pm10': 7.95, 'nh3': 0.44}, 'dt': 1610215200}, {'main': {'aqi': 1}, 'components': {'co': 236.99, 'no': 0, 'no2': 1.09, 'o3': 70.1, 'so2': 2, 'pm2_5': 6.7, 'pm10': 7.93, 'nh3': 0.42}, 'dt': 1610218800}, {'main': {'aqi': 1}, 'components': {'co': 247, 'no': 0, 'no2': 1.05, 'o3': 72.24, 'so2': 1.73, 'pm2_5': 5.88, 'pm10': 7.07, 'nh3': 0.42}, 'dt': 1610222400}, {'main': {'aqi': 1}, 'components': {'co': 253.68, 'no': 0, 'no2': 1.01, 'o3': 75.1, 'so2': 1.49, 'pm2_5': 4.79, 'pm10': 5.98, 'nh3': 0.4}, 'dt': 1610226000}, {'main': {'aqi': 1}, 'components': {'co': 260.35, 'no': 0, 'no2': 0.98, 'o3': 77.25, 'so2': 1.36, 'pm2_5': 3.92, 'pm10': 5.16, 'nh3': 0.39}, 'dt': 1610229600}, {'main': {'aqi': 1}, 'components': {'co': 267.03, 'no': 0, 'no2': 1.11, 'o3': 77.25, 'so2': 1.36, 'pm2_5': 3.44, 'pm10': 4.35, 'nh3': 0.42}, 'dt': 1610233200}, {'main': {'aqi': 1}, 'components': {'co': 277.04, 'no': 0.01, 'no2': 1.39, 'o3': 74.39, 'so2': 1.48, 'pm2_5': 3.5, 'pm10': 4.18, 'nh3': 0.47}, 'dt': 1610236800}, {'main': {'aqi': 1}, 'components': {'co': 280.38, 'no': 0.01, 'no2': 1.5, 'o3': 72.24, 'so2': 1.74, 'pm2_5': 3.86, 'pm10': 4.38, 'nh3': 0.45}, 'dt': 1610240400}, {'main': {'aqi': 1}, 'components': {'co': 283.72, 'no': 0.03, 'no2': 1.46, 'o3': 71.53, 'so2': 1.91, 'pm2_5': 4.36, 'pm10': 4.87, 'nh3': 0.42}, 'dt': 1610244000}, {'main': {'aqi': 1}, 'components': {'co': 283.72, 'no': 0.04, 'no2': 1.37, 'o3': 70.81, 'so2': 1.97, 'pm2_5': 4.7, 'pm10': 5.26, 'nh3': 0.4}, 'dt': 1610247600}, {'main': {'aqi': 1}, 'components': {'co': 283.72, 'no': 0.04, 'no2': 1.37, 'o3': 70.1, 'so2': 2.03, 'pm2_5': 4.92, 'pm10': 5.52, 'nh3': 0.4}, 'dt': 1610251200}, {'main': {'aqi': 1}, 'components': {'co': 283.72, 'no': 0.03, 'no2': 1.34, 'o3': 70.1, 'so2': 2.06, 'pm2_5': 5.37, 'pm10': 6.13, 'nh3': 0.37}, 'dt': 1610254800}, {'main': {'aqi': 1}, 'components': {'co': 277.04, 'no': 0.02, 'no2': 1.25, 'o3': 70.81, 'so2': 2.03, 'pm2_5': 5.98, 'pm10': 6.94, 'nh3': 0.33}, 'dt': 1610258400}, {'main': {'aqi': 1}, 'components': {'co': 267.03, 'no': 0.02, 'no2': 1.24, 'o3': 70.81, 'so2': 1.97, 'pm2_5': 6.47, 'pm10': 7.6, 'nh3': 0.33}, 'dt': 1610262000}, {'main': {'aqi': 1}, 'components': {'co': 260.35, 'no': 0.01, 'no2': 1.29, 'o3': 71.53, 'so2': 1.94, 'pm2_5': 6.72, 'pm10': 7.94, 'nh3': 0.33}, 'dt': 1610265600}, {'main': {'aqi': 1}, 'components': {'co': 257.02, 'no': 0, 'no2': 1.41, 'o3': 72.24, 'so2': 1.94, 'pm2_5': 6.71, 'pm10': 7.95, 'nh3': 0.36}, 'dt': 1610269200}, {'main': {'aqi': 1}, 'components': {'co': 253.68, 'no': 0, 'no2': 1.46, 'o3': 73.67, 'so2': 1.86, 'pm2_5': 6.67, 'pm10': 7.99, 'nh3': 0.37}, 'dt': 1610272800}, {'main': {'aqi': 1}, 'components': {'co': 253.68, 'no': 0, 'no2': 1.46, 'o3': 75.1, 'so2': 1.89, 'pm2_5': 6.93, 'pm10': 8.31, 'nh3': 0.4}, 'dt': 1610276400}, {'main': {'aqi': 1}, 'components': {'co': 257.02, 'no': 0, 'no2': 1.46, 'o3': 75.82, 'so2': 1.97, 'pm2_5': 7.27, 'pm10': 8.66, 'nh3': 0.43}, 'dt': 1610280000}, {'main': {'aqi': 1}, 'components': {'co': 257.02, 'no': 0, 'no2': 1.39, 'o3': 77.25, 'so2': 2.06, 'pm2_5': 6.95, 'pm10': 8.19, 'nh3': 0.4}, 'dt': 1610283600}, {'main': {'aqi': 1}, 'components': {'co': 250.34, 'no': 0, 'no2': 1.3, 'o3': 78.68, 'so2': 2.03, 'pm2_5': 6.44, 'pm10': 7.59, 'nh3': 0.4}, 'dt': 1610287200}, {'main': {'aqi': 1}, 'components': {'co': 247, 'no': 0, 'no2': 1.2, 'o3': 79.39, 'so2': 2, 'pm2_5': 6.12, 'pm10': 7.31, 'nh3': 0.4}, 'dt': 1610290800}]}\n",
      "[]\n",
      "{'coord': {'lon': 123.0114, 'lat': 11.1246}, 'list': [{'main': {'aqi': 1}, 'components': {'co': 243.66, 'no': 0, 'no2': 1.1, 'o3': 79.39, 'so2': 1.97, 'pm2_5': 6.28, 'pm10': 7.62, 'nh3': 0.4}, 'dt': 1610294400}, {'main': {'aqi': 1}, 'components': {'co': 243.66, 'no': 0, 'no2': 1.03, 'o3': 79.39, 'so2': 1.94, 'pm2_5': 6.57, 'pm10': 8.08, 'nh3': 0.41}, 'dt': 1610298000}, {'main': {'aqi': 2}, 'components': {'co': 243.66, 'no': 0, 'no2': 0.98, 'o3': 80.11, 'so2': 1.89, 'pm2_5': 6.45, 'pm10': 7.9, 'nh3': 0.42}, 'dt': 1610301600}, {'main': {'aqi': 2}, 'components': {'co': 247, 'no': 0, 'no2': 1, 'o3': 80.11, 'so2': 1.83, 'pm2_5': 6.43, 'pm10': 7.84, 'nh3': 0.46}, 'dt': 1610305200}, {'main': {'aqi': 1}, 'components': {'co': 247, 'no': 0, 'no2': 1.05, 'o3': 79.39, 'so2': 1.83, 'pm2_5': 6.48, 'pm10': 7.73, 'nh3': 0.49}, 'dt': 1610308800}, {'main': {'aqi': 1}, 'components': {'co': 247, 'no': 0, 'no2': 1.11, 'o3': 79.39, 'so2': 1.83, 'pm2_5': 6.31, 'pm10': 7.34, 'nh3': 0.52}, 'dt': 1610312400}, {'main': {'aqi': 1}, 'components': {'co': 250.34, 'no': 0, 'no2': 1.16, 'o3': 77.96, 'so2': 1.85, 'pm2_5': 5.72, 'pm10': 6.54, 'nh3': 0.5}, 'dt': 1610316000}, {'main': {'aqi': 1}, 'components': {'co': 253.68, 'no': 0, 'no2': 1.41, 'o3': 75.1, 'so2': 1.94, 'pm2_5': 5.36, 'pm10': 6.01, 'nh3': 0.53}, 'dt': 1610319600}, {'main': {'aqi': 1}, 'components': {'co': 260.35, 'no': 0, 'no2': 1.86, 'o3': 70.81, 'so2': 2.21, 'pm2_5': 5.48, 'pm10': 6.05, 'nh3': 0.58}, 'dt': 1610323200}, {'main': {'aqi': 1}, 'components': {'co': 260.35, 'no': 0.01, 'no2': 1.93, 'o3': 69.38, 'so2': 2.41, 'pm2_5': 5.74, 'pm10': 6.32, 'nh3': 0.55}, 'dt': 1610326800}, {'main': {'aqi': 1}, 'components': {'co': 257.02, 'no': 0.03, 'no2': 1.69, 'o3': 70.81, 'so2': 2.56, 'pm2_5': 5.87, 'pm10': 6.47, 'nh3': 0.48}, 'dt': 1610330400}, {'main': {'aqi': 1}, 'components': {'co': 250.34, 'no': 0.04, 'no2': 1.46, 'o3': 71.53, 'so2': 2.83, 'pm2_5': 6.29, 'pm10': 6.9, 'nh3': 0.37}, 'dt': 1610334000}, {'main': {'aqi': 1}, 'components': {'co': 250.34, 'no': 0.04, 'no2': 1.35, 'o3': 70.81, 'so2': 3.22, 'pm2_5': 7.1, 'pm10': 7.67, 'nh3': 0.3}, 'dt': 1610337600}, {'main': {'aqi': 1}, 'components': {'co': 253.68, 'no': 0.04, 'no2': 1.39, 'o3': 67.23, 'so2': 3.52, 'pm2_5': 8.18, 'pm10': 8.77, 'nh3': 0.28}, 'dt': 1610341200}, {'main': {'aqi': 1}, 'components': {'co': 260.35, 'no': 0.03, 'no2': 1.46, 'o3': 65.09, 'so2': 3.82, 'pm2_5': 9.23, 'pm10': 9.86, 'nh3': 0.27}, 'dt': 1610344800}, {'main': {'aqi': 2}, 'components': {'co': 267.03, 'no': 0.03, 'no2': 1.52, 'o3': 62.94, 'so2': 4.29, 'pm2_5': 10.05, 'pm10': 10.61, 'nh3': 0.26}, 'dt': 1610348400}, {'main': {'aqi': 2}, 'components': {'co': 277.04, 'no': 0.01, 'no2': 1.63, 'o3': 63.66, 'so2': 4.95, 'pm2_5': 10.73, 'pm10': 11.25, 'nh3': 0.23}, 'dt': 1610352000}, {'main': {'aqi': 2}, 'components': {'co': 287.06, 'no': 0.01, 'no2': 1.86, 'o3': 64.37, 'so2': 5.6, 'pm2_5': 11.04, 'pm10': 11.53, 'nh3': 0.21}, 'dt': 1610355600}, {'main': {'aqi': 2}, 'components': {'co': 293.73, 'no': 0, 'no2': 2.06, 'o3': 65.8, 'so2': 5.96, 'pm2_5': 11.53, 'pm10': 12.06, 'nh3': 0.21}, 'dt': 1610359200}, {'main': {'aqi': 2}, 'components': {'co': 300.41, 'no': 0, 'no2': 2.16, 'o3': 65.09, 'so2': 5.78, 'pm2_5': 11.76, 'pm10': 12.3, 'nh3': 0.3}, 'dt': 1610362800}, {'main': {'aqi': 2}, 'components': {'co': 303.75, 'no': 0, 'no2': 2.23, 'o3': 63.66, 'so2': 5.25, 'pm2_5': 12.1, 'pm10': 12.67, 'nh3': 0.42}, 'dt': 1610366400}, {'main': {'aqi': 2}, 'components': {'co': 303.75, 'no': 0, 'no2': 2.14, 'o3': 62.94, 'so2': 4.41, 'pm2_5': 12.1, 'pm10': 12.74, 'nh3': 0.46}, 'dt': 1610370000}, {'main': {'aqi': 2}, 'components': {'co': 293.73, 'no': 0, 'no2': 1.97, 'o3': 63.66, 'so2': 3.79, 'pm2_5': 11.83, 'pm10': 12.55, 'nh3': 0.38}, 'dt': 1610373600}, {'main': {'aqi': 2}, 'components': {'co': 290.39, 'no': 0, 'no2': 1.84, 'o3': 64.37, 'so2': 3.82, 'pm2_5': 11.92, 'pm10': 12.66, 'nh3': 0.28}, 'dt': 1610377200}]}\n",
      "[]\n"
     ]
    },
    {
     "ename": "KeyboardInterrupt",
     "evalue": "",
     "output_type": "error",
     "traceback": [
      "\u001B[0;31m---------------------------------------------------------------------------\u001B[0m",
      "\u001B[0;31mKeyboardInterrupt\u001B[0m                         Traceback (most recent call last)",
      "Cell \u001B[0;32mIn[6], line 1\u001B[0m\n\u001B[0;32m----> 1\u001B[0m \u001B[43mutils\u001B[49m\u001B[38;5;241;43m.\u001B[39;49m\u001B[43mair_pollution_to_jsonl\u001B[49m\u001B[43m(\u001B[49m\u001B[43mmunicipal_coords\u001B[49m\u001B[43m,\u001B[49m\u001B[43m \u001B[49m\u001B[38;5;124;43m'\u001B[39;49m\u001B[38;5;124;43mmunicipal_air_pollution_data.jsonl\u001B[39;49m\u001B[38;5;124;43m'\u001B[39;49m\u001B[43m,\u001B[49m\u001B[43m \u001B[49m\u001B[43mrewrite_file\u001B[49m\u001B[38;5;241;43m=\u001B[39;49m\u001B[38;5;28;43;01mFalse\u001B[39;49;00m\u001B[43m)\u001B[49m\n",
      "File \u001B[0;32m~/Documents/GitHub/Math-198.1---Special-Problem/utils.py:264\u001B[0m, in \u001B[0;36mair_pollution_to_jsonl\u001B[0;34m(municipal_dict, file_name, rewrite_file)\u001B[0m\n\u001B[1;32m    261\u001B[0m     \u001B[38;5;28;01mcontinue\u001B[39;00m\n\u001B[1;32m    263\u001B[0m \u001B[38;5;28;01mfor\u001B[39;00m i \u001B[38;5;129;01min\u001B[39;00m \u001B[38;5;28mrange\u001B[39m(last_timestamp, end_timestamp, \u001B[38;5;241m86400\u001B[39m):\n\u001B[0;32m--> 264\u001B[0m     pollution_data \u001B[38;5;241m=\u001B[39m \u001B[43mget_air_pollution_data\u001B[49m\u001B[43m(\u001B[49m\u001B[43mi\u001B[49m\u001B[43m,\u001B[49m\u001B[43m \u001B[49m\u001B[43mi\u001B[49m\u001B[43m \u001B[49m\u001B[38;5;241;43m+\u001B[39;49m\u001B[43m \u001B[49m\u001B[38;5;241;43m86399\u001B[39;49m\u001B[43m,\u001B[49m\u001B[43m \u001B[49m\u001B[43mlat\u001B[49m\u001B[43m,\u001B[49m\u001B[43m \u001B[49m\u001B[43mlng\u001B[49m\u001B[43m)\u001B[49m\n\u001B[1;32m    265\u001B[0m     \u001B[38;5;28mprint\u001B[39m(pollution_data)\n\u001B[1;32m    266\u001B[0m     \u001B[38;5;28;01mfor\u001B[39;00m entry \u001B[38;5;129;01min\u001B[39;00m pollution_data:\n",
      "File \u001B[0;32m~/Documents/GitHub/Math-198.1---Special-Problem/utils.py:225\u001B[0m, in \u001B[0;36mget_air_pollution_data\u001B[0;34m(start_date, end_date, lat, lng)\u001B[0m\n\u001B[1;32m    221\u001B[0m API_KEY \u001B[38;5;241m=\u001B[39m os\u001B[38;5;241m.\u001B[39mgetenv(\u001B[38;5;124m\"\u001B[39m\u001B[38;5;124mOPENWEATHER_API_KEY\u001B[39m\u001B[38;5;124m\"\u001B[39m)\n\u001B[1;32m    223\u001B[0m url \u001B[38;5;241m=\u001B[39m (\u001B[38;5;124mf\u001B[39m\u001B[38;5;124m\"\u001B[39m\u001B[38;5;124mhttps://api.openweathermap.org/data/2.5/air_pollution/history?lat=\u001B[39m\u001B[38;5;132;01m{\u001B[39;00mlat\u001B[38;5;132;01m}\u001B[39;00m\u001B[38;5;124m&lon=\u001B[39m\u001B[38;5;132;01m{\u001B[39;00mlng\u001B[38;5;132;01m}\u001B[39;00m\u001B[38;5;124m\"\u001B[39m\n\u001B[1;32m    224\u001B[0m        \u001B[38;5;124mf\u001B[39m\u001B[38;5;124m\"\u001B[39m\u001B[38;5;124m&start=\u001B[39m\u001B[38;5;132;01m{\u001B[39;00mstart_date\u001B[38;5;132;01m}\u001B[39;00m\u001B[38;5;124m&end=\u001B[39m\u001B[38;5;132;01m{\u001B[39;00mend_date\u001B[38;5;132;01m}\u001B[39;00m\u001B[38;5;124m&appid=\u001B[39m\u001B[38;5;132;01m{\u001B[39;00mAPI_KEY\u001B[38;5;132;01m}\u001B[39;00m\u001B[38;5;124m\"\u001B[39m)\n\u001B[0;32m--> 225\u001B[0m response \u001B[38;5;241m=\u001B[39m \u001B[43mrequests\u001B[49m\u001B[38;5;241;43m.\u001B[39;49m\u001B[43mget\u001B[49m\u001B[43m(\u001B[49m\u001B[43murl\u001B[49m\u001B[43m)\u001B[49m\u001B[38;5;241m.\u001B[39mjson()\n\u001B[1;32m    227\u001B[0m \u001B[38;5;28;01mif\u001B[39;00m \u001B[38;5;124m'\u001B[39m\u001B[38;5;124mcod\u001B[39m\u001B[38;5;124m'\u001B[39m \u001B[38;5;129;01min\u001B[39;00m response:\n\u001B[1;32m    228\u001B[0m     \u001B[38;5;28;01mraise\u001B[39;00m \u001B[38;5;167;01mException\u001B[39;00m(\u001B[38;5;124mf\u001B[39m\u001B[38;5;124m\"\u001B[39m\u001B[38;5;124mError: \u001B[39m\u001B[38;5;132;01m{\u001B[39;00mresponse\u001B[38;5;241m.\u001B[39mget(\u001B[38;5;124m'\u001B[39m\u001B[38;5;124mmessage\u001B[39m\u001B[38;5;124m'\u001B[39m,\u001B[38;5;250m \u001B[39m\u001B[38;5;124m'\u001B[39m\u001B[38;5;124mUnknown error\u001B[39m\u001B[38;5;124m'\u001B[39m)\u001B[38;5;132;01m}\u001B[39;00m\u001B[38;5;124m\"\u001B[39m)\n",
      "File \u001B[0;32m~/Documents/GitHub/Math-198.1---Special-Problem/venv/lib/python3.10/site-packages/requests/api.py:73\u001B[0m, in \u001B[0;36mget\u001B[0;34m(url, params, **kwargs)\u001B[0m\n\u001B[1;32m     62\u001B[0m \u001B[38;5;28;01mdef\u001B[39;00m \u001B[38;5;21mget\u001B[39m(url, params\u001B[38;5;241m=\u001B[39m\u001B[38;5;28;01mNone\u001B[39;00m, \u001B[38;5;241m*\u001B[39m\u001B[38;5;241m*\u001B[39mkwargs):\n\u001B[1;32m     63\u001B[0m \u001B[38;5;250m    \u001B[39m\u001B[38;5;124mr\u001B[39m\u001B[38;5;124;03m\"\"\"Sends a GET request.\u001B[39;00m\n\u001B[1;32m     64\u001B[0m \n\u001B[1;32m     65\u001B[0m \u001B[38;5;124;03m    :param url: URL for the new :class:`Request` object.\u001B[39;00m\n\u001B[0;32m   (...)\u001B[0m\n\u001B[1;32m     70\u001B[0m \u001B[38;5;124;03m    :rtype: requests.Response\u001B[39;00m\n\u001B[1;32m     71\u001B[0m \u001B[38;5;124;03m    \"\"\"\u001B[39;00m\n\u001B[0;32m---> 73\u001B[0m     \u001B[38;5;28;01mreturn\u001B[39;00m \u001B[43mrequest\u001B[49m\u001B[43m(\u001B[49m\u001B[38;5;124;43m\"\u001B[39;49m\u001B[38;5;124;43mget\u001B[39;49m\u001B[38;5;124;43m\"\u001B[39;49m\u001B[43m,\u001B[49m\u001B[43m \u001B[49m\u001B[43murl\u001B[49m\u001B[43m,\u001B[49m\u001B[43m \u001B[49m\u001B[43mparams\u001B[49m\u001B[38;5;241;43m=\u001B[39;49m\u001B[43mparams\u001B[49m\u001B[43m,\u001B[49m\u001B[43m \u001B[49m\u001B[38;5;241;43m*\u001B[39;49m\u001B[38;5;241;43m*\u001B[39;49m\u001B[43mkwargs\u001B[49m\u001B[43m)\u001B[49m\n",
      "File \u001B[0;32m~/Documents/GitHub/Math-198.1---Special-Problem/venv/lib/python3.10/site-packages/requests/api.py:59\u001B[0m, in \u001B[0;36mrequest\u001B[0;34m(method, url, **kwargs)\u001B[0m\n\u001B[1;32m     55\u001B[0m \u001B[38;5;66;03m# By using the 'with' statement we are sure the session is closed, thus we\u001B[39;00m\n\u001B[1;32m     56\u001B[0m \u001B[38;5;66;03m# avoid leaving sockets open which can trigger a ResourceWarning in some\u001B[39;00m\n\u001B[1;32m     57\u001B[0m \u001B[38;5;66;03m# cases, and look like a memory leak in others.\u001B[39;00m\n\u001B[1;32m     58\u001B[0m \u001B[38;5;28;01mwith\u001B[39;00m sessions\u001B[38;5;241m.\u001B[39mSession() \u001B[38;5;28;01mas\u001B[39;00m session:\n\u001B[0;32m---> 59\u001B[0m     \u001B[38;5;28;01mreturn\u001B[39;00m \u001B[43msession\u001B[49m\u001B[38;5;241;43m.\u001B[39;49m\u001B[43mrequest\u001B[49m\u001B[43m(\u001B[49m\u001B[43mmethod\u001B[49m\u001B[38;5;241;43m=\u001B[39;49m\u001B[43mmethod\u001B[49m\u001B[43m,\u001B[49m\u001B[43m \u001B[49m\u001B[43murl\u001B[49m\u001B[38;5;241;43m=\u001B[39;49m\u001B[43murl\u001B[49m\u001B[43m,\u001B[49m\u001B[43m \u001B[49m\u001B[38;5;241;43m*\u001B[39;49m\u001B[38;5;241;43m*\u001B[39;49m\u001B[43mkwargs\u001B[49m\u001B[43m)\u001B[49m\n",
      "File \u001B[0;32m~/Documents/GitHub/Math-198.1---Special-Problem/venv/lib/python3.10/site-packages/requests/sessions.py:589\u001B[0m, in \u001B[0;36mSession.request\u001B[0;34m(self, method, url, params, data, headers, cookies, files, auth, timeout, allow_redirects, proxies, hooks, stream, verify, cert, json)\u001B[0m\n\u001B[1;32m    584\u001B[0m send_kwargs \u001B[38;5;241m=\u001B[39m {\n\u001B[1;32m    585\u001B[0m     \u001B[38;5;124m\"\u001B[39m\u001B[38;5;124mtimeout\u001B[39m\u001B[38;5;124m\"\u001B[39m: timeout,\n\u001B[1;32m    586\u001B[0m     \u001B[38;5;124m\"\u001B[39m\u001B[38;5;124mallow_redirects\u001B[39m\u001B[38;5;124m\"\u001B[39m: allow_redirects,\n\u001B[1;32m    587\u001B[0m }\n\u001B[1;32m    588\u001B[0m send_kwargs\u001B[38;5;241m.\u001B[39mupdate(settings)\n\u001B[0;32m--> 589\u001B[0m resp \u001B[38;5;241m=\u001B[39m \u001B[38;5;28;43mself\u001B[39;49m\u001B[38;5;241;43m.\u001B[39;49m\u001B[43msend\u001B[49m\u001B[43m(\u001B[49m\u001B[43mprep\u001B[49m\u001B[43m,\u001B[49m\u001B[43m \u001B[49m\u001B[38;5;241;43m*\u001B[39;49m\u001B[38;5;241;43m*\u001B[39;49m\u001B[43msend_kwargs\u001B[49m\u001B[43m)\u001B[49m\n\u001B[1;32m    591\u001B[0m \u001B[38;5;28;01mreturn\u001B[39;00m resp\n",
      "File \u001B[0;32m~/Documents/GitHub/Math-198.1---Special-Problem/venv/lib/python3.10/site-packages/requests/sessions.py:703\u001B[0m, in \u001B[0;36mSession.send\u001B[0;34m(self, request, **kwargs)\u001B[0m\n\u001B[1;32m    700\u001B[0m start \u001B[38;5;241m=\u001B[39m preferred_clock()\n\u001B[1;32m    702\u001B[0m \u001B[38;5;66;03m# Send the request\u001B[39;00m\n\u001B[0;32m--> 703\u001B[0m r \u001B[38;5;241m=\u001B[39m \u001B[43madapter\u001B[49m\u001B[38;5;241;43m.\u001B[39;49m\u001B[43msend\u001B[49m\u001B[43m(\u001B[49m\u001B[43mrequest\u001B[49m\u001B[43m,\u001B[49m\u001B[43m \u001B[49m\u001B[38;5;241;43m*\u001B[39;49m\u001B[38;5;241;43m*\u001B[39;49m\u001B[43mkwargs\u001B[49m\u001B[43m)\u001B[49m\n\u001B[1;32m    705\u001B[0m \u001B[38;5;66;03m# Total elapsed time of the request (approximately)\u001B[39;00m\n\u001B[1;32m    706\u001B[0m elapsed \u001B[38;5;241m=\u001B[39m preferred_clock() \u001B[38;5;241m-\u001B[39m start\n",
      "File \u001B[0;32m~/Documents/GitHub/Math-198.1---Special-Problem/venv/lib/python3.10/site-packages/requests/adapters.py:667\u001B[0m, in \u001B[0;36mHTTPAdapter.send\u001B[0;34m(self, request, stream, timeout, verify, cert, proxies)\u001B[0m\n\u001B[1;32m    664\u001B[0m     timeout \u001B[38;5;241m=\u001B[39m TimeoutSauce(connect\u001B[38;5;241m=\u001B[39mtimeout, read\u001B[38;5;241m=\u001B[39mtimeout)\n\u001B[1;32m    666\u001B[0m \u001B[38;5;28;01mtry\u001B[39;00m:\n\u001B[0;32m--> 667\u001B[0m     resp \u001B[38;5;241m=\u001B[39m \u001B[43mconn\u001B[49m\u001B[38;5;241;43m.\u001B[39;49m\u001B[43murlopen\u001B[49m\u001B[43m(\u001B[49m\n\u001B[1;32m    668\u001B[0m \u001B[43m        \u001B[49m\u001B[43mmethod\u001B[49m\u001B[38;5;241;43m=\u001B[39;49m\u001B[43mrequest\u001B[49m\u001B[38;5;241;43m.\u001B[39;49m\u001B[43mmethod\u001B[49m\u001B[43m,\u001B[49m\n\u001B[1;32m    669\u001B[0m \u001B[43m        \u001B[49m\u001B[43murl\u001B[49m\u001B[38;5;241;43m=\u001B[39;49m\u001B[43murl\u001B[49m\u001B[43m,\u001B[49m\n\u001B[1;32m    670\u001B[0m \u001B[43m        \u001B[49m\u001B[43mbody\u001B[49m\u001B[38;5;241;43m=\u001B[39;49m\u001B[43mrequest\u001B[49m\u001B[38;5;241;43m.\u001B[39;49m\u001B[43mbody\u001B[49m\u001B[43m,\u001B[49m\n\u001B[1;32m    671\u001B[0m \u001B[43m        \u001B[49m\u001B[43mheaders\u001B[49m\u001B[38;5;241;43m=\u001B[39;49m\u001B[43mrequest\u001B[49m\u001B[38;5;241;43m.\u001B[39;49m\u001B[43mheaders\u001B[49m\u001B[43m,\u001B[49m\n\u001B[1;32m    672\u001B[0m \u001B[43m        \u001B[49m\u001B[43mredirect\u001B[49m\u001B[38;5;241;43m=\u001B[39;49m\u001B[38;5;28;43;01mFalse\u001B[39;49;00m\u001B[43m,\u001B[49m\n\u001B[1;32m    673\u001B[0m \u001B[43m        \u001B[49m\u001B[43massert_same_host\u001B[49m\u001B[38;5;241;43m=\u001B[39;49m\u001B[38;5;28;43;01mFalse\u001B[39;49;00m\u001B[43m,\u001B[49m\n\u001B[1;32m    674\u001B[0m \u001B[43m        \u001B[49m\u001B[43mpreload_content\u001B[49m\u001B[38;5;241;43m=\u001B[39;49m\u001B[38;5;28;43;01mFalse\u001B[39;49;00m\u001B[43m,\u001B[49m\n\u001B[1;32m    675\u001B[0m \u001B[43m        \u001B[49m\u001B[43mdecode_content\u001B[49m\u001B[38;5;241;43m=\u001B[39;49m\u001B[38;5;28;43;01mFalse\u001B[39;49;00m\u001B[43m,\u001B[49m\n\u001B[1;32m    676\u001B[0m \u001B[43m        \u001B[49m\u001B[43mretries\u001B[49m\u001B[38;5;241;43m=\u001B[39;49m\u001B[38;5;28;43mself\u001B[39;49m\u001B[38;5;241;43m.\u001B[39;49m\u001B[43mmax_retries\u001B[49m\u001B[43m,\u001B[49m\n\u001B[1;32m    677\u001B[0m \u001B[43m        \u001B[49m\u001B[43mtimeout\u001B[49m\u001B[38;5;241;43m=\u001B[39;49m\u001B[43mtimeout\u001B[49m\u001B[43m,\u001B[49m\n\u001B[1;32m    678\u001B[0m \u001B[43m        \u001B[49m\u001B[43mchunked\u001B[49m\u001B[38;5;241;43m=\u001B[39;49m\u001B[43mchunked\u001B[49m\u001B[43m,\u001B[49m\n\u001B[1;32m    679\u001B[0m \u001B[43m    \u001B[49m\u001B[43m)\u001B[49m\n\u001B[1;32m    681\u001B[0m \u001B[38;5;28;01mexcept\u001B[39;00m (ProtocolError, \u001B[38;5;167;01mOSError\u001B[39;00m) \u001B[38;5;28;01mas\u001B[39;00m err:\n\u001B[1;32m    682\u001B[0m     \u001B[38;5;28;01mraise\u001B[39;00m \u001B[38;5;167;01mConnectionError\u001B[39;00m(err, request\u001B[38;5;241m=\u001B[39mrequest)\n",
      "File \u001B[0;32m~/Documents/GitHub/Math-198.1---Special-Problem/venv/lib/python3.10/site-packages/urllib3/connectionpool.py:789\u001B[0m, in \u001B[0;36mHTTPConnectionPool.urlopen\u001B[0;34m(self, method, url, body, headers, retries, redirect, assert_same_host, timeout, pool_timeout, release_conn, chunked, body_pos, preload_content, decode_content, **response_kw)\u001B[0m\n\u001B[1;32m    786\u001B[0m response_conn \u001B[38;5;241m=\u001B[39m conn \u001B[38;5;28;01mif\u001B[39;00m \u001B[38;5;129;01mnot\u001B[39;00m release_conn \u001B[38;5;28;01melse\u001B[39;00m \u001B[38;5;28;01mNone\u001B[39;00m\n\u001B[1;32m    788\u001B[0m \u001B[38;5;66;03m# Make the request on the HTTPConnection object\u001B[39;00m\n\u001B[0;32m--> 789\u001B[0m response \u001B[38;5;241m=\u001B[39m \u001B[38;5;28;43mself\u001B[39;49m\u001B[38;5;241;43m.\u001B[39;49m\u001B[43m_make_request\u001B[49m\u001B[43m(\u001B[49m\n\u001B[1;32m    790\u001B[0m \u001B[43m    \u001B[49m\u001B[43mconn\u001B[49m\u001B[43m,\u001B[49m\n\u001B[1;32m    791\u001B[0m \u001B[43m    \u001B[49m\u001B[43mmethod\u001B[49m\u001B[43m,\u001B[49m\n\u001B[1;32m    792\u001B[0m \u001B[43m    \u001B[49m\u001B[43murl\u001B[49m\u001B[43m,\u001B[49m\n\u001B[1;32m    793\u001B[0m \u001B[43m    \u001B[49m\u001B[43mtimeout\u001B[49m\u001B[38;5;241;43m=\u001B[39;49m\u001B[43mtimeout_obj\u001B[49m\u001B[43m,\u001B[49m\n\u001B[1;32m    794\u001B[0m \u001B[43m    \u001B[49m\u001B[43mbody\u001B[49m\u001B[38;5;241;43m=\u001B[39;49m\u001B[43mbody\u001B[49m\u001B[43m,\u001B[49m\n\u001B[1;32m    795\u001B[0m \u001B[43m    \u001B[49m\u001B[43mheaders\u001B[49m\u001B[38;5;241;43m=\u001B[39;49m\u001B[43mheaders\u001B[49m\u001B[43m,\u001B[49m\n\u001B[1;32m    796\u001B[0m \u001B[43m    \u001B[49m\u001B[43mchunked\u001B[49m\u001B[38;5;241;43m=\u001B[39;49m\u001B[43mchunked\u001B[49m\u001B[43m,\u001B[49m\n\u001B[1;32m    797\u001B[0m \u001B[43m    \u001B[49m\u001B[43mretries\u001B[49m\u001B[38;5;241;43m=\u001B[39;49m\u001B[43mretries\u001B[49m\u001B[43m,\u001B[49m\n\u001B[1;32m    798\u001B[0m \u001B[43m    \u001B[49m\u001B[43mresponse_conn\u001B[49m\u001B[38;5;241;43m=\u001B[39;49m\u001B[43mresponse_conn\u001B[49m\u001B[43m,\u001B[49m\n\u001B[1;32m    799\u001B[0m \u001B[43m    \u001B[49m\u001B[43mpreload_content\u001B[49m\u001B[38;5;241;43m=\u001B[39;49m\u001B[43mpreload_content\u001B[49m\u001B[43m,\u001B[49m\n\u001B[1;32m    800\u001B[0m \u001B[43m    \u001B[49m\u001B[43mdecode_content\u001B[49m\u001B[38;5;241;43m=\u001B[39;49m\u001B[43mdecode_content\u001B[49m\u001B[43m,\u001B[49m\n\u001B[1;32m    801\u001B[0m \u001B[43m    \u001B[49m\u001B[38;5;241;43m*\u001B[39;49m\u001B[38;5;241;43m*\u001B[39;49m\u001B[43mresponse_kw\u001B[49m\u001B[43m,\u001B[49m\n\u001B[1;32m    802\u001B[0m \u001B[43m\u001B[49m\u001B[43m)\u001B[49m\n\u001B[1;32m    804\u001B[0m \u001B[38;5;66;03m# Everything went great!\u001B[39;00m\n\u001B[1;32m    805\u001B[0m clean_exit \u001B[38;5;241m=\u001B[39m \u001B[38;5;28;01mTrue\u001B[39;00m\n",
      "File \u001B[0;32m~/Documents/GitHub/Math-198.1---Special-Problem/venv/lib/python3.10/site-packages/urllib3/connectionpool.py:466\u001B[0m, in \u001B[0;36mHTTPConnectionPool._make_request\u001B[0;34m(self, conn, method, url, body, headers, retries, timeout, chunked, response_conn, preload_content, decode_content, enforce_content_length)\u001B[0m\n\u001B[1;32m    463\u001B[0m \u001B[38;5;28;01mtry\u001B[39;00m:\n\u001B[1;32m    464\u001B[0m     \u001B[38;5;66;03m# Trigger any extra validation we need to do.\u001B[39;00m\n\u001B[1;32m    465\u001B[0m     \u001B[38;5;28;01mtry\u001B[39;00m:\n\u001B[0;32m--> 466\u001B[0m         \u001B[38;5;28;43mself\u001B[39;49m\u001B[38;5;241;43m.\u001B[39;49m\u001B[43m_validate_conn\u001B[49m\u001B[43m(\u001B[49m\u001B[43mconn\u001B[49m\u001B[43m)\u001B[49m\n\u001B[1;32m    467\u001B[0m     \u001B[38;5;28;01mexcept\u001B[39;00m (SocketTimeout, BaseSSLError) \u001B[38;5;28;01mas\u001B[39;00m e:\n\u001B[1;32m    468\u001B[0m         \u001B[38;5;28mself\u001B[39m\u001B[38;5;241m.\u001B[39m_raise_timeout(err\u001B[38;5;241m=\u001B[39me, url\u001B[38;5;241m=\u001B[39murl, timeout_value\u001B[38;5;241m=\u001B[39mconn\u001B[38;5;241m.\u001B[39mtimeout)\n",
      "File \u001B[0;32m~/Documents/GitHub/Math-198.1---Special-Problem/venv/lib/python3.10/site-packages/urllib3/connectionpool.py:1095\u001B[0m, in \u001B[0;36mHTTPSConnectionPool._validate_conn\u001B[0;34m(self, conn)\u001B[0m\n\u001B[1;32m   1093\u001B[0m \u001B[38;5;66;03m# Force connect early to allow us to validate the connection.\u001B[39;00m\n\u001B[1;32m   1094\u001B[0m \u001B[38;5;28;01mif\u001B[39;00m conn\u001B[38;5;241m.\u001B[39mis_closed:\n\u001B[0;32m-> 1095\u001B[0m     \u001B[43mconn\u001B[49m\u001B[38;5;241;43m.\u001B[39;49m\u001B[43mconnect\u001B[49m\u001B[43m(\u001B[49m\u001B[43m)\u001B[49m\n\u001B[1;32m   1097\u001B[0m \u001B[38;5;66;03m# TODO revise this, see https://github.com/urllib3/urllib3/issues/2791\u001B[39;00m\n\u001B[1;32m   1098\u001B[0m \u001B[38;5;28;01mif\u001B[39;00m \u001B[38;5;129;01mnot\u001B[39;00m conn\u001B[38;5;241m.\u001B[39mis_verified \u001B[38;5;129;01mand\u001B[39;00m \u001B[38;5;129;01mnot\u001B[39;00m conn\u001B[38;5;241m.\u001B[39mproxy_is_verified:\n",
      "File \u001B[0;32m~/Documents/GitHub/Math-198.1---Special-Problem/venv/lib/python3.10/site-packages/urllib3/connection.py:693\u001B[0m, in \u001B[0;36mHTTPSConnection.connect\u001B[0;34m(self)\u001B[0m\n\u001B[1;32m    691\u001B[0m \u001B[38;5;28;01mtry\u001B[39;00m:\n\u001B[1;32m    692\u001B[0m     sock: socket\u001B[38;5;241m.\u001B[39msocket \u001B[38;5;241m|\u001B[39m ssl\u001B[38;5;241m.\u001B[39mSSLSocket\n\u001B[0;32m--> 693\u001B[0m     \u001B[38;5;28mself\u001B[39m\u001B[38;5;241m.\u001B[39msock \u001B[38;5;241m=\u001B[39m sock \u001B[38;5;241m=\u001B[39m \u001B[38;5;28;43mself\u001B[39;49m\u001B[38;5;241;43m.\u001B[39;49m\u001B[43m_new_conn\u001B[49m\u001B[43m(\u001B[49m\u001B[43m)\u001B[49m\n\u001B[1;32m    694\u001B[0m     server_hostname: \u001B[38;5;28mstr\u001B[39m \u001B[38;5;241m=\u001B[39m \u001B[38;5;28mself\u001B[39m\u001B[38;5;241m.\u001B[39mhost\n\u001B[1;32m    695\u001B[0m     tls_in_tls \u001B[38;5;241m=\u001B[39m \u001B[38;5;28;01mFalse\u001B[39;00m\n",
      "File \u001B[0;32m~/Documents/GitHub/Math-198.1---Special-Problem/venv/lib/python3.10/site-packages/urllib3/connection.py:199\u001B[0m, in \u001B[0;36mHTTPConnection._new_conn\u001B[0;34m(self)\u001B[0m\n\u001B[1;32m    194\u001B[0m \u001B[38;5;250m\u001B[39m\u001B[38;5;124;03m\"\"\"Establish a socket connection and set nodelay settings on it.\u001B[39;00m\n\u001B[1;32m    195\u001B[0m \n\u001B[1;32m    196\u001B[0m \u001B[38;5;124;03m:return: New socket connection.\u001B[39;00m\n\u001B[1;32m    197\u001B[0m \u001B[38;5;124;03m\"\"\"\u001B[39;00m\n\u001B[1;32m    198\u001B[0m \u001B[38;5;28;01mtry\u001B[39;00m:\n\u001B[0;32m--> 199\u001B[0m     sock \u001B[38;5;241m=\u001B[39m \u001B[43mconnection\u001B[49m\u001B[38;5;241;43m.\u001B[39;49m\u001B[43mcreate_connection\u001B[49m\u001B[43m(\u001B[49m\n\u001B[1;32m    200\u001B[0m \u001B[43m        \u001B[49m\u001B[43m(\u001B[49m\u001B[38;5;28;43mself\u001B[39;49m\u001B[38;5;241;43m.\u001B[39;49m\u001B[43m_dns_host\u001B[49m\u001B[43m,\u001B[49m\u001B[43m \u001B[49m\u001B[38;5;28;43mself\u001B[39;49m\u001B[38;5;241;43m.\u001B[39;49m\u001B[43mport\u001B[49m\u001B[43m)\u001B[49m\u001B[43m,\u001B[49m\n\u001B[1;32m    201\u001B[0m \u001B[43m        \u001B[49m\u001B[38;5;28;43mself\u001B[39;49m\u001B[38;5;241;43m.\u001B[39;49m\u001B[43mtimeout\u001B[49m\u001B[43m,\u001B[49m\n\u001B[1;32m    202\u001B[0m \u001B[43m        \u001B[49m\u001B[43msource_address\u001B[49m\u001B[38;5;241;43m=\u001B[39;49m\u001B[38;5;28;43mself\u001B[39;49m\u001B[38;5;241;43m.\u001B[39;49m\u001B[43msource_address\u001B[49m\u001B[43m,\u001B[49m\n\u001B[1;32m    203\u001B[0m \u001B[43m        \u001B[49m\u001B[43msocket_options\u001B[49m\u001B[38;5;241;43m=\u001B[39;49m\u001B[38;5;28;43mself\u001B[39;49m\u001B[38;5;241;43m.\u001B[39;49m\u001B[43msocket_options\u001B[49m\u001B[43m,\u001B[49m\n\u001B[1;32m    204\u001B[0m \u001B[43m    \u001B[49m\u001B[43m)\u001B[49m\n\u001B[1;32m    205\u001B[0m \u001B[38;5;28;01mexcept\u001B[39;00m socket\u001B[38;5;241m.\u001B[39mgaierror \u001B[38;5;28;01mas\u001B[39;00m e:\n\u001B[1;32m    206\u001B[0m     \u001B[38;5;28;01mraise\u001B[39;00m NameResolutionError(\u001B[38;5;28mself\u001B[39m\u001B[38;5;241m.\u001B[39mhost, \u001B[38;5;28mself\u001B[39m, e) \u001B[38;5;28;01mfrom\u001B[39;00m \u001B[38;5;21;01me\u001B[39;00m\n",
      "File \u001B[0;32m~/Documents/GitHub/Math-198.1---Special-Problem/venv/lib/python3.10/site-packages/urllib3/util/connection.py:60\u001B[0m, in \u001B[0;36mcreate_connection\u001B[0;34m(address, timeout, source_address, socket_options)\u001B[0m\n\u001B[1;32m     57\u001B[0m \u001B[38;5;28;01mexcept\u001B[39;00m \u001B[38;5;167;01mUnicodeError\u001B[39;00m:\n\u001B[1;32m     58\u001B[0m     \u001B[38;5;28;01mraise\u001B[39;00m LocationParseError(\u001B[38;5;124mf\u001B[39m\u001B[38;5;124m\"\u001B[39m\u001B[38;5;124m'\u001B[39m\u001B[38;5;132;01m{\u001B[39;00mhost\u001B[38;5;132;01m}\u001B[39;00m\u001B[38;5;124m'\u001B[39m\u001B[38;5;124m, label empty or too long\u001B[39m\u001B[38;5;124m\"\u001B[39m) \u001B[38;5;28;01mfrom\u001B[39;00m \u001B[38;5;28;01mNone\u001B[39;00m\n\u001B[0;32m---> 60\u001B[0m \u001B[38;5;28;01mfor\u001B[39;00m res \u001B[38;5;129;01min\u001B[39;00m \u001B[43msocket\u001B[49m\u001B[38;5;241;43m.\u001B[39;49m\u001B[43mgetaddrinfo\u001B[49m\u001B[43m(\u001B[49m\u001B[43mhost\u001B[49m\u001B[43m,\u001B[49m\u001B[43m \u001B[49m\u001B[43mport\u001B[49m\u001B[43m,\u001B[49m\u001B[43m \u001B[49m\u001B[43mfamily\u001B[49m\u001B[43m,\u001B[49m\u001B[43m \u001B[49m\u001B[43msocket\u001B[49m\u001B[38;5;241;43m.\u001B[39;49m\u001B[43mSOCK_STREAM\u001B[49m\u001B[43m)\u001B[49m:\n\u001B[1;32m     61\u001B[0m     af, socktype, proto, canonname, sa \u001B[38;5;241m=\u001B[39m res\n\u001B[1;32m     62\u001B[0m     sock \u001B[38;5;241m=\u001B[39m \u001B[38;5;28;01mNone\u001B[39;00m\n",
      "File \u001B[0;32m/usr/lib/python3.10/socket.py:955\u001B[0m, in \u001B[0;36mgetaddrinfo\u001B[0;34m(host, port, family, type, proto, flags)\u001B[0m\n\u001B[1;32m    952\u001B[0m \u001B[38;5;66;03m# We override this function since we want to translate the numeric family\u001B[39;00m\n\u001B[1;32m    953\u001B[0m \u001B[38;5;66;03m# and socket type values to enum constants.\u001B[39;00m\n\u001B[1;32m    954\u001B[0m addrlist \u001B[38;5;241m=\u001B[39m []\n\u001B[0;32m--> 955\u001B[0m \u001B[38;5;28;01mfor\u001B[39;00m res \u001B[38;5;129;01min\u001B[39;00m \u001B[43m_socket\u001B[49m\u001B[38;5;241;43m.\u001B[39;49m\u001B[43mgetaddrinfo\u001B[49m\u001B[43m(\u001B[49m\u001B[43mhost\u001B[49m\u001B[43m,\u001B[49m\u001B[43m \u001B[49m\u001B[43mport\u001B[49m\u001B[43m,\u001B[49m\u001B[43m \u001B[49m\u001B[43mfamily\u001B[49m\u001B[43m,\u001B[49m\u001B[43m \u001B[49m\u001B[38;5;28;43mtype\u001B[39;49m\u001B[43m,\u001B[49m\u001B[43m \u001B[49m\u001B[43mproto\u001B[49m\u001B[43m,\u001B[49m\u001B[43m \u001B[49m\u001B[43mflags\u001B[49m\u001B[43m)\u001B[49m:\n\u001B[1;32m    956\u001B[0m     af, socktype, proto, canonname, sa \u001B[38;5;241m=\u001B[39m res\n\u001B[1;32m    957\u001B[0m     addrlist\u001B[38;5;241m.\u001B[39mappend((_intenum_converter(af, AddressFamily),\n\u001B[1;32m    958\u001B[0m                      _intenum_converter(socktype, SocketKind),\n\u001B[1;32m    959\u001B[0m                      proto, canonname, sa))\n",
      "\u001B[0;31mKeyboardInterrupt\u001B[0m: "
     ]
    }
   ],
   "execution_count": 6
  },
  {
   "metadata": {
    "ExecuteTime": {
     "end_time": "2025-02-11T17:51:07.636507051Z",
     "start_time": "2025-02-10T06:57:45.788475Z"
    }
   },
   "cell_type": "code",
   "source": [
    "hourly_dataframe = pd.DataFrame(data = hourly_data)\n",
    "hourly_dataframe.info()\n",
    "\n"
   ],
   "id": "2200896333043944",
   "outputs": [
    {
     "name": "stdout",
     "output_type": "stream",
     "text": [
      "<class 'pandas.core.frame.DataFrame'>\n",
      "RangeIndex: 96432 entries, 0 to 96431\n",
      "Data columns (total 3 columns):\n",
      " #   Column                Non-Null Count  Dtype              \n",
      "---  ------                --------------  -----              \n",
      " 0   date                  96432 non-null  datetime64[ns, UTC]\n",
      " 1   temperature_2m        96432 non-null  float32            \n",
      " 2   relative_humidity_2m  96432 non-null  float32            \n",
      "dtypes: datetime64[ns, UTC](1), float32(2)\n",
      "memory usage: 1.5 MB\n"
     ]
    }
   ],
   "execution_count": 21
  },
  {
   "metadata": {
    "ExecuteTime": {
     "end_time": "2025-02-11T17:51:07.636685479Z",
     "start_time": "2025-02-10T06:59:40.200332Z"
    }
   },
   "cell_type": "code",
   "source": "hourly_dataframe[hourly_dataframe['date'].dt.hour == 3]",
   "id": "489ec039fbcb5e3f",
   "outputs": [
    {
     "data": {
      "text/plain": [
       "                           date  temperature_2m  relative_humidity_2m\n",
       "3     2014-01-01 03:00:00+00:00       26.639500             86.448036\n",
       "27    2014-01-02 03:00:00+00:00       26.039499             87.965660\n",
       "51    2014-01-03 03:00:00+00:00       27.639500             83.248398\n",
       "75    2014-01-04 03:00:00+00:00       28.189499             75.920464\n",
       "99    2014-01-05 03:00:00+00:00       26.989500             87.521034\n",
       "...                         ...             ...                   ...\n",
       "96315 2024-12-27 03:00:00+00:00       26.598499             91.496414\n",
       "96339 2024-12-28 03:00:00+00:00       25.598499             95.064598\n",
       "96363 2024-12-29 03:00:00+00:00       28.298500             80.633362\n",
       "96387 2024-12-30 03:00:00+00:00       28.198500             82.324074\n",
       "96411 2024-12-31 03:00:00+00:00       28.298500             83.075203\n",
       "\n",
       "[4018 rows x 3 columns]"
      ],
      "text/html": [
       "<div>\n",
       "<style scoped>\n",
       "    .dataframe tbody tr th:only-of-type {\n",
       "        vertical-align: middle;\n",
       "    }\n",
       "\n",
       "    .dataframe tbody tr th {\n",
       "        vertical-align: top;\n",
       "    }\n",
       "\n",
       "    .dataframe thead th {\n",
       "        text-align: right;\n",
       "    }\n",
       "</style>\n",
       "<table border=\"1\" class=\"dataframe\">\n",
       "  <thead>\n",
       "    <tr style=\"text-align: right;\">\n",
       "      <th></th>\n",
       "      <th>date</th>\n",
       "      <th>temperature_2m</th>\n",
       "      <th>relative_humidity_2m</th>\n",
       "    </tr>\n",
       "  </thead>\n",
       "  <tbody>\n",
       "    <tr>\n",
       "      <th>3</th>\n",
       "      <td>2014-01-01 03:00:00+00:00</td>\n",
       "      <td>26.639500</td>\n",
       "      <td>86.448036</td>\n",
       "    </tr>\n",
       "    <tr>\n",
       "      <th>27</th>\n",
       "      <td>2014-01-02 03:00:00+00:00</td>\n",
       "      <td>26.039499</td>\n",
       "      <td>87.965660</td>\n",
       "    </tr>\n",
       "    <tr>\n",
       "      <th>51</th>\n",
       "      <td>2014-01-03 03:00:00+00:00</td>\n",
       "      <td>27.639500</td>\n",
       "      <td>83.248398</td>\n",
       "    </tr>\n",
       "    <tr>\n",
       "      <th>75</th>\n",
       "      <td>2014-01-04 03:00:00+00:00</td>\n",
       "      <td>28.189499</td>\n",
       "      <td>75.920464</td>\n",
       "    </tr>\n",
       "    <tr>\n",
       "      <th>99</th>\n",
       "      <td>2014-01-05 03:00:00+00:00</td>\n",
       "      <td>26.989500</td>\n",
       "      <td>87.521034</td>\n",
       "    </tr>\n",
       "    <tr>\n",
       "      <th>...</th>\n",
       "      <td>...</td>\n",
       "      <td>...</td>\n",
       "      <td>...</td>\n",
       "    </tr>\n",
       "    <tr>\n",
       "      <th>96315</th>\n",
       "      <td>2024-12-27 03:00:00+00:00</td>\n",
       "      <td>26.598499</td>\n",
       "      <td>91.496414</td>\n",
       "    </tr>\n",
       "    <tr>\n",
       "      <th>96339</th>\n",
       "      <td>2024-12-28 03:00:00+00:00</td>\n",
       "      <td>25.598499</td>\n",
       "      <td>95.064598</td>\n",
       "    </tr>\n",
       "    <tr>\n",
       "      <th>96363</th>\n",
       "      <td>2024-12-29 03:00:00+00:00</td>\n",
       "      <td>28.298500</td>\n",
       "      <td>80.633362</td>\n",
       "    </tr>\n",
       "    <tr>\n",
       "      <th>96387</th>\n",
       "      <td>2024-12-30 03:00:00+00:00</td>\n",
       "      <td>28.198500</td>\n",
       "      <td>82.324074</td>\n",
       "    </tr>\n",
       "    <tr>\n",
       "      <th>96411</th>\n",
       "      <td>2024-12-31 03:00:00+00:00</td>\n",
       "      <td>28.298500</td>\n",
       "      <td>83.075203</td>\n",
       "    </tr>\n",
       "  </tbody>\n",
       "</table>\n",
       "<p>4018 rows × 3 columns</p>\n",
       "</div>"
      ]
     },
     "execution_count": 23,
     "metadata": {},
     "output_type": "execute_result"
    }
   ],
   "execution_count": 23
  },
  {
   "metadata": {},
   "cell_type": "code",
   "outputs": [],
   "execution_count": null,
   "source": "",
   "id": "f1244d9f142b8b09"
  }
 ],
 "metadata": {
  "kernelspec": {
   "display_name": "Python 3",
   "language": "python",
   "name": "python3"
  },
  "language_info": {
   "codemirror_mode": {
    "name": "ipython",
    "version": 2
   },
   "file_extension": ".py",
   "mimetype": "text/x-python",
   "name": "python",
   "nbconvert_exporter": "python",
   "pygments_lexer": "ipython2",
   "version": "2.7.6"
  }
 },
 "nbformat": 4,
 "nbformat_minor": 5
}
