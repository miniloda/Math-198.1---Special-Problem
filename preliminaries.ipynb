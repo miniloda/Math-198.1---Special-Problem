{
 "cells": [
  {
   "cell_type": "code",
   "id": "initial_id",
   "metadata": {
    "collapsed": true,
    "ExecuteTime": {
     "end_time": "2025-02-04T17:06:16.737853Z",
     "start_time": "2025-02-04T17:06:16.728708Z"
    }
   },
   "source": "import utils",
   "outputs": [],
   "execution_count": 1
  },
  {
   "metadata": {
    "ExecuteTime": {
     "end_time": "2025-02-04T17:06:17.254077Z",
     "start_time": "2025-02-04T17:06:17.249748Z"
    }
   },
   "cell_type": "code",
   "source": [
    "municipal_list = []\n",
    "with open('municipals.txt') as f:\n",
    "    for line in f:\n",
    "        municipal_list.append(line.strip())\n",
    "print(municipal_list)"
   ],
   "id": "c63d0b8f5ac5a658",
   "outputs": [
    {
     "name": "stdout",
     "output_type": "stream",
     "text": [
      "['Ajuy', 'Alimodian', 'Anilao', 'Badiangan', 'Balasan', 'Banate', 'Barotac Nuevo', 'Barotac Viejo', 'Batad', 'Bingawan', 'Cabatuan', 'Calinog', 'Carles', 'Passi City', 'Concepcion', 'Dingle', 'Dumangas', 'Estancia', 'Guimbal', 'Igbaras', 'Janiuay', 'Lambunao', 'Leganes', 'Lemery', 'Leon', 'Maasin', 'Miagao', 'Mina', 'New Lucena', 'Oton', 'Pavia', 'Pototan', 'San Dionisio', 'San Enrique', 'San Joaquin', 'San Rafael', 'Santa Barbara', 'Sara', 'Tigbauan', 'Tubungan', 'Zarraga']\n"
     ]
    }
   ],
   "execution_count": 2
  },
  {
   "metadata": {
    "ExecuteTime": {
     "end_time": "2025-02-04T17:06:27.970047Z",
     "start_time": "2025-02-04T17:06:17.798857Z"
    }
   },
   "cell_type": "code",
   "source": [
    "# make a csv file for municipals and their corresponding coordinates\n",
    "file_name = 'municipal_coordinates.csv'\n",
    "column_names = ['Municipality', 'Latitude', 'Longitude']\n",
    "municipal_coords = utils.municipal_coordinates(file_name, municipal_list, column_names, rewrite_file=True)"
   ],
   "id": "82afc9135337f2fa",
   "outputs": [],
   "execution_count": 3
  },
  {
   "metadata": {
    "ExecuteTime": {
     "end_time": "2025-02-04T17:06:28.900525Z",
     "start_time": "2025-02-04T17:06:28.892699Z"
    }
   },
   "cell_type": "code",
   "source": "municipal_coords",
   "id": "9605c07121b322f6",
   "outputs": [
    {
     "data": {
      "text/plain": [
       "{'Ajuy': (11.1246161, 123.0113568),\n",
       " 'Alimodian': (10.8773088, 122.367428),\n",
       " 'Anilao': (11.0002604, 122.740723),\n",
       " 'Badiangan': (10.9964817, 122.5259596),\n",
       " 'Balasan': (11.4592707, 123.0901539),\n",
       " 'Banate': (11.000592, 122.8155554),\n",
       " 'Barotac Nuevo': (10.9216153, 122.740723),\n",
       " 'Barotac Viejo': (11.0625316, 122.8761309),\n",
       " 'Batad': (11.4169972, 123.1126559),\n",
       " 'Bingawan': (11.2052871, 122.593828),\n",
       " 'Cabatuan': (10.9091869, 122.5146439),\n",
       " 'Calinog': (11.1457896, 122.5146439),\n",
       " 'Carles': (11.5687532, 123.2363246),\n",
       " 'Passi City': (11.1687967, 122.650351),\n",
       " 'Concepcion': (11.2147313, 123.1044322),\n",
       " 'Dingle': (11.0111309, 122.650351),\n",
       " 'Dumangas': (10.8484102, 122.695547),\n",
       " 'Estancia': (11.4619823, 123.1463992),\n",
       " 'Guimbal': (10.6686639, 122.2994127),\n",
       " 'Igbaras': (10.7162878, 122.2649758),\n",
       " 'Janiuay': (10.9987667, 122.424074),\n",
       " 'Lambunao': (11.077708, 122.424074),\n",
       " 'Leganes': (10.7916725, 122.593828),\n",
       " 'Lemery': (11.214412, 122.9212265),\n",
       " 'Leon': (10.8208599, 122.3447611),\n",
       " 'Maasin': (10.8914767, 122.4333105),\n",
       " 'Miagao': (10.6705468, 122.1973081),\n",
       " 'Mina': (10.9516879, 122.5712101),\n",
       " 'New Lucena': (10.8729712, 122.5712101),\n",
       " 'Oton': (10.7240176, 122.4562615),\n",
       " 'Pavia': (10.7603368, 122.5259596),\n",
       " 'Pototan': (10.9239245, 122.6390489),\n",
       " 'San Dionisio': (11.3101048, 123.1014056),\n",
       " 'San Enrique': (11.1098942, 122.7294309),\n",
       " 'San Joaquin': (10.5887998, 122.1396745),\n",
       " 'San Rafael': (11.1467423, 122.831015),\n",
       " 'Santa Barbara': (10.8166467, 122.5485873),\n",
       " 'Sara': (11.2932407, 123.000095),\n",
       " 'Tigbauan': (10.7283347, 122.3787597),\n",
       " 'Tubungan': (10.7893861, 122.2767313),\n",
       " 'Zarraga': (10.8283042, 122.6164409)}"
      ]
     },
     "execution_count": 4,
     "metadata": {},
     "output_type": "execute_result"
    }
   ],
   "execution_count": 4
  },
  {
   "metadata": {
    "ExecuteTime": {
     "end_time": "2025-02-04T17:07:50.671534Z",
     "start_time": "2025-02-04T17:07:49.706227Z"
    }
   },
   "cell_type": "code",
   "source": [
    "# get the weather data for each municipality (running list, as we have limited calls per day)\n",
    "weather_data = utils.weather_to_jsonl(municipal_coords, 'municipal_weather_data.jsonl', rewrite_file=False)"
   ],
   "id": "7cb634644785a0d",
   "outputs": [
    {
     "ename": "Exception",
     "evalue": "Error: Your account is temporary blocked due to exceeding of requests limitation of your subscription type. Please choose the proper subscription https://openweathermap.org/price",
     "output_type": "error",
     "traceback": [
      "\u001B[0;31m---------------------------------------------------------------------------\u001B[0m",
      "\u001B[0;31mException\u001B[0m                                 Traceback (most recent call last)",
      "Cell \u001B[0;32mIn[6], line 2\u001B[0m\n\u001B[1;32m      1\u001B[0m \u001B[38;5;66;03m# get the weather data for each municipality (running list, as we have limited calls per day)\u001B[39;00m\n\u001B[0;32m----> 2\u001B[0m weather_data \u001B[38;5;241m=\u001B[39m \u001B[43mutils\u001B[49m\u001B[38;5;241;43m.\u001B[39;49m\u001B[43mweather_to_jsonl\u001B[49m\u001B[43m(\u001B[49m\u001B[43mmunicipal_coords\u001B[49m\u001B[43m,\u001B[49m\u001B[43m \u001B[49m\u001B[38;5;124;43m'\u001B[39;49m\u001B[38;5;124;43mmunicipal_weather_data.jsonl\u001B[39;49m\u001B[38;5;124;43m'\u001B[39;49m\u001B[43m,\u001B[49m\u001B[43m \u001B[49m\u001B[43mrewrite_file\u001B[49m\u001B[38;5;241;43m=\u001B[39;49m\u001B[38;5;28;43;01mFalse\u001B[39;49;00m\u001B[43m)\u001B[49m\n",
      "File \u001B[0;32m~/Documents/GitHub/Math-198.1---Special-Problem/utils.py:165\u001B[0m, in \u001B[0;36mweather_to_jsonl\u001B[0;34m(municipal_dict, file_name, rewrite_file)\u001B[0m\n\u001B[1;32m    162\u001B[0m date_str \u001B[38;5;241m=\u001B[39m datetime\u001B[38;5;241m.\u001B[39mdatetime\u001B[38;5;241m.\u001B[39mutcfromtimestamp(timestamp)\u001B[38;5;241m.\u001B[39mstrftime(\u001B[38;5;124m'\u001B[39m\u001B[38;5;124m%\u001B[39m\u001B[38;5;124mY-\u001B[39m\u001B[38;5;124m%\u001B[39m\u001B[38;5;124mm-\u001B[39m\u001B[38;5;132;01m%d\u001B[39;00m\u001B[38;5;124m'\u001B[39m)\n\u001B[1;32m    164\u001B[0m \u001B[38;5;66;03m# Fetch weather data (assuming get_weather_data function exists)\u001B[39;00m\n\u001B[0;32m--> 165\u001B[0m weather_data \u001B[38;5;241m=\u001B[39m \u001B[43mget_weather_data\u001B[49m\u001B[43m(\u001B[49m\u001B[43mdate_str\u001B[49m\u001B[43m,\u001B[49m\u001B[43m \u001B[49m\u001B[43mlat\u001B[49m\u001B[43m,\u001B[49m\u001B[43m \u001B[49m\u001B[43mlon\u001B[49m\u001B[43m)\u001B[49m\n\u001B[1;32m    166\u001B[0m weather_data[\u001B[38;5;124m'\u001B[39m\u001B[38;5;124mmunicipal\u001B[39m\u001B[38;5;124m'\u001B[39m] \u001B[38;5;241m=\u001B[39m municipal\n\u001B[1;32m    167\u001B[0m weather_data[\u001B[38;5;124m'\u001B[39m\u001B[38;5;124mdate\u001B[39m\u001B[38;5;124m'\u001B[39m] \u001B[38;5;241m=\u001B[39m timestamp  \u001B[38;5;66;03m# Store timestamp in the data\u001B[39;00m\n",
      "File \u001B[0;32m~/Documents/GitHub/Math-198.1---Special-Problem/utils.py:105\u001B[0m, in \u001B[0;36mget_weather_data\u001B[0;34m(date, lat, long)\u001B[0m\n\u001B[1;32m    103\u001B[0m response \u001B[38;5;241m=\u001B[39m requests\u001B[38;5;241m.\u001B[39mget(url)\u001B[38;5;241m.\u001B[39mjson()\n\u001B[1;32m    104\u001B[0m \u001B[38;5;28;01mif\u001B[39;00m \u001B[38;5;124m'\u001B[39m\u001B[38;5;124mcod\u001B[39m\u001B[38;5;124m'\u001B[39m \u001B[38;5;129;01min\u001B[39;00m response\u001B[38;5;241m.\u001B[39mkeys():\n\u001B[0;32m--> 105\u001B[0m     \u001B[38;5;28;01mraise\u001B[39;00m \u001B[38;5;167;01mException\u001B[39;00m(\u001B[38;5;124mf\u001B[39m\u001B[38;5;124m\"\u001B[39m\u001B[38;5;124mError: \u001B[39m\u001B[38;5;132;01m{\u001B[39;00mresponse[\u001B[38;5;124m'\u001B[39m\u001B[38;5;124mmessage\u001B[39m\u001B[38;5;124m'\u001B[39m]\u001B[38;5;132;01m}\u001B[39;00m\u001B[38;5;124m\"\u001B[39m)\n\u001B[1;32m    106\u001B[0m data \u001B[38;5;241m=\u001B[39m response[\u001B[38;5;124m'\u001B[39m\u001B[38;5;124mdata\u001B[39m\u001B[38;5;124m'\u001B[39m][\u001B[38;5;241m0\u001B[39m]\n\u001B[1;32m    107\u001B[0m \u001B[38;5;28;01mreturn\u001B[39;00m data\n",
      "\u001B[0;31mException\u001B[0m: Error: Your account is temporary blocked due to exceeding of requests limitation of your subscription type. Please choose the proper subscription https://openweathermap.org/price"
     ]
    }
   ],
   "execution_count": 6
  },
  {
   "metadata": {},
   "cell_type": "code",
   "outputs": [],
   "execution_count": null,
   "source": "",
   "id": "10f3673cd81259ce"
  }
 ],
 "metadata": {
  "kernelspec": {
   "display_name": "Python 3",
   "language": "python",
   "name": "python3"
  },
  "language_info": {
   "codemirror_mode": {
    "name": "ipython",
    "version": 2
   },
   "file_extension": ".py",
   "mimetype": "text/x-python",
   "name": "python",
   "nbconvert_exporter": "python",
   "pygments_lexer": "ipython2",
   "version": "2.7.6"
  }
 },
 "nbformat": 4,
 "nbformat_minor": 5
}
